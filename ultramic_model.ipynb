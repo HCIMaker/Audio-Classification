{
 "cells": [
  {
   "cell_type": "code",
   "execution_count": 3,
   "metadata": {},
   "outputs": [
    {
     "name": "stdout",
     "output_type": "stream",
     "text": [
      "The autoreload extension is already loaded. To reload it, use:\n",
      "  %reload_ext autoreload\n"
     ]
    }
   ],
   "source": [
    "%load_ext autoreload\n",
    "%autoreload 2"
   ]
  },
  {
   "cell_type": "code",
   "execution_count": 4,
   "metadata": {},
   "outputs": [],
   "source": [
    "import numpy as np\n",
    "from train import *\n",
    "from tensorflow.keras import layers\n",
    "from tensorflow.keras.layers import TimeDistributed, LayerNormalization\n",
    "from tensorflow.keras.models import Model\n",
    "from tensorflow.keras.regularizers import l2\n",
    "import kapre\n",
    "from kapre.composed import get_melspectrogram_layer\n",
    "import tensorflow as tf\n",
    "import os"
   ]
  },
  {
   "cell_type": "code",
   "execution_count": 5,
   "metadata": {},
   "outputs": [
    {
     "name": "stdout",
     "output_type": "stream",
     "text": [
      "Number of Training Object: 2\n",
      "Number of Training instance for each object: 300\n",
      "Dimension of each instance: (36, 234)\n"
     ]
    }
   ],
   "source": [
    "#Prepare for Training\n",
    "train_data = np.abs(np.load(\"stft_object_clipping.npy\"))\n",
    "num_object = train_data.shape[0]\n",
    "num_instance = train_data.shape[1]\n",
    "dim_instance = train_data.shape[2:]\n",
    "print(\"Number of Training Object:\",num_object)\n",
    "print(\"Number of Training instance for each object:\",num_instance)\n",
    "print(\"Dimension of each instance:\",dim_instance)"
   ]
  },
  {
   "cell_type": "code",
   "execution_count": 6,
   "metadata": {},
   "outputs": [
    {
     "data": {
      "text/plain": [
       "LabelEncoder()"
      ]
     },
     "execution_count": 6,
     "metadata": {},
     "output_type": "execute_result"
    }
   ],
   "source": [
    "classes = sorted(os.listdir(\"wavfiles_ultramic\"))\n",
    "le = LabelEncoder()\n",
    "le.fit(classes)"
   ]
  },
  {
   "cell_type": "code",
   "execution_count": 7,
   "metadata": {},
   "outputs": [
    {
     "name": "stdout",
     "output_type": "stream",
     "text": [
      "(600, 36, 234)\n"
     ]
    }
   ],
   "source": [
    "#Create label for each instance\n",
    "labels = []\n",
    "for i in range(0,num_object):\n",
    "    for j in range(0,num_instance):\n",
    "        labels.append(classes[i])\n",
    "labels = le.transform(labels)\n",
    "train_data = train_data.reshape(num_object*num_instance,dim_instance[0],dim_instance[1])\n",
    "print(train_data.shape)"
   ]
  },
  {
   "cell_type": "code",
   "execution_count": 8,
   "metadata": {},
   "outputs": [],
   "source": [
    "trainset, valset, label_train, label_val = train_test_split(train_data,\n",
    "                                                    labels,\n",
    "                                                    test_size=0.2,\n",
    "                                                    random_state=0)"
   ]
  },
  {
   "cell_type": "code",
   "execution_count": 9,
   "metadata": {},
   "outputs": [],
   "source": [
    "class DataGenerator_npy(tf.keras.utils.Sequence):\n",
    "    def __init__(self, data, labels, dim, n_classes,\n",
    "                 batch_size=8, shuffle=True):\n",
    "        self.data = data\n",
    "        self.labels = labels\n",
    "        self.dim = dim\n",
    "        self.n_classes = n_classes\n",
    "        self.batch_size = batch_size\n",
    "        self.shuffle = True\n",
    "        self.on_epoch_end()\n",
    "\n",
    "\n",
    "    def __len__(self):\n",
    "        return int(np.floor(len(self.data) / self.batch_size))\n",
    "\n",
    "\n",
    "    def __getitem__(self, index):\n",
    "        # Where is the input of index?\n",
    "        indexes = self.indexes[index*self.batch_size:(index+1)*self.batch_size]\n",
    "\n",
    "        data_tmp = [self.data[k] for k in indexes]\n",
    "        labels = [self.labels[k] for k in indexes]\n",
    "\n",
    "        # generate a batch of time data\n",
    "        X = np.empty((self.batch_size, *self.dim, 1), dtype=np.float32)\n",
    "        # The format of Y gonna be: Y[0,:] = 0,1/1,0\n",
    "        Y = np.empty((self.batch_size, self.n_classes), dtype=np.float32)\n",
    "\n",
    "        for i, (instance, label) in enumerate(zip(data_tmp, labels)):\n",
    "            X[i,] = instance.reshape((*self.dim,1))\n",
    "            Y[i,] = to_categorical(label, num_classes=self.n_classes)\n",
    "\n",
    "        return X, Y\n",
    "\n",
    "\n",
    "    def on_epoch_end(self):\n",
    "        self.indexes = np.arange(len(self.data))\n",
    "        if self.shuffle:\n",
    "            np.random.shuffle(self.indexes)"
   ]
  },
  {
   "cell_type": "code",
   "execution_count": 10,
   "metadata": {},
   "outputs": [],
   "source": [
    "tg = DataGenerator_npy(trainset, label_train, dim_instance,num_object)"
   ]
  },
  {
   "cell_type": "code",
   "execution_count": 11,
   "metadata": {},
   "outputs": [],
   "source": [
    "vg = DataGenerator_npy(valset, label_val, dim_instance,num_object)"
   ]
  },
  {
   "cell_type": "code",
   "execution_count": 12,
   "metadata": {},
   "outputs": [],
   "source": [
    "def Conv1D_ultramic(N_CLASSES=2, dim=(36,234)):\n",
    "    input = tf.keras.Input(shape=(*dim,1))\n",
    "    x = LayerNormalization(axis=2, name='batch_norm')(input)\n",
    "    x = TimeDistributed(layers.Conv1D(8, kernel_size=(4), activation='tanh'), name='td_conv_1d_tanh')(x)\n",
    "    x = layers.MaxPooling2D(pool_size=(2,2), name='max_pool_2d_1')(x)\n",
    "    x = TimeDistributed(layers.Conv1D(16, kernel_size=(4), activation='relu'), name='td_conv_1d_relu_1')(x)\n",
    "    x = layers.MaxPooling2D(pool_size=(2,2), name='max_pool_2d_2')(x)\n",
    "    x = TimeDistributed(layers.Conv1D(32, kernel_size=(4), activation='relu'), name='td_conv_1d_relu_2')(x)\n",
    "    x = layers.MaxPooling2D(pool_size=(2,2), name='max_pool_2d_3')(x)\n",
    "    x = TimeDistributed(layers.Conv1D(64, kernel_size=(4), activation='relu'), name='td_conv_1d_relu_3')(x)\n",
    "    x = layers.MaxPooling2D(pool_size=(2,2), name='max_pool_2d_4')(x)\n",
    "    x = TimeDistributed(layers.Conv1D(128, kernel_size=(4), activation='relu'), name='td_conv_1d_relu_4')(x)\n",
    "    x = layers.GlobalMaxPooling2D(name='global_max_pooling_2d')(x)\n",
    "    x = layers.Dropout(rate=0.1, name='dropout')(x)\n",
    "    x = layers.Dense(64, activation='relu', activity_regularizer=l2(0.001), name='dense')(x)\n",
    "    o = layers.Dense(N_CLASSES, activation='softmax', name='softmax')(x)\n",
    "    model = Model(inputs=input, outputs=o, name='1d_convolution')\n",
    "    model.compile(optimizer='adam',\n",
    "                  loss='categorical_crossentropy',\n",
    "                  metrics=['accuracy'])\n",
    "    return model\n",
    "\n",
    "def Conv2D_ultramic(N_CLASSES=2, dim=(36,234)):\n",
    "    input = tf.keras.Input(shape=(*dim,1))\n",
    "    x = LayerNormalization(axis=2, name='batch_norm')(input)\n",
    "    x = layers.Conv2D(8, kernel_size=(7,7), activation='tanh', padding='same', name='conv2d_tanh')(x)\n",
    "    x = layers.MaxPooling2D(pool_size=(2,2), padding='same', name='max_pool_2d_1')(x)\n",
    "    x = layers.Conv2D(16, kernel_size=(5,5), activation='relu', padding='same', name='conv2d_relu_1')(x)\n",
    "    x = layers.MaxPooling2D(pool_size=(2,2), padding='same', name='max_pool_2d_2')(x)\n",
    "    x = layers.Conv2D(16, kernel_size=(3,3), activation='relu', padding='same', name='conv2d_relu_2')(x)\n",
    "    x = layers.MaxPooling2D(pool_size=(2,2), padding='same', name='max_pool_2d_3')(x)\n",
    "    x = layers.Conv2D(32, kernel_size=(3,3), activation='relu', padding='same', name='conv2d_relu_3')(x)\n",
    "    x = layers.MaxPooling2D(pool_size=(2,2), padding='same', name='max_pool_2d_4')(x)\n",
    "    x = layers.Conv2D(32, kernel_size=(3,3), activation='relu', padding='same', name='conv2d_relu_4')(x)\n",
    "    x = layers.Flatten(name='flatten')(x)\n",
    "    x = layers.Dropout(rate=0.2, name='dropout')(x)\n",
    "    x = layers.Dense(64, activation='relu', activity_regularizer=l2(0.001), name='dense')(x)\n",
    "    o = layers.Dense(N_CLASSES, activation='softmax', name='softmax')(x)\n",
    "    model = Model(inputs=input, outputs=o, name='2d_convolution')\n",
    "    model.compile(optimizer='adam',\n",
    "                  loss='categorical_crossentropy',\n",
    "                  metrics=['accuracy'])\n",
    "    return model\n",
    "\n",
    "def LSTM_ultramic(N_CLASSES=2, dim=(36,234)):\n",
    "    input = tf.keras.Input(shape=(*dim,1))\n",
    "    x = LayerNormalization(axis=2, name='batch_norm')(input)\n",
    "    x = TimeDistributed(layers.Reshape((-1,)), name='reshape')(x)\n",
    "    s = TimeDistributed(layers.Dense(64, activation='tanh'),\n",
    "                        name='td_dense_tanh')(x)\n",
    "    x = layers.Bidirectional(layers.LSTM(32, return_sequences=True),\n",
    "                             name='bidirectional_lstm')(s)\n",
    "    x = layers.concatenate([s, x], axis=2, name='skip_connection')\n",
    "    x = layers.Dense(64, activation='relu', name='dense_1_relu')(x)\n",
    "    x = layers.MaxPooling1D(name='max_pool_1d')(x)\n",
    "    x = layers.Dense(32, activation='relu', name='dense_2_relu')(x)\n",
    "    x = layers.Flatten(name='flatten')(x)\n",
    "    x = layers.Dropout(rate=0.2, name='dropout')(x)\n",
    "    x = layers.Dense(32, activation='relu',\n",
    "                         activity_regularizer=l2(0.001),\n",
    "                         name='dense_3_relu')(x)\n",
    "    o = layers.Dense(N_CLASSES, activation='softmax', name='softmax')(x)\n",
    "    model = Model(inputs=input, outputs=o, name='long_short_term_memory')\n",
    "    model.compile(optimizer='adam',\n",
    "                  loss='categorical_crossentropy',\n",
    "                  metrics=['accuracy'])\n",
    "\n",
    "    return model"
   ]
  },
  {
   "cell_type": "code",
   "execution_count": 18,
   "metadata": {},
   "outputs": [],
   "source": [
    "model = Conv2D_ultramic()\n",
    "csv_path = os.path.join('logs', '{}_test.csv'.format(\"lstm\"))"
   ]
  },
  {
   "cell_type": "code",
   "execution_count": 19,
   "metadata": {},
   "outputs": [
    {
     "name": "stdout",
     "output_type": "stream",
     "text": [
      "Epoch 1/30\n",
      "59/60 [============================>.] - ETA: 0s - loss: 0.4846 - accuracy: 0.7712\n",
      "Epoch 00001: val_loss improved from inf to 0.12762, saving model to models\\lstm_ultarmic.h5\n",
      "60/60 [==============================] - 3s 47ms/step - loss: 0.4778 - accuracy: 0.7750 - val_loss: 0.1276 - val_accuracy: 0.9750\n",
      "Epoch 2/30\n",
      "60/60 [==============================] - ETA: 0s - loss: 0.0757 - accuracy: 0.9854\n",
      "Epoch 00002: val_loss improved from 0.12762 to 0.05718, saving model to models\\lstm_ultarmic.h5\n",
      "60/60 [==============================] - 3s 44ms/step - loss: 0.0757 - accuracy: 0.9854 - val_loss: 0.0572 - val_accuracy: 0.9750\n",
      "Epoch 3/30\n",
      "59/60 [============================>.] - ETA: 0s - loss: 0.0619 - accuracy: 0.9915\n",
      "Epoch 00003: val_loss improved from 0.05718 to 0.05400, saving model to models\\lstm_ultarmic.h5\n",
      "60/60 [==============================] - 3s 44ms/step - loss: 0.0613 - accuracy: 0.9917 - val_loss: 0.0540 - val_accuracy: 0.9833\n",
      "Epoch 4/30\n",
      "60/60 [==============================] - ETA: 0s - loss: 0.0339 - accuracy: 1.0000\n",
      "Epoch 00004: val_loss improved from 0.05400 to 0.04852, saving model to models\\lstm_ultarmic.h5\n",
      "60/60 [==============================] - 3s 46ms/step - loss: 0.0339 - accuracy: 1.0000 - val_loss: 0.0485 - val_accuracy: 0.9917\n",
      "Epoch 5/30\n",
      "60/60 [==============================] - ETA: 0s - loss: 0.0270 - accuracy: 1.0000\n",
      "Epoch 00005: val_loss improved from 0.04852 to 0.04195, saving model to models\\lstm_ultarmic.h5\n",
      "60/60 [==============================] - 3s 48ms/step - loss: 0.0270 - accuracy: 1.0000 - val_loss: 0.0419 - val_accuracy: 0.9917\n",
      "Epoch 6/30\n",
      "60/60 [==============================] - ETA: 0s - loss: 0.0246 - accuracy: 1.0000\n",
      "Epoch 00006: val_loss improved from 0.04195 to 0.04106, saving model to models\\lstm_ultarmic.h5\n",
      "60/60 [==============================] - 3s 45ms/step - loss: 0.0246 - accuracy: 1.0000 - val_loss: 0.0411 - val_accuracy: 0.9833\n",
      "Epoch 7/30\n",
      "59/60 [============================>.] - ETA: 0s - loss: 0.0202 - accuracy: 1.0000\n",
      "Epoch 00007: val_loss improved from 0.04106 to 0.02969, saving model to models\\lstm_ultarmic.h5\n",
      "60/60 [==============================] - 3s 45ms/step - loss: 0.0201 - accuracy: 1.0000 - val_loss: 0.0297 - val_accuracy: 0.9917\n",
      "Epoch 8/30\n",
      "60/60 [==============================] - ETA: 0s - loss: 0.0173 - accuracy: 1.0000\n",
      "Epoch 00008: val_loss improved from 0.02969 to 0.02692, saving model to models\\lstm_ultarmic.h5\n",
      "60/60 [==============================] - 3s 46ms/step - loss: 0.0173 - accuracy: 1.0000 - val_loss: 0.0269 - val_accuracy: 0.9917\n",
      "Epoch 9/30\n",
      "59/60 [============================>.] - ETA: 0s - loss: 0.0150 - accuracy: 1.0000\n",
      "Epoch 00009: val_loss improved from 0.02692 to 0.02401, saving model to models\\lstm_ultarmic.h5\n",
      "60/60 [==============================] - 3s 46ms/step - loss: 0.0150 - accuracy: 1.0000 - val_loss: 0.0240 - val_accuracy: 1.0000\n",
      "Epoch 10/30\n",
      "60/60 [==============================] - ETA: 0s - loss: 0.0129 - accuracy: 1.0000\n",
      "Epoch 00010: val_loss improved from 0.02401 to 0.02161, saving model to models\\lstm_ultarmic.h5\n",
      "60/60 [==============================] - 3s 46ms/step - loss: 0.0129 - accuracy: 1.0000 - val_loss: 0.0216 - val_accuracy: 1.0000\n",
      "Epoch 11/30\n",
      "60/60 [==============================] - ETA: 0s - loss: 0.0113 - accuracy: 1.0000\n",
      "Epoch 00011: val_loss improved from 0.02161 to 0.02071, saving model to models\\lstm_ultarmic.h5\n",
      "60/60 [==============================] - 3s 45ms/step - loss: 0.0113 - accuracy: 1.0000 - val_loss: 0.0207 - val_accuracy: 1.0000\n",
      "Epoch 12/30\n",
      "59/60 [============================>.] - ETA: 0s - loss: 0.0100 - accuracy: 1.0000\n",
      "Epoch 00012: val_loss improved from 0.02071 to 0.01981, saving model to models\\lstm_ultarmic.h5\n",
      "60/60 [==============================] - 3s 46ms/step - loss: 0.0099 - accuracy: 1.0000 - val_loss: 0.0198 - val_accuracy: 0.9917\n",
      "Epoch 13/30\n",
      "59/60 [============================>.] - ETA: 0s - loss: 0.0088 - accuracy: 1.0000\n",
      "Epoch 00013: val_loss improved from 0.01981 to 0.01721, saving model to models\\lstm_ultarmic.h5\n",
      "60/60 [==============================] - 3s 46ms/step - loss: 0.0088 - accuracy: 1.0000 - val_loss: 0.0172 - val_accuracy: 1.0000\n",
      "Epoch 14/30\n",
      "60/60 [==============================] - ETA: 0s - loss: 0.0079 - accuracy: 1.0000\n",
      "Epoch 00014: val_loss improved from 0.01721 to 0.01616, saving model to models\\lstm_ultarmic.h5\n",
      "60/60 [==============================] - 3s 46ms/step - loss: 0.0079 - accuracy: 1.0000 - val_loss: 0.0162 - val_accuracy: 0.9917\n",
      "Epoch 15/30\n",
      "59/60 [============================>.] - ETA: 0s - loss: 0.0071 - accuracy: 1.0000\n",
      "Epoch 00015: val_loss improved from 0.01616 to 0.01434, saving model to models\\lstm_ultarmic.h5\n",
      "60/60 [==============================] - 3s 44ms/step - loss: 0.0071 - accuracy: 1.0000 - val_loss: 0.0143 - val_accuracy: 1.0000\n",
      "Epoch 16/30\n",
      "60/60 [==============================] - ETA: 0s - loss: 0.0065 - accuracy: 1.0000\n",
      "Epoch 00016: val_loss did not improve from 0.01434\n",
      "60/60 [==============================] - 3s 46ms/step - loss: 0.0065 - accuracy: 1.0000 - val_loss: 0.0147 - val_accuracy: 0.9917\n",
      "Epoch 17/30\n",
      "59/60 [============================>.] - ETA: 0s - loss: 0.0061 - accuracy: 1.0000\n",
      "Epoch 00017: val_loss improved from 0.01434 to 0.01267, saving model to models\\lstm_ultarmic.h5\n",
      "60/60 [==============================] - 3s 47ms/step - loss: 0.0061 - accuracy: 1.0000 - val_loss: 0.0127 - val_accuracy: 1.0000\n",
      "Epoch 18/30\n",
      "60/60 [==============================] - ETA: 0s - loss: 0.0057 - accuracy: 1.0000\n",
      "Epoch 00018: val_loss did not improve from 0.01267\n",
      "60/60 [==============================] - 3s 44ms/step - loss: 0.0057 - accuracy: 1.0000 - val_loss: 0.0128 - val_accuracy: 1.0000\n",
      "Epoch 19/30\n",
      "60/60 [==============================] - ETA: 0s - loss: 0.0053 - accuracy: 1.0000\n",
      "Epoch 00019: val_loss did not improve from 0.01267\n",
      "60/60 [==============================] - 3s 47ms/step - loss: 0.0053 - accuracy: 1.0000 - val_loss: 0.0132 - val_accuracy: 0.9917\n",
      "Epoch 20/30\n",
      "60/60 [==============================] - ETA: 0s - loss: 0.0051 - accuracy: 1.0000\n",
      "Epoch 00020: val_loss improved from 0.01267 to 0.01087, saving model to models\\lstm_ultarmic.h5\n",
      "60/60 [==============================] - 3s 47ms/step - loss: 0.0051 - accuracy: 1.0000 - val_loss: 0.0109 - val_accuracy: 1.0000\n",
      "Epoch 21/30\n",
      "59/60 [============================>.] - ETA: 0s - loss: 0.0049 - accuracy: 1.0000\n",
      "Epoch 00021: val_loss improved from 0.01087 to 0.01081, saving model to models\\lstm_ultarmic.h5\n",
      "60/60 [==============================] - 3s 47ms/step - loss: 0.0049 - accuracy: 1.0000 - val_loss: 0.0108 - val_accuracy: 1.0000\n",
      "Epoch 22/30\n",
      "60/60 [==============================] - ETA: 0s - loss: 0.0046 - accuracy: 1.0000\n",
      "Epoch 00022: val_loss did not improve from 0.01081\n",
      "60/60 [==============================] - 3s 46ms/step - loss: 0.0046 - accuracy: 1.0000 - val_loss: 0.0111 - val_accuracy: 1.0000\n",
      "Epoch 23/30\n",
      "60/60 [==============================] - ETA: 0s - loss: 0.0044 - accuracy: 1.0000\n",
      "Epoch 00023: val_loss did not improve from 0.01081\n",
      "60/60 [==============================] - 3s 48ms/step - loss: 0.0044 - accuracy: 1.0000 - val_loss: 0.0111 - val_accuracy: 1.0000\n",
      "Epoch 24/30\n",
      "59/60 [============================>.] - ETA: 0s - loss: 0.0043 - accuracy: 1.0000\n",
      "Epoch 00024: val_loss improved from 0.01081 to 0.01036, saving model to models\\lstm_ultarmic.h5\n",
      "60/60 [==============================] - 3s 45ms/step - loss: 0.0043 - accuracy: 1.0000 - val_loss: 0.0104 - val_accuracy: 1.0000\n",
      "Epoch 25/30\n",
      "60/60 [==============================] - ETA: 0s - loss: 0.0041 - accuracy: 1.0000\n",
      "Epoch 00025: val_loss improved from 0.01036 to 0.00940, saving model to models\\lstm_ultarmic.h5\n",
      "60/60 [==============================] - 3s 46ms/step - loss: 0.0041 - accuracy: 1.0000 - val_loss: 0.0094 - val_accuracy: 1.0000\n",
      "Epoch 26/30\n",
      "59/60 [============================>.] - ETA: 0s - loss: 0.0039 - accuracy: 1.0000\n",
      "Epoch 00026: val_loss did not improve from 0.00940\n",
      "60/60 [==============================] - 3s 45ms/step - loss: 0.0039 - accuracy: 1.0000 - val_loss: 0.0097 - val_accuracy: 1.0000\n",
      "Epoch 27/30\n",
      "59/60 [============================>.] - ETA: 0s - loss: 0.0038 - accuracy: 1.0000\n",
      "Epoch 00027: val_loss did not improve from 0.00940\n",
      "60/60 [==============================] - 3s 45ms/step - loss: 0.0038 - accuracy: 1.0000 - val_loss: 0.0098 - val_accuracy: 1.0000\n",
      "Epoch 28/30\n",
      "60/60 [==============================] - ETA: 0s - loss: 0.0037 - accuracy: 1.0000\n",
      "Epoch 00028: val_loss did not improve from 0.00940\n",
      "60/60 [==============================] - 3s 53ms/step - loss: 0.0037 - accuracy: 1.0000 - val_loss: 0.0105 - val_accuracy: 1.0000\n",
      "Epoch 29/30\n",
      "60/60 [==============================] - ETA: 0s - loss: 0.0036 - accuracy: 1.0000 ETA: 0s - loss: 0.0036 - accuracy\n",
      "Epoch 00029: val_loss did not improve from 0.00940\n",
      "60/60 [==============================] - 3s 51ms/step - loss: 0.0036 - accuracy: 1.0000 - val_loss: 0.0096 - val_accuracy: 1.0000\n",
      "Epoch 30/30\n",
      "59/60 [============================>.] - ETA: 0s - loss: 0.0035 - accuracy: 1.0000\n",
      "Epoch 00030: val_loss improved from 0.00940 to 0.00899, saving model to models\\lstm_ultarmic.h5\n",
      "60/60 [==============================] - 3s 57ms/step - loss: 0.0035 - accuracy: 1.0000 - val_loss: 0.0090 - val_accuracy: 1.0000\n"
     ]
    },
    {
     "data": {
      "text/plain": [
       "<tensorflow.python.keras.callbacks.History at 0x16c81420a08>"
      ]
     },
     "execution_count": 19,
     "metadata": {},
     "output_type": "execute_result"
    }
   ],
   "source": [
    "cp = ModelCheckpoint('models/{}.h5'.format(\"lstm_ultarmic\"), monitor='val_loss',\n",
    "                         save_best_only=True, save_weights_only=False,\n",
    "                         mode='auto', save_freq='epoch', verbose=1)\n",
    "csv_logger = CSVLogger(csv_path, append=False)\n",
    "model.fit(tg, validation_data=vg,\n",
    "              epochs=30, verbose=1,\n",
    "              callbacks=[csv_logger, cp])"
   ]
  },
  {
   "cell_type": "code",
   "execution_count": null,
   "metadata": {},
   "outputs": [],
   "source": []
  }
 ],
 "metadata": {
  "kernelspec": {
   "display_name": "Python 3.7.12 ('audio')",
   "language": "python",
   "name": "python3"
  },
  "language_info": {
   "codemirror_mode": {
    "name": "ipython",
    "version": 3
   },
   "file_extension": ".py",
   "mimetype": "text/x-python",
   "name": "python",
   "nbconvert_exporter": "python",
   "pygments_lexer": "ipython3",
   "version": "3.7.12"
  },
  "orig_nbformat": 4,
  "vscode": {
   "interpreter": {
    "hash": "fea9d4a4ac5a2c0f15480518025a9f7f055069e9c76c81218581ccb18b5d7614"
   }
  }
 },
 "nbformat": 4,
 "nbformat_minor": 2
}
