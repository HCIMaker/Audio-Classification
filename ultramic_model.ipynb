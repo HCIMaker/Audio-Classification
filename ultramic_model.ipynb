{
 "cells": [
  {
   "cell_type": "code",
   "execution_count": 1,
   "metadata": {},
   "outputs": [],
   "source": [
    "%load_ext autoreload\n",
    "%autoreload 2"
   ]
  },
  {
   "cell_type": "code",
   "execution_count": 2,
   "metadata": {},
   "outputs": [],
   "source": [
    "import numpy as np\n",
    "from train import *\n",
    "from tensorflow.keras import layers\n",
    "from tensorflow.keras.layers import TimeDistributed, LayerNormalization\n",
    "from tensorflow.keras.models import Model\n",
    "from tensorflow.keras.regularizers import l2\n",
    "import kapre\n",
    "from kapre.composed import get_melspectrogram_layer\n",
    "import tensorflow as tf\n",
    "import os\n",
    "from matplotlib import pyplot as plt"
   ]
  },
  {
   "cell_type": "code",
   "execution_count": 3,
   "metadata": {},
   "outputs": [
    {
     "name": "stdout",
     "output_type": "stream",
     "text": [
      "['npy_augmented_real/hairdryer_washbasin_8k_40k\\\\Real_hairdryer_Train.npy', 'npy_augmented_real/hairdryer_washbasin_8k_40k\\\\Real_washbasin_Train.npy', 'npy_augmented_real/hood_faucet_8k_40k\\\\Real_faucet_Train.npy', 'npy_augmented_real/hood_faucet_8k_40k\\\\Real_hood_Train.npy']\n",
      "(3840, 23, 641)\n"
     ]
    }
   ],
   "source": [
    "#Prepare for Training\n",
    "src_root1 = \"npy_augmented_real/hairdryer_washbasin_8k_40k/\"\n",
    "src_root2 = \"npy_augmented_real/hood_faucet_8k_40k/\"\n",
    "npy_paths1 = glob('{}/**'.format(src_root1), recursive=True)\n",
    "npy_paths2 = glob('{}/**'.format(src_root2), recursive=True)\n",
    "npy_paths = npy_paths1+npy_paths2\n",
    "npy_paths = [x for x in npy_paths if \"Train\" in x]\n",
    "print(npy_paths)\n",
    "train_data = []\n",
    "train_label = []\n",
    "for i in npy_paths:\n",
    "    #print(np.load(i).shape)\n",
    "    train_data.append(np.abs(np.load(i)))\n",
    "    cur_cls = os.path.split(i)[-1].split('_')[1]\n",
    "    cur_label = [cur_cls for i in range(np.load(i).shape[0])]\n",
    "    train_label += cur_label\n",
    "train_data = np.stack(train_data)\n",
    "train_label = np.stack(train_label)\n",
    "train_data = train_data.reshape(train_data.shape[0]*train_data.shape[1],train_data.shape[2],train_data.shape[3])\n",
    "print(train_data.shape)"
   ]
  },
  {
   "cell_type": "code",
   "execution_count": 4,
   "metadata": {},
   "outputs": [
    {
     "name": "stdout",
     "output_type": "stream",
     "text": [
      "(3840,)\n"
     ]
    }
   ],
   "source": [
    "print(train_label.shape)"
   ]
  },
  {
   "cell_type": "code",
   "execution_count": 5,
   "metadata": {},
   "outputs": [
    {
     "name": "stdout",
     "output_type": "stream",
     "text": [
      "['hairdryer', 'washbasin', 'faucet', 'hood']\n"
     ]
    }
   ],
   "source": [
    "classes = [os.path.split(x)[-1].split('_')[1] for x in npy_paths]\n",
    "print(classes)\n",
    "num_object = len(classes)\n",
    "num_instance = train_data.shape[0]\n",
    "dim_instance = train_data.shape[1:]"
   ]
  },
  {
   "cell_type": "code",
   "execution_count": 6,
   "metadata": {},
   "outputs": [
    {
     "name": "stdout",
     "output_type": "stream",
     "text": [
      "['hairdryer', 'washbasin', 'faucet', 'hood']\n"
     ]
    }
   ],
   "source": [
    "print(classes)"
   ]
  },
  {
   "cell_type": "code",
   "execution_count": 7,
   "metadata": {},
   "outputs": [],
   "source": [
    "for i in range(train_data.shape[0]):\n",
    "    train_data[i,:,:] /= train_data[i,:,:].max()"
   ]
  },
  {
   "cell_type": "code",
   "execution_count": 8,
   "metadata": {},
   "outputs": [
    {
     "name": "stdout",
     "output_type": "stream",
     "text": [
      "1.0\n",
      "1.3206194e-06\n"
     ]
    }
   ],
   "source": [
    "print(train_data.max())\n",
    "print(train_data.min())"
   ]
  },
  {
   "cell_type": "code",
   "execution_count": 9,
   "metadata": {},
   "outputs": [
    {
     "data": {
      "text/plain": [
       "LabelEncoder()"
      ]
     },
     "execution_count": 9,
     "metadata": {},
     "output_type": "execute_result"
    }
   ],
   "source": [
    "le = LabelEncoder()\n",
    "le.fit(classes)"
   ]
  },
  {
   "cell_type": "code",
   "execution_count": 11,
   "metadata": {},
   "outputs": [],
   "source": [
    "labels = le.transform(train_label)"
   ]
  },
  {
   "cell_type": "code",
   "execution_count": 12,
   "metadata": {},
   "outputs": [
    {
     "name": "stdout",
     "output_type": "stream",
     "text": [
      "[1 1 1 ... 2 2 2]\n"
     ]
    }
   ],
   "source": [
    "print(labels)"
   ]
  },
  {
   "cell_type": "code",
   "execution_count": 13,
   "metadata": {},
   "outputs": [],
   "source": [
    "trainset, valset, label_train, label_val = train_test_split(train_data,\n",
    "                                                    labels,\n",
    "                                                    test_size=0.25,\n",
    "                                                    random_state=0)"
   ]
  },
  {
   "cell_type": "code",
   "execution_count": 14,
   "metadata": {},
   "outputs": [],
   "source": [
    "class DataGenerator_npy(tf.keras.utils.Sequence):\n",
    "    def __init__(self, data, labels, dim, n_classes,\n",
    "                 batch_size=8, shuffle=True):\n",
    "        self.data = data\n",
    "        self.labels = labels\n",
    "        self.dim = dim\n",
    "        self.n_classes = n_classes\n",
    "        self.batch_size = batch_size\n",
    "        self.shuffle = True\n",
    "        self.on_epoch_end()\n",
    "\n",
    "\n",
    "    def __len__(self):\n",
    "        return int(np.floor(len(self.data) / self.batch_size))\n",
    "\n",
    "\n",
    "    def __getitem__(self, index):\n",
    "        # Where is the input of index?\n",
    "        indexes = self.indexes[index*self.batch_size:(index+1)*self.batch_size]\n",
    "\n",
    "        data_tmp = [self.data[k] for k in indexes]\n",
    "        labels = [self.labels[k] for k in indexes]\n",
    "\n",
    "        # generate a batch of time data\n",
    "        X = np.empty((self.batch_size, *self.dim, 1), dtype=np.float32)\n",
    "        # The format of Y gonna be: Y[0,:] = 0,1/1,0\n",
    "        Y = np.empty((self.batch_size, self.n_classes), dtype=np.float32)\n",
    "\n",
    "        for i, (instance, label) in enumerate(zip(data_tmp, labels)):\n",
    "            X[i,] = instance.reshape((*self.dim,1))\n",
    "            Y[i,] = to_categorical(label, num_classes=self.n_classes)\n",
    "\n",
    "        return X, Y\n",
    "\n",
    "\n",
    "    def on_epoch_end(self):\n",
    "        self.indexes = np.arange(len(self.data))\n",
    "        if self.shuffle:\n",
    "            np.random.shuffle(self.indexes)"
   ]
  },
  {
   "cell_type": "code",
   "execution_count": 15,
   "metadata": {},
   "outputs": [],
   "source": [
    "tg = DataGenerator_npy(trainset, label_train, dim_instance,num_object)"
   ]
  },
  {
   "cell_type": "code",
   "execution_count": 16,
   "metadata": {},
   "outputs": [],
   "source": [
    "vg = DataGenerator_npy(valset, label_val, dim_instance,num_object)"
   ]
  },
  {
   "cell_type": "code",
   "execution_count": 17,
   "metadata": {},
   "outputs": [],
   "source": [
    "def Conv1D_ultramic(N_CLASSES=4, dim=(23,641)):\n",
    "    input = tf.keras.Input(shape=(*dim,1))\n",
    "    x = LayerNormalization(axis=2, name='batch_norm')(input)\n",
    "    x = TimeDistributed(layers.Conv1D(8, kernel_size=(4), activation='tanh'), name='td_conv_1d_tanh')(x)\n",
    "    x = layers.MaxPooling2D(pool_size=(1,2), name='max_pool_2d_1')(x)\n",
    "    x = TimeDistributed(layers.Conv1D(16, kernel_size=(4), activation='relu'), name='td_conv_1d_relu_1')(x)\n",
    "    x = layers.MaxPooling2D(pool_size=(1,2), name='max_pool_2d_2')(x)\n",
    "    x = TimeDistributed(layers.Conv1D(32, kernel_size=(4), activation='relu'), name='td_conv_1d_relu_2')(x)\n",
    "    x = layers.MaxPooling2D(pool_size=(2,2), name='max_pool_2d_3')(x)\n",
    "    x = TimeDistributed(layers.Conv1D(64, kernel_size=(4), activation='relu'), name='td_conv_1d_relu_3')(x)\n",
    "    x = layers.MaxPooling2D(pool_size=(2,2), name='max_pool_2d_4')(x)\n",
    "    x = TimeDistributed(layers.Conv1D(128, kernel_size=(4), activation='relu'), name='td_conv_1d_relu_4')(x)\n",
    "    x = layers.GlobalMaxPooling2D(name='global_max_pooling_2d')(x)\n",
    "    x = layers.Dropout(rate=0.1, name='dropout')(x)\n",
    "    x = layers.Dense(64, activation='relu', activity_regularizer=l2(0.001), name='dense')(x)\n",
    "    o = layers.Dense(N_CLASSES, activation='softmax', name='softmax')(x)\n",
    "    model = Model(inputs=input, outputs=o, name='1d_convolution')\n",
    "    model.compile(optimizer='adam',\n",
    "                  loss='categorical_crossentropy',\n",
    "                  metrics=['accuracy'])\n",
    "    return model\n",
    "\n",
    "def Conv2D_ultramic(N_CLASSES=4, dim=(23,641)):\n",
    "    input = tf.keras.Input(shape=(*dim,1))\n",
    "    x = LayerNormalization(axis=2, name='batch_norm')(input)\n",
    "    x = layers.Conv2D(8, kernel_size=(7,7), activation='tanh', padding='same', name='conv2d_tanh')(x)\n",
    "    x = layers.MaxPooling2D(pool_size=(1,2), padding='same', name='max_pool_2d_1')(x)\n",
    "    x = layers.Conv2D(16, kernel_size=(5,5), activation='relu', padding='same', name='conv2d_relu_1')(x)\n",
    "    x = layers.MaxPooling2D(pool_size=(1,2), padding='same', name='max_pool_2d_2')(x)\n",
    "    x = layers.Conv2D(16, kernel_size=(3,3), activation='relu', padding='same', name='conv2d_relu_2')(x)\n",
    "    x = layers.MaxPooling2D(pool_size=(2,2), padding='same', name='max_pool_2d_3')(x)\n",
    "    x = layers.Conv2D(32, kernel_size=(3,3), activation='relu', padding='same', name='conv2d_relu_3')(x)\n",
    "    x = layers.MaxPooling2D(pool_size=(2,2), padding='same', name='max_pool_2d_4')(x)\n",
    "    x = layers.Conv2D(32, kernel_size=(3,3), activation='relu', padding='same', name='conv2d_relu_4')(x)\n",
    "    x = layers.Flatten(name='flatten')(x)\n",
    "    x = layers.Dropout(rate=0.2, name='dropout')(x)\n",
    "    x = layers.Dense(64, activation='relu', activity_regularizer=l2(0.001), name='dense')(x)\n",
    "    o = layers.Dense(N_CLASSES, activation='softmax', name='softmax')(x)\n",
    "    model = Model(inputs=input, outputs=o, name='2d_convolution')\n",
    "    model.compile(optimizer='adam',\n",
    "                  loss='categorical_crossentropy',\n",
    "                  metrics=['accuracy'])\n",
    "    return model\n",
    "\n",
    "def LSTM_ultramic(N_CLASSES=4, dim=(23,641)):\n",
    "    input = tf.keras.Input(shape=(*dim,1))\n",
    "    x = LayerNormalization(axis=2, name='batch_norm')(input)\n",
    "    x = TimeDistributed(layers.Reshape((-1,)), name='reshape')(x)\n",
    "    s = TimeDistributed(layers.Dense(64, activation='tanh'),\n",
    "                        name='td_dense_tanh')(x)\n",
    "    x = layers.Bidirectional(layers.LSTM(32, return_sequences=True),\n",
    "                             name='bidirectional_lstm')(s)\n",
    "    x = layers.concatenate([s, x], axis=2, name='skip_connection')\n",
    "    x = layers.Dense(64, activation='relu', name='dense_1_relu')(x)\n",
    "    x = layers.MaxPooling1D(name='max_pool_1d')(x)\n",
    "    x = layers.Dense(32, activation='relu', name='dense_2_relu')(x)\n",
    "    x = layers.Flatten(name='flatten')(x)\n",
    "    x = layers.Dropout(rate=0.2, name='dropout')(x)\n",
    "    x = layers.Dense(32, activation='relu',\n",
    "                         activity_regularizer=l2(0.001),\n",
    "                         name='dense_3_relu')(x)\n",
    "    o = layers.Dense(N_CLASSES, activation='softmax', name='softmax')(x)\n",
    "    model = Model(inputs=input, outputs=o, name='long_short_term_memory')\n",
    "    model.compile(optimizer='adam',\n",
    "                  loss='categorical_crossentropy',\n",
    "                  metrics=['accuracy'])\n",
    "\n",
    "    return model"
   ]
  },
  {
   "cell_type": "code",
   "execution_count": 18,
   "metadata": {},
   "outputs": [],
   "source": [
    "model = LSTM_ultramic()\n",
    "csv_path = os.path.join('logs', '{}_test.csv'.format(\"lstm_overlapping\"))"
   ]
  },
  {
   "cell_type": "code",
   "execution_count": 19,
   "metadata": {},
   "outputs": [
    {
     "name": "stdout",
     "output_type": "stream",
     "text": [
      "Epoch 1/30\n",
      "352/360 [============================>.] - ETA: 0s - loss: 0.1303 - accuracy: 0.9712\n",
      "Epoch 00001: val_loss improved from inf to 0.02914, saving model to models\\lstm_overlapping.h5\n",
      "360/360 [==============================] - 2s 6ms/step - loss: 0.1281 - accuracy: 0.9719 - val_loss: 0.0291 - val_accuracy: 1.0000\n",
      "Epoch 2/30\n",
      "356/360 [============================>.] - ETA: 0s - loss: 0.0249 - accuracy: 1.0000\n",
      "Epoch 00002: val_loss improved from 0.02914 to 0.01910, saving model to models\\lstm_overlapping.h5\n",
      "360/360 [==============================] - 2s 5ms/step - loss: 0.0249 - accuracy: 1.0000 - val_loss: 0.0191 - val_accuracy: 1.0000\n",
      "Epoch 3/30\n",
      "360/360 [==============================] - ETA: 0s - loss: 0.0174 - accuracy: 1.0000\n",
      "Epoch 00003: val_loss improved from 0.01910 to 0.01410, saving model to models\\lstm_overlapping.h5\n",
      "360/360 [==============================] - 2s 5ms/step - loss: 0.0174 - accuracy: 1.0000 - val_loss: 0.0141 - val_accuracy: 1.0000\n",
      "Epoch 4/30\n",
      "351/360 [============================>.] - ETA: 0s - loss: 0.0135 - accuracy: 1.0000\n",
      "Epoch 00004: val_loss improved from 0.01410 to 0.01147, saving model to models\\lstm_overlapping.h5\n",
      "360/360 [==============================] - 2s 5ms/step - loss: 0.0135 - accuracy: 1.0000 - val_loss: 0.0115 - val_accuracy: 1.0000\n",
      "Epoch 5/30\n",
      "355/360 [============================>.] - ETA: 0s - loss: 0.0110 - accuracy: 1.0000\n",
      "Epoch 00005: val_loss improved from 0.01147 to 0.00958, saving model to models\\lstm_overlapping.h5\n",
      "360/360 [==============================] - 2s 5ms/step - loss: 0.0110 - accuracy: 1.0000 - val_loss: 0.0096 - val_accuracy: 1.0000\n",
      "Epoch 6/30\n",
      "351/360 [============================>.] - ETA: 0s - loss: 0.0093 - accuracy: 1.0000\n",
      "Epoch 00006: val_loss improved from 0.00958 to 0.00817, saving model to models\\lstm_overlapping.h5\n",
      "360/360 [==============================] - 2s 5ms/step - loss: 0.0093 - accuracy: 1.0000 - val_loss: 0.0082 - val_accuracy: 1.0000\n",
      "Epoch 7/30\n",
      "359/360 [============================>.] - ETA: 0s - loss: 0.0080 - accuracy: 1.0000\n",
      "Epoch 00007: val_loss improved from 0.00817 to 0.00717, saving model to models\\lstm_overlapping.h5\n",
      "360/360 [==============================] - 2s 5ms/step - loss: 0.0080 - accuracy: 1.0000 - val_loss: 0.0072 - val_accuracy: 1.0000\n",
      "Epoch 8/30\n",
      "360/360 [==============================] - ETA: 0s - loss: 0.0071 - accuracy: 1.0000\n",
      "Epoch 00008: val_loss improved from 0.00717 to 0.00631, saving model to models\\lstm_overlapping.h5\n",
      "360/360 [==============================] - 2s 5ms/step - loss: 0.0071 - accuracy: 1.0000 - val_loss: 0.0063 - val_accuracy: 1.0000\n",
      "Epoch 9/30\n",
      "356/360 [============================>.] - ETA: 0s - loss: 0.0063 - accuracy: 1.0000\n",
      "Epoch 00009: val_loss improved from 0.00631 to 0.00569, saving model to models\\lstm_overlapping.h5\n",
      "360/360 [==============================] - 2s 5ms/step - loss: 0.0063 - accuracy: 1.0000 - val_loss: 0.0057 - val_accuracy: 1.0000\n",
      "Epoch 10/30\n",
      "354/360 [============================>.] - ETA: 0s - loss: 0.0056 - accuracy: 1.0000\n",
      "Epoch 00010: val_loss improved from 0.00569 to 0.00516, saving model to models\\lstm_overlapping.h5\n",
      "360/360 [==============================] - 2s 5ms/step - loss: 0.0056 - accuracy: 1.0000 - val_loss: 0.0052 - val_accuracy: 1.0000\n",
      "Epoch 11/30\n",
      "351/360 [============================>.] - ETA: 0s - loss: 0.0050 - accuracy: 1.0000\n",
      "Epoch 00011: val_loss improved from 0.00516 to 0.00460, saving model to models\\lstm_overlapping.h5\n",
      "360/360 [==============================] - 2s 5ms/step - loss: 0.0050 - accuracy: 1.0000 - val_loss: 0.0046 - val_accuracy: 1.0000\n",
      "Epoch 12/30\n",
      "359/360 [============================>.] - ETA: 0s - loss: 0.0046 - accuracy: 1.0000\n",
      "Epoch 00012: val_loss improved from 0.00460 to 0.00424, saving model to models\\lstm_overlapping.h5\n",
      "360/360 [==============================] - 2s 5ms/step - loss: 0.0046 - accuracy: 1.0000 - val_loss: 0.0042 - val_accuracy: 1.0000\n",
      "Epoch 13/30\n",
      "352/360 [============================>.] - ETA: 0s - loss: 0.0042 - accuracy: 1.0000\n",
      "Epoch 00013: val_loss improved from 0.00424 to 0.00386, saving model to models\\lstm_overlapping.h5\n",
      "360/360 [==============================] - 2s 5ms/step - loss: 0.0042 - accuracy: 1.0000 - val_loss: 0.0039 - val_accuracy: 1.0000\n",
      "Epoch 14/30\n",
      "353/360 [============================>.] - ETA: 0s - loss: 0.0038 - accuracy: 1.0000\n",
      "Epoch 00014: val_loss improved from 0.00386 to 0.00351, saving model to models\\lstm_overlapping.h5\n",
      "360/360 [==============================] - 2s 5ms/step - loss: 0.0038 - accuracy: 1.0000 - val_loss: 0.0035 - val_accuracy: 1.0000\n",
      "Epoch 15/30\n",
      "356/360 [============================>.] - ETA: 0s - loss: 0.2586 - accuracy: 0.9115\n",
      "Epoch 00015: val_loss did not improve from 0.00351\n",
      "360/360 [==============================] - 2s 5ms/step - loss: 0.2607 - accuracy: 0.9104 - val_loss: 0.2372 - val_accuracy: 0.9927\n",
      "Epoch 16/30\n",
      "354/360 [============================>.] - ETA: 0s - loss: 0.0230 - accuracy: 1.0000\n",
      "Epoch 00016: val_loss did not improve from 0.00351\n",
      "360/360 [==============================] - 2s 5ms/step - loss: 0.0229 - accuracy: 1.0000 - val_loss: 0.0096 - val_accuracy: 1.0000\n",
      "Epoch 17/30\n",
      "354/360 [============================>.] - ETA: 0s - loss: 0.0090 - accuracy: 1.0000\n",
      "Epoch 00017: val_loss did not improve from 0.00351\n",
      "360/360 [==============================] - 2s 5ms/step - loss: 0.0090 - accuracy: 1.0000 - val_loss: 0.0074 - val_accuracy: 1.0000\n",
      "Epoch 18/30\n",
      "356/360 [============================>.] - ETA: 0s - loss: 0.0077 - accuracy: 1.0000\n",
      "Epoch 00018: val_loss did not improve from 0.00351\n",
      "360/360 [==============================] - 2s 5ms/step - loss: 0.0077 - accuracy: 1.0000 - val_loss: 0.0067 - val_accuracy: 1.0000\n",
      "Epoch 19/30\n",
      "359/360 [============================>.] - ETA: 0s - loss: 0.0070 - accuracy: 1.0000\n",
      "Epoch 00019: val_loss did not improve from 0.00351\n",
      "360/360 [==============================] - 2s 5ms/step - loss: 0.0070 - accuracy: 1.0000 - val_loss: 0.0062 - val_accuracy: 1.0000\n",
      "Epoch 20/30\n",
      "353/360 [============================>.] - ETA: 0s - loss: 0.0065 - accuracy: 1.0000\n",
      "Epoch 00020: val_loss did not improve from 0.00351\n",
      "360/360 [==============================] - 2s 5ms/step - loss: 0.0065 - accuracy: 1.0000 - val_loss: 0.0058 - val_accuracy: 1.0000\n",
      "Epoch 21/30\n",
      "352/360 [============================>.] - ETA: 0s - loss: 0.0061 - accuracy: 1.0000\n",
      "Epoch 00021: val_loss did not improve from 0.00351\n",
      "360/360 [==============================] - 2s 5ms/step - loss: 0.0061 - accuracy: 1.0000 - val_loss: 0.0055 - val_accuracy: 1.0000\n",
      "Epoch 22/30\n",
      "350/360 [============================>.] - ETA: 0s - loss: 0.0057 - accuracy: 1.0000\n",
      "Epoch 00022: val_loss did not improve from 0.00351\n",
      "360/360 [==============================] - 2s 5ms/step - loss: 0.0057 - accuracy: 1.0000 - val_loss: 0.0052 - val_accuracy: 1.0000\n",
      "Epoch 23/30\n",
      "350/360 [============================>.] - ETA: 0s - loss: 0.0054 - accuracy: 1.0000\n",
      "Epoch 00023: val_loss did not improve from 0.00351\n",
      "360/360 [==============================] - 2s 5ms/step - loss: 0.0054 - accuracy: 1.0000 - val_loss: 0.0049 - val_accuracy: 1.0000\n",
      "Epoch 24/30\n",
      "352/360 [============================>.] - ETA: 0s - loss: 0.0051 - accuracy: 1.0000\n",
      "Epoch 00024: val_loss did not improve from 0.00351\n",
      "360/360 [==============================] - 2s 5ms/step - loss: 0.0051 - accuracy: 1.0000 - val_loss: 0.0047 - val_accuracy: 1.0000\n",
      "Epoch 25/30\n",
      "352/360 [============================>.] - ETA: 0s - loss: 0.0049 - accuracy: 1.0000\n",
      "Epoch 00025: val_loss did not improve from 0.00351\n",
      "360/360 [==============================] - 2s 5ms/step - loss: 0.0049 - accuracy: 1.0000 - val_loss: 0.0045 - val_accuracy: 1.0000\n",
      "Epoch 26/30\n",
      "351/360 [============================>.] - ETA: 0s - loss: 0.0047 - accuracy: 1.0000\n",
      "Epoch 00026: val_loss did not improve from 0.00351\n",
      "360/360 [==============================] - 2s 5ms/step - loss: 0.0047 - accuracy: 1.0000 - val_loss: 0.0043 - val_accuracy: 1.0000\n",
      "Epoch 27/30\n",
      "352/360 [============================>.] - ETA: 0s - loss: 0.0044 - accuracy: 1.0000\n",
      "Epoch 00027: val_loss did not improve from 0.00351\n",
      "360/360 [==============================] - 2s 5ms/step - loss: 0.0044 - accuracy: 1.0000 - val_loss: 0.0041 - val_accuracy: 1.0000\n",
      "Epoch 28/30\n",
      "352/360 [============================>.] - ETA: 0s - loss: 0.0042 - accuracy: 1.0000\n",
      "Epoch 00028: val_loss did not improve from 0.00351\n",
      "360/360 [==============================] - 2s 5ms/step - loss: 0.0042 - accuracy: 1.0000 - val_loss: 0.0039 - val_accuracy: 1.0000\n",
      "Epoch 29/30\n",
      "355/360 [============================>.] - ETA: 0s - loss: 0.0040 - accuracy: 1.0000\n",
      "Epoch 00029: val_loss did not improve from 0.00351\n",
      "360/360 [==============================] - 2s 5ms/step - loss: 0.0040 - accuracy: 1.0000 - val_loss: 0.0037 - val_accuracy: 1.0000\n",
      "Epoch 30/30\n",
      "354/360 [============================>.] - ETA: 0s - loss: 0.0038 - accuracy: 1.0000\n",
      "Epoch 00030: val_loss improved from 0.00351 to 0.00348, saving model to models\\lstm_overlapping.h5\n",
      "360/360 [==============================] - 2s 5ms/step - loss: 0.0038 - accuracy: 1.0000 - val_loss: 0.0035 - val_accuracy: 1.0000\n"
     ]
    },
    {
     "data": {
      "text/plain": [
       "<tensorflow.python.keras.callbacks.History at 0x217c9241708>"
      ]
     },
     "execution_count": 19,
     "metadata": {},
     "output_type": "execute_result"
    }
   ],
   "source": [
    "cp = ModelCheckpoint('models/{}.h5'.format(\"lstm_overlapping\"), monitor='val_loss',\n",
    "                         save_best_only=True, save_weights_only=False,\n",
    "                         mode='auto', save_freq='epoch', verbose=1)\n",
    "csv_logger = CSVLogger(csv_path, append=False)\n",
    "model.fit(tg, validation_data=vg,\n",
    "              epochs=30, verbose=1,\n",
    "              callbacks=[csv_logger, cp])"
   ]
  },
  {
   "cell_type": "code",
   "execution_count": null,
   "metadata": {},
   "outputs": [],
   "source": []
  }
 ],
 "metadata": {
  "kernelspec": {
   "display_name": "Python 3.7.12 ('audio')",
   "language": "python",
   "name": "python3"
  },
  "language_info": {
   "codemirror_mode": {
    "name": "ipython",
    "version": 3
   },
   "file_extension": ".py",
   "mimetype": "text/x-python",
   "name": "python",
   "nbconvert_exporter": "python",
   "pygments_lexer": "ipython3",
   "version": "3.7.12"
  },
  "orig_nbformat": 4,
  "vscode": {
   "interpreter": {
    "hash": "fbc5f3dade03a6727cecaa7eacdf4c72954182e634778ac1645f6072e52dd5df"
   }
  }
 },
 "nbformat": 4,
 "nbformat_minor": 2
}
