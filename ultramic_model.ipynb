{
 "cells": [
  {
   "cell_type": "code",
   "execution_count": 1,
   "metadata": {},
   "outputs": [],
   "source": [
    "%load_ext autoreload\n",
    "%autoreload 2"
   ]
  },
  {
   "cell_type": "code",
   "execution_count": 2,
   "metadata": {},
   "outputs": [],
   "source": [
    "import numpy as np\n",
    "from train import *\n",
    "from tensorflow.keras import layers\n",
    "from tensorflow.keras.layers import TimeDistributed, LayerNormalization\n",
    "from tensorflow.keras.models import Model\n",
    "from tensorflow.keras.regularizers import l2\n",
    "import kapre\n",
    "from kapre.composed import get_melspectrogram_layer\n",
    "import tensorflow as tf\n",
    "import os\n",
    "from matplotlib import pyplot as plt"
   ]
  },
  {
   "cell_type": "code",
   "execution_count": 14,
   "metadata": {},
   "outputs": [
    {
     "name": "stdout",
     "output_type": "stream",
     "text": [
      "['npy_formal_dataset/train/faucet/train.npy', 'npy_formal_dataset/train/hairdryer/train.npy', 'npy_formal_dataset/train/hood/train.npy', 'npy_formal_dataset/train/washbasin/train.npy']\n",
      "(5440, 23, 641)\n",
      "(5440,)\n"
     ]
    }
   ],
   "source": [
    "src_root = \"npy_formal_dataset/train/\"\n",
    "npy_paths = glob('{}/**'.format(src_root), recursive=True)\n",
    "npy_paths = sorted([x.replace(os.sep, '/') for x in npy_paths if \"train.npy\" in x])\n",
    "print(npy_paths)\n",
    "train_data = []\n",
    "train_label = []\n",
    "for i in npy_paths:\n",
    "    #print(np.load(i).shape)\n",
    "    train_data.append(np.abs(np.load(i)))\n",
    "    cur_cls = os.path.split(i)[0].split('/')[-1]\n",
    "    cur_label = [cur_cls for i in range(np.load(i).shape[0])]\n",
    "    train_label += cur_label\n",
    "train_data = np.stack(train_data)\n",
    "train_label = np.stack(train_label)\n",
    "train_data = train_data.reshape(train_data.shape[0]*train_data.shape[1],train_data.shape[2],train_data.shape[3])\n",
    "print(train_data.shape)\n",
    "print(train_label.shape)"
   ]
  },
  {
   "cell_type": "code",
   "execution_count": 3,
   "metadata": {},
   "outputs": [
    {
     "name": "stdout",
     "output_type": "stream",
     "text": [
      "['npy_augmented_real/hairdryer_washbasin_8k_40k\\\\Real_hairdryer_Train.npy', 'npy_augmented_real/hairdryer_washbasin_8k_40k\\\\Real_washbasin_Train.npy', 'npy_augmented_real/hood_faucet_8k_40k\\\\Real_faucet_Train.npy', 'npy_augmented_real/hood_faucet_8k_40k\\\\Real_hood_Train.npy']\n",
      "(3840, 23, 641)\n"
     ]
    }
   ],
   "source": [
    "#Prepare for Training\n",
    "src_root1 = \"npy_formal_dataset/train/\"\n",
    "npy_paths1 = glob('{}/**'.format(src_root1), recursive=True)\n",
    "npy_paths = npy_paths1+npy_paths2\n",
    "npy_paths = [x for x in npy_paths if \"Train\" in x]\n",
    "print(npy_paths)\n",
    "train_data = []\n",
    "train_label = []\n",
    "for i in npy_paths:\n",
    "    #print(np.load(i).shape)\n",
    "    train_data.append(np.abs(np.load(i)))\n",
    "    cur_cls = os.path.split(i)[-1].split('_')[1]\n",
    "    cur_label = [cur_cls for i in range(np.load(i).shape[0])]\n",
    "    train_label += cur_label\n",
    "train_data = np.stack(train_data)\n",
    "train_label = np.stack(train_label)\n",
    "train_data = train_data.reshape(train_data.shape[0]*train_data.shape[1],train_data.shape[2],train_data.shape[3])\n",
    "print(train_data.shape)"
   ]
  },
  {
   "cell_type": "code",
   "execution_count": 16,
   "metadata": {},
   "outputs": [
    {
     "name": "stdout",
     "output_type": "stream",
     "text": [
      "['faucet', 'hairdryer', 'hood', 'washbasin']\n"
     ]
    }
   ],
   "source": [
    "classes = sorted(os.listdir(src_root))\n",
    "print(classes)\n",
    "num_object = len(classes)\n",
    "num_instance = train_data.shape[0]\n",
    "dim_instance = train_data.shape[1:]"
   ]
  },
  {
   "cell_type": "code",
   "execution_count": 17,
   "metadata": {},
   "outputs": [],
   "source": [
    "for i in range(train_data.shape[0]):\n",
    "    train_data[i,:,:] /= train_data[i,:,:].max()"
   ]
  },
  {
   "cell_type": "code",
   "execution_count": 18,
   "metadata": {},
   "outputs": [
    {
     "name": "stdout",
     "output_type": "stream",
     "text": [
      "1.0\n",
      "1.3206194e-06\n"
     ]
    }
   ],
   "source": [
    "print(train_data.max())\n",
    "print(train_data.min())"
   ]
  },
  {
   "cell_type": "code",
   "execution_count": 19,
   "metadata": {},
   "outputs": [
    {
     "data": {
      "text/plain": [
       "LabelEncoder()"
      ]
     },
     "execution_count": 19,
     "metadata": {},
     "output_type": "execute_result"
    }
   ],
   "source": [
    "le = LabelEncoder()\n",
    "le.fit(classes)"
   ]
  },
  {
   "cell_type": "code",
   "execution_count": 20,
   "metadata": {},
   "outputs": [],
   "source": [
    "labels = le.transform(train_label)"
   ]
  },
  {
   "cell_type": "code",
   "execution_count": 21,
   "metadata": {},
   "outputs": [
    {
     "name": "stdout",
     "output_type": "stream",
     "text": [
      "[0 0 0 ... 3 3 3]\n"
     ]
    }
   ],
   "source": [
    "print(labels)"
   ]
  },
  {
   "cell_type": "code",
   "execution_count": 22,
   "metadata": {},
   "outputs": [],
   "source": [
    "trainset, valset, label_train, label_val = train_test_split(train_data,\n",
    "                                                    labels,\n",
    "                                                    test_size=0.25,\n",
    "                                                    random_state=0)"
   ]
  },
  {
   "cell_type": "code",
   "execution_count": 23,
   "metadata": {},
   "outputs": [],
   "source": [
    "class DataGenerator_npy(tf.keras.utils.Sequence):\n",
    "    def __init__(self, data, labels, dim, n_classes,\n",
    "                 batch_size=8, shuffle=True):\n",
    "        self.data = data\n",
    "        self.labels = labels\n",
    "        self.dim = dim\n",
    "        self.n_classes = n_classes\n",
    "        self.batch_size = batch_size\n",
    "        self.shuffle = True\n",
    "        self.on_epoch_end()\n",
    "\n",
    "\n",
    "    def __len__(self):\n",
    "        return int(np.floor(len(self.data) / self.batch_size))\n",
    "\n",
    "\n",
    "    def __getitem__(self, index):\n",
    "        # Where is the input of index?\n",
    "        indexes = self.indexes[index*self.batch_size:(index+1)*self.batch_size]\n",
    "\n",
    "        data_tmp = [self.data[k] for k in indexes]\n",
    "        labels = [self.labels[k] for k in indexes]\n",
    "\n",
    "        # generate a batch of time data\n",
    "        X = np.empty((self.batch_size, *self.dim, 1), dtype=np.float32)\n",
    "        # The format of Y gonna be: Y[0,:] = 0,1/1,0\n",
    "        Y = np.empty((self.batch_size, self.n_classes), dtype=np.float32)\n",
    "\n",
    "        for i, (instance, label) in enumerate(zip(data_tmp, labels)):\n",
    "            X[i,] = instance.reshape((*self.dim,1))\n",
    "            Y[i,] = to_categorical(label, num_classes=self.n_classes)\n",
    "\n",
    "        return X, Y\n",
    "\n",
    "\n",
    "    def on_epoch_end(self):\n",
    "        self.indexes = np.arange(len(self.data))\n",
    "        if self.shuffle:\n",
    "            np.random.shuffle(self.indexes)"
   ]
  },
  {
   "cell_type": "code",
   "execution_count": 24,
   "metadata": {},
   "outputs": [],
   "source": [
    "tg = DataGenerator_npy(trainset, label_train, dim_instance,num_object)"
   ]
  },
  {
   "cell_type": "code",
   "execution_count": 25,
   "metadata": {},
   "outputs": [],
   "source": [
    "vg = DataGenerator_npy(valset, label_val, dim_instance,num_object)"
   ]
  },
  {
   "cell_type": "code",
   "execution_count": 26,
   "metadata": {},
   "outputs": [],
   "source": [
    "def Conv1D_ultramic(N_CLASSES=4, dim=(23,641)):\n",
    "    input = tf.keras.Input(shape=(*dim,1))\n",
    "    x = LayerNormalization(axis=2, name='batch_norm')(input)\n",
    "    x = TimeDistributed(layers.Conv1D(8, kernel_size=(4), activation='tanh'), name='td_conv_1d_tanh')(x)\n",
    "    x = layers.MaxPooling2D(pool_size=(1,2), name='max_pool_2d_1')(x)\n",
    "    x = TimeDistributed(layers.Conv1D(16, kernel_size=(4), activation='relu'), name='td_conv_1d_relu_1')(x)\n",
    "    x = layers.MaxPooling2D(pool_size=(1,2), name='max_pool_2d_2')(x)\n",
    "    x = TimeDistributed(layers.Conv1D(32, kernel_size=(4), activation='relu'), name='td_conv_1d_relu_2')(x)\n",
    "    x = layers.MaxPooling2D(pool_size=(2,2), name='max_pool_2d_3')(x)\n",
    "    x = TimeDistributed(layers.Conv1D(64, kernel_size=(4), activation='relu'), name='td_conv_1d_relu_3')(x)\n",
    "    x = layers.MaxPooling2D(pool_size=(2,2), name='max_pool_2d_4')(x)\n",
    "    x = TimeDistributed(layers.Conv1D(128, kernel_size=(4), activation='relu'), name='td_conv_1d_relu_4')(x)\n",
    "    x = layers.GlobalMaxPooling2D(name='global_max_pooling_2d')(x)\n",
    "    x = layers.Dropout(rate=0.1, name='dropout')(x)\n",
    "    x = layers.Dense(64, activation='relu', activity_regularizer=l2(0.001), name='dense')(x)\n",
    "    o = layers.Dense(N_CLASSES, activation='softmax', name='softmax')(x)\n",
    "    model = Model(inputs=input, outputs=o, name='1d_convolution')\n",
    "    model.compile(optimizer='adam',\n",
    "                  loss='categorical_crossentropy',\n",
    "                  metrics=['accuracy'])\n",
    "    return model\n",
    "\n",
    "def Conv2D_ultramic(N_CLASSES=4, dim=(23,641)):\n",
    "    input = tf.keras.Input(shape=(*dim,1))\n",
    "    x = LayerNormalization(axis=2, name='batch_norm')(input)\n",
    "    x = layers.Conv2D(8, kernel_size=(7,7), activation='tanh', padding='same', name='conv2d_tanh')(x)\n",
    "    x = layers.MaxPooling2D(pool_size=(1,2), padding='same', name='max_pool_2d_1')(x)\n",
    "    x = layers.Conv2D(16, kernel_size=(5,5), activation='relu', padding='same', name='conv2d_relu_1')(x)\n",
    "    x = layers.MaxPooling2D(pool_size=(1,2), padding='same', name='max_pool_2d_2')(x)\n",
    "    x = layers.Conv2D(16, kernel_size=(3,3), activation='relu', padding='same', name='conv2d_relu_2')(x)\n",
    "    x = layers.MaxPooling2D(pool_size=(2,2), padding='same', name='max_pool_2d_3')(x)\n",
    "    x = layers.Conv2D(32, kernel_size=(3,3), activation='relu', padding='same', name='conv2d_relu_3')(x)\n",
    "    x = layers.MaxPooling2D(pool_size=(2,2), padding='same', name='max_pool_2d_4')(x)\n",
    "    x = layers.Conv2D(32, kernel_size=(3,3), activation='relu', padding='same', name='conv2d_relu_4')(x)\n",
    "    x = layers.Flatten(name='flatten')(x)\n",
    "    x = layers.Dropout(rate=0.2, name='dropout')(x)\n",
    "    x = layers.Dense(64, activation='relu', activity_regularizer=l2(0.001), name='dense')(x)\n",
    "    o = layers.Dense(N_CLASSES, activation='softmax', name='softmax')(x)\n",
    "    model = Model(inputs=input, outputs=o, name='2d_convolution')\n",
    "    model.compile(optimizer='adam',\n",
    "                  loss='categorical_crossentropy',\n",
    "                  metrics=['accuracy'])\n",
    "    return model\n",
    "\n",
    "def LSTM_ultramic(N_CLASSES=4, dim=(23,641)):\n",
    "    input = tf.keras.Input(shape=(*dim,1))\n",
    "    x = LayerNormalization(axis=2, name='batch_norm')(input)\n",
    "    x = TimeDistributed(layers.Reshape((-1,)), name='reshape')(x)\n",
    "    s = TimeDistributed(layers.Dense(64, activation='tanh'),\n",
    "                        name='td_dense_tanh')(x)\n",
    "    x = layers.Bidirectional(layers.LSTM(32, return_sequences=True),\n",
    "                             name='bidirectional_lstm')(s)\n",
    "    x = layers.concatenate([s, x], axis=2, name='skip_connection')\n",
    "    x = layers.Dense(64, activation='relu', name='dense_1_relu')(x)\n",
    "    x = layers.MaxPooling1D(name='max_pool_1d')(x)\n",
    "    x = layers.Dense(32, activation='relu', name='dense_2_relu')(x)\n",
    "    x = layers.Flatten(name='flatten')(x)\n",
    "    x = layers.Dropout(rate=0.2, name='dropout')(x)\n",
    "    x = layers.Dense(32, activation='relu',\n",
    "                         activity_regularizer=l2(0.001),\n",
    "                         name='dense_3_relu')(x)\n",
    "    o = layers.Dense(N_CLASSES, activation='softmax', name='softmax')(x)\n",
    "    model = Model(inputs=input, outputs=o, name='long_short_term_memory')\n",
    "    model.compile(optimizer='adam',\n",
    "                  loss='categorical_crossentropy',\n",
    "                  metrics=['accuracy'])\n",
    "\n",
    "    return model"
   ]
  },
  {
   "cell_type": "code",
   "execution_count": 27,
   "metadata": {},
   "outputs": [],
   "source": [
    "model = LSTM_ultramic()\n",
    "csv_path = os.path.join('logs', '{}_test.csv'.format(\"lstm_overlapping\"))"
   ]
  },
  {
   "cell_type": "code",
   "execution_count": 28,
   "metadata": {},
   "outputs": [
    {
     "name": "stdout",
     "output_type": "stream",
     "text": [
      "Epoch 1/30\n",
      "507/510 [============================>.] - ETA: 0s - loss: 0.1400 - accuracy: 0.9630\n",
      "Epoch 00001: val_loss improved from inf to 0.03146, saving model to models\\lstm_overlapping.h5\n",
      "510/510 [==============================] - 3s 6ms/step - loss: 0.1394 - accuracy: 0.9632 - val_loss: 0.0315 - val_accuracy: 1.0000\n",
      "Epoch 2/30\n",
      "505/510 [============================>.] - ETA: 0s - loss: 0.0293 - accuracy: 1.0000\n",
      "Epoch 00002: val_loss improved from 0.03146 to 0.02344, saving model to models\\lstm_overlapping.h5\n",
      "510/510 [==============================] - 3s 5ms/step - loss: 0.0293 - accuracy: 1.0000 - val_loss: 0.0234 - val_accuracy: 1.0000\n",
      "Epoch 3/30\n",
      "504/510 [============================>.] - ETA: 0s - loss: 0.0225 - accuracy: 1.0000\n",
      "Epoch 00003: val_loss improved from 0.02344 to 0.01916, saving model to models\\lstm_overlapping.h5\n",
      "510/510 [==============================] - 3s 5ms/step - loss: 0.0225 - accuracy: 1.0000 - val_loss: 0.0192 - val_accuracy: 1.0000\n",
      "Epoch 4/30\n",
      "509/510 [============================>.] - ETA: 0s - loss: 0.0182 - accuracy: 1.0000\n",
      "Epoch 00004: val_loss improved from 0.01916 to 0.01567, saving model to models\\lstm_overlapping.h5\n",
      "510/510 [==============================] - 3s 5ms/step - loss: 0.0182 - accuracy: 1.0000 - val_loss: 0.0157 - val_accuracy: 1.0000\n",
      "Epoch 5/30\n",
      "505/510 [============================>.] - ETA: 0s - loss: 0.0152 - accuracy: 1.0000\n",
      "Epoch 00005: val_loss improved from 0.01567 to 0.01318, saving model to models\\lstm_overlapping.h5\n",
      "510/510 [==============================] - 3s 5ms/step - loss: 0.0152 - accuracy: 1.0000 - val_loss: 0.0132 - val_accuracy: 1.0000\n",
      "Epoch 6/30\n",
      "505/510 [============================>.] - ETA: 0s - loss: 0.0128 - accuracy: 1.0000\n",
      "Epoch 00006: val_loss improved from 0.01318 to 0.01127, saving model to models\\lstm_overlapping.h5\n",
      "510/510 [==============================] - 3s 5ms/step - loss: 0.0128 - accuracy: 1.0000 - val_loss: 0.0113 - val_accuracy: 1.0000\n",
      "Epoch 7/30\n",
      "505/510 [============================>.] - ETA: 0s - loss: 0.0110 - accuracy: 1.0000\n",
      "Epoch 00007: val_loss improved from 0.01127 to 0.00970, saving model to models\\lstm_overlapping.h5\n",
      "510/510 [==============================] - 3s 5ms/step - loss: 0.0110 - accuracy: 1.0000 - val_loss: 0.0097 - val_accuracy: 1.0000\n",
      "Epoch 8/30\n",
      "508/510 [============================>.] - ETA: 0s - loss: 0.0095 - accuracy: 1.0000\n",
      "Epoch 00008: val_loss improved from 0.00970 to 0.00849, saving model to models\\lstm_overlapping.h5\n",
      "510/510 [==============================] - 3s 5ms/step - loss: 0.0095 - accuracy: 1.0000 - val_loss: 0.0085 - val_accuracy: 1.0000\n",
      "Epoch 9/30\n",
      "505/510 [============================>.] - ETA: 0s - loss: 0.0083 - accuracy: 1.0000\n",
      "Epoch 00009: val_loss improved from 0.00849 to 0.00736, saving model to models\\lstm_overlapping.h5\n",
      "510/510 [==============================] - 3s 5ms/step - loss: 0.0083 - accuracy: 1.0000 - val_loss: 0.0074 - val_accuracy: 1.0000\n",
      "Epoch 10/30\n",
      "502/510 [============================>.] - ETA: 0s - loss: 0.0072 - accuracy: 1.0000\n",
      "Epoch 00010: val_loss improved from 0.00736 to 0.00646, saving model to models\\lstm_overlapping.h5\n",
      "510/510 [==============================] - 3s 5ms/step - loss: 0.0072 - accuracy: 1.0000 - val_loss: 0.0065 - val_accuracy: 1.0000\n",
      "Epoch 11/30\n",
      "506/510 [============================>.] - ETA: 0s - loss: 0.0063 - accuracy: 1.0000\n",
      "Epoch 00011: val_loss improved from 0.00646 to 0.00574, saving model to models\\lstm_overlapping.h5\n",
      "510/510 [==============================] - 3s 5ms/step - loss: 0.0063 - accuracy: 1.0000 - val_loss: 0.0057 - val_accuracy: 1.0000\n",
      "Epoch 12/30\n",
      "503/510 [============================>.] - ETA: 0s - loss: 0.0056 - accuracy: 1.0000\n",
      "Epoch 00012: val_loss improved from 0.00574 to 0.00503, saving model to models\\lstm_overlapping.h5\n",
      "510/510 [==============================] - 2s 5ms/step - loss: 0.0056 - accuracy: 1.0000 - val_loss: 0.0050 - val_accuracy: 1.0000\n",
      "Epoch 13/30\n",
      "508/510 [============================>.] - ETA: 0s - loss: 0.0049 - accuracy: 1.0000\n",
      "Epoch 00013: val_loss improved from 0.00503 to 0.00446, saving model to models\\lstm_overlapping.h5\n",
      "510/510 [==============================] - 2s 5ms/step - loss: 0.0049 - accuracy: 1.0000 - val_loss: 0.0045 - val_accuracy: 1.0000\n",
      "Epoch 14/30\n",
      "509/510 [============================>.] - ETA: 0s - loss: 0.0044 - accuracy: 1.0000\n",
      "Epoch 00014: val_loss improved from 0.00446 to 0.00396, saving model to models\\lstm_overlapping.h5\n",
      "510/510 [==============================] - 2s 5ms/step - loss: 0.0043 - accuracy: 1.0000 - val_loss: 0.0040 - val_accuracy: 1.0000\n",
      "Epoch 15/30\n",
      "508/510 [============================>.] - ETA: 0s - loss: 0.0039 - accuracy: 1.0000\n",
      "Epoch 00015: val_loss improved from 0.00396 to 0.00351, saving model to models\\lstm_overlapping.h5\n",
      "510/510 [==============================] - 2s 5ms/step - loss: 0.0039 - accuracy: 1.0000 - val_loss: 0.0035 - val_accuracy: 1.0000\n",
      "Epoch 16/30\n",
      "506/510 [============================>.] - ETA: 0s - loss: 0.0034 - accuracy: 1.0000\n",
      "Epoch 00016: val_loss improved from 0.00351 to 0.00312, saving model to models\\lstm_overlapping.h5\n",
      "510/510 [==============================] - 2s 5ms/step - loss: 0.0034 - accuracy: 1.0000 - val_loss: 0.0031 - val_accuracy: 1.0000\n",
      "Epoch 17/30\n",
      "506/510 [============================>.] - ETA: 0s - loss: 0.0030 - accuracy: 1.0000\n",
      "Epoch 00017: val_loss improved from 0.00312 to 0.00279, saving model to models\\lstm_overlapping.h5\n",
      "510/510 [==============================] - 2s 5ms/step - loss: 0.0030 - accuracy: 1.0000 - val_loss: 0.0028 - val_accuracy: 1.0000\n",
      "Epoch 18/30\n",
      "502/510 [============================>.] - ETA: 0s - loss: 0.0027 - accuracy: 1.0000\n",
      "Epoch 00018: val_loss improved from 0.00279 to 0.00247, saving model to models\\lstm_overlapping.h5\n",
      "510/510 [==============================] - 2s 5ms/step - loss: 0.0027 - accuracy: 1.0000 - val_loss: 0.0025 - val_accuracy: 1.0000\n",
      "Epoch 19/30\n",
      "501/510 [============================>.] - ETA: 0s - loss: 0.0024 - accuracy: 1.0000\n",
      "Epoch 00019: val_loss improved from 0.00247 to 0.00221, saving model to models\\lstm_overlapping.h5\n",
      "510/510 [==============================] - 2s 5ms/step - loss: 0.0024 - accuracy: 1.0000 - val_loss: 0.0022 - val_accuracy: 1.0000\n",
      "Epoch 20/30\n",
      "508/510 [============================>.] - ETA: 0s - loss: 0.0524 - accuracy: 0.9855\n",
      "Epoch 00020: val_loss did not improve from 0.00221\n",
      "510/510 [==============================] - 2s 5ms/step - loss: 0.0523 - accuracy: 0.9855 - val_loss: 0.0080 - val_accuracy: 1.0000\n",
      "Epoch 21/30\n",
      "504/510 [============================>.] - ETA: 0s - loss: 0.0050 - accuracy: 1.0000\n",
      "Epoch 00021: val_loss did not improve from 0.00221\n",
      "510/510 [==============================] - 2s 5ms/step - loss: 0.0050 - accuracy: 1.0000 - val_loss: 0.0032 - val_accuracy: 1.0000\n",
      "Epoch 22/30\n",
      "507/510 [============================>.] - ETA: 0s - loss: 0.0032 - accuracy: 1.0000\n",
      "Epoch 00022: val_loss did not improve from 0.00221\n",
      "510/510 [==============================] - 2s 5ms/step - loss: 0.0032 - accuracy: 1.0000 - val_loss: 0.0027 - val_accuracy: 1.0000\n",
      "Epoch 23/30\n",
      "508/510 [============================>.] - ETA: 0s - loss: 0.0027 - accuracy: 1.0000\n",
      "Epoch 00023: val_loss did not improve from 0.00221\n",
      "510/510 [==============================] - 2s 5ms/step - loss: 0.0027 - accuracy: 1.0000 - val_loss: 0.0024 - val_accuracy: 1.0000\n",
      "Epoch 24/30\n",
      "509/510 [============================>.] - ETA: 0s - loss: 0.0024 - accuracy: 1.0000\n",
      "Epoch 00024: val_loss did not improve from 0.00221\n",
      "510/510 [==============================] - 2s 5ms/step - loss: 0.0024 - accuracy: 1.0000 - val_loss: 0.0022 - val_accuracy: 1.0000\n",
      "Epoch 25/30\n",
      "506/510 [============================>.] - ETA: 0s - loss: 0.0023 - accuracy: 1.0000\n",
      "Epoch 00025: val_loss improved from 0.00221 to 0.00206, saving model to models\\lstm_overlapping.h5\n",
      "510/510 [==============================] - 2s 5ms/step - loss: 0.0023 - accuracy: 1.0000 - val_loss: 0.0021 - val_accuracy: 1.0000\n",
      "Epoch 26/30\n",
      "504/510 [============================>.] - ETA: 0s - loss: 0.0022 - accuracy: 1.0000\n",
      "Epoch 00026: val_loss improved from 0.00206 to 0.00196, saving model to models\\lstm_overlapping.h5\n",
      "510/510 [==============================] - 2s 5ms/step - loss: 0.0022 - accuracy: 1.0000 - val_loss: 0.0020 - val_accuracy: 1.0000\n",
      "Epoch 27/30\n",
      "500/510 [============================>.] - ETA: 0s - loss: 0.0020 - accuracy: 1.0000\n",
      "Epoch 00027: val_loss improved from 0.00196 to 0.00183, saving model to models\\lstm_overlapping.h5\n",
      "510/510 [==============================] - 2s 5ms/step - loss: 0.0020 - accuracy: 1.0000 - val_loss: 0.0018 - val_accuracy: 1.0000\n",
      "Epoch 28/30\n",
      "502/510 [============================>.] - ETA: 0s - loss: 0.0019 - accuracy: 1.0000\n",
      "Epoch 00028: val_loss improved from 0.00183 to 0.00172, saving model to models\\lstm_overlapping.h5\n",
      "510/510 [==============================] - 2s 5ms/step - loss: 0.0019 - accuracy: 1.0000 - val_loss: 0.0017 - val_accuracy: 1.0000\n",
      "Epoch 29/30\n",
      "509/510 [============================>.] - ETA: 0s - loss: 0.0017 - accuracy: 1.0000\n",
      "Epoch 00029: val_loss improved from 0.00172 to 0.00162, saving model to models\\lstm_overlapping.h5\n",
      "510/510 [==============================] - 2s 5ms/step - loss: 0.0017 - accuracy: 1.0000 - val_loss: 0.0016 - val_accuracy: 1.0000\n",
      "Epoch 30/30\n",
      "501/510 [============================>.] - ETA: 0s - loss: 0.0016 - accuracy: 1.0000\n",
      "Epoch 00030: val_loss improved from 0.00162 to 0.00148, saving model to models\\lstm_overlapping.h5\n",
      "510/510 [==============================] - 2s 5ms/step - loss: 0.0016 - accuracy: 1.0000 - val_loss: 0.0015 - val_accuracy: 1.0000\n"
     ]
    },
    {
     "data": {
      "text/plain": [
       "<tensorflow.python.keras.callbacks.History at 0x19a1e5d4648>"
      ]
     },
     "execution_count": 28,
     "metadata": {},
     "output_type": "execute_result"
    }
   ],
   "source": [
    "cp = ModelCheckpoint('models/{}.h5'.format(\"lstm_overlapping\"), monitor='val_loss',\n",
    "                         save_best_only=True, save_weights_only=False,\n",
    "                         mode='auto', save_freq='epoch', verbose=1)\n",
    "csv_logger = CSVLogger(csv_path, append=False)\n",
    "model.fit(tg, validation_data=vg,\n",
    "              epochs=30, verbose=1,\n",
    "              callbacks=[csv_logger, cp])"
   ]
  },
  {
   "cell_type": "code",
   "execution_count": null,
   "metadata": {},
   "outputs": [],
   "source": []
  }
 ],
 "metadata": {
  "kernelspec": {
   "display_name": "Python 3.7.12 ('audio')",
   "language": "python",
   "name": "python3"
  },
  "language_info": {
   "codemirror_mode": {
    "name": "ipython",
    "version": 3
   },
   "file_extension": ".py",
   "mimetype": "text/x-python",
   "name": "python",
   "nbconvert_exporter": "python",
   "pygments_lexer": "ipython3",
   "version": "3.7.12"
  },
  "orig_nbformat": 4,
  "vscode": {
   "interpreter": {
    "hash": "fbc5f3dade03a6727cecaa7eacdf4c72954182e634778ac1645f6072e52dd5df"
   }
  }
 },
 "nbformat": 4,
 "nbformat_minor": 2
}
