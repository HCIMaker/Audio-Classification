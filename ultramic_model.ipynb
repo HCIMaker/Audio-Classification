{
 "cells": [
  {
   "cell_type": "code",
   "execution_count": 1,
   "metadata": {},
   "outputs": [],
   "source": [
    "%load_ext autoreload\n",
    "%autoreload 2"
   ]
  },
  {
   "cell_type": "code",
   "execution_count": 33,
   "metadata": {},
   "outputs": [],
   "source": [
    "import numpy as np\n",
    "from train import *\n",
    "from tensorflow.keras import layers\n",
    "from tensorflow.keras.layers import TimeDistributed, LayerNormalization\n",
    "from tensorflow.keras.models import Model\n",
    "from tensorflow.keras.regularizers import l2\n",
    "import kapre\n",
    "from kapre.composed import get_melspectrogram_layer\n",
    "import tensorflow as tf\n",
    "import os"
   ]
  },
  {
   "cell_type": "code",
   "execution_count": 34,
   "metadata": {},
   "outputs": [
    {
     "name": "stdout",
     "output_type": "stream",
     "text": [
      "Number of Training Object: 2\n",
      "Number of Training instance for each object: 300\n",
      "Dimension of each instance: (36, 234)\n"
     ]
    }
   ],
   "source": [
    "#Prepare for Training\n",
    "train_data = np.load(\"stft_object_clipping.npy\")\n",
    "num_object = train_data.shape[0]\n",
    "num_instance = train_data.shape[1]\n",
    "dim_instance = train_data.shape[2:]\n",
    "print(\"Number of Training Object:\",num_object)\n",
    "print(\"Number of Training instance for each object:\",num_instance)\n",
    "print(\"Dimension of each instance:\",dim_instance)"
   ]
  },
  {
   "cell_type": "code",
   "execution_count": 35,
   "metadata": {},
   "outputs": [
    {
     "data": {
      "text/plain": [
       "LabelEncoder()"
      ]
     },
     "execution_count": 35,
     "metadata": {},
     "output_type": "execute_result"
    }
   ],
   "source": [
    "classes = sorted(os.listdir(\"wavfiles_ultramic\"))\n",
    "le = LabelEncoder()\n",
    "le.fit(classes)"
   ]
  },
  {
   "cell_type": "code",
   "execution_count": 36,
   "metadata": {},
   "outputs": [
    {
     "name": "stdout",
     "output_type": "stream",
     "text": [
      "(600, 36, 234)\n"
     ]
    }
   ],
   "source": [
    "#Create label for each instance\n",
    "labels = []\n",
    "for i in range(0,num_object):\n",
    "    for j in range(0,num_instance):\n",
    "        labels.append(classes[i])\n",
    "labels = le.transform(labels)\n",
    "train_data = train_data.reshape(num_object*num_instance,dim_instance[0],dim_instance[1])\n",
    "print(train_data.shape)"
   ]
  },
  {
   "cell_type": "code",
   "execution_count": 37,
   "metadata": {},
   "outputs": [],
   "source": [
    "trainset, valset, label_train, label_val = train_test_split(train_data,\n",
    "                                                    labels,\n",
    "                                                    test_size=0.2,\n",
    "                                                    random_state=0)"
   ]
  },
  {
   "cell_type": "code",
   "execution_count": 38,
   "metadata": {},
   "outputs": [],
   "source": [
    "class DataGenerator_npy(tf.keras.utils.Sequence):\n",
    "    def __init__(self, data, labels, dim, n_classes,\n",
    "                 batch_size=8, shuffle=True):\n",
    "        self.data = data\n",
    "        self.labels = labels\n",
    "        self.dim = dim\n",
    "        self.n_classes = n_classes\n",
    "        self.batch_size = batch_size\n",
    "        self.shuffle = True\n",
    "        self.on_epoch_end()\n",
    "\n",
    "\n",
    "    def __len__(self):\n",
    "        return int(np.floor(len(self.data) / self.batch_size))\n",
    "\n",
    "\n",
    "    def __getitem__(self, index):\n",
    "        # Where is the input of index?\n",
    "        indexes = self.indexes[index*self.batch_size:(index+1)*self.batch_size]\n",
    "\n",
    "        data_tmp = [self.data[k] for k in indexes]\n",
    "        labels = [self.labels[k] for k in indexes]\n",
    "\n",
    "        # generate a batch of time data\n",
    "        X = np.empty((self.batch_size, *self.dim, 1), dtype=np.float32)\n",
    "        # The format of Y gonna be: Y[0,:] = 0,1/1,0\n",
    "        Y = np.empty((self.batch_size, self.n_classes), dtype=np.float32)\n",
    "\n",
    "        for i, (instance, label) in enumerate(zip(data_tmp, labels)):\n",
    "            X[i,] = instance.reshape((*self.dim,1))\n",
    "            Y[i,] = to_categorical(label, num_classes=self.n_classes)\n",
    "\n",
    "        return X, Y\n",
    "\n",
    "\n",
    "    def on_epoch_end(self):\n",
    "        self.indexes = np.arange(len(self.data))\n",
    "        if self.shuffle:\n",
    "            np.random.shuffle(self.indexes)"
   ]
  },
  {
   "cell_type": "code",
   "execution_count": 39,
   "metadata": {},
   "outputs": [],
   "source": [
    "tg = DataGenerator_npy(trainset, label_train, dim_instance,num_object)"
   ]
  },
  {
   "cell_type": "code",
   "execution_count": 40,
   "metadata": {},
   "outputs": [],
   "source": [
    "vg = DataGenerator_npy(valset, label_val, dim_instance,num_object)"
   ]
  },
  {
   "cell_type": "code",
   "execution_count": 41,
   "metadata": {},
   "outputs": [],
   "source": [
    "def Conv1D_ultramic(N_CLASSES=2, dim=(36,234)):\n",
    "    input = tf.keras.Input(shape=(*dim,1))\n",
    "    x = LayerNormalization(axis=2, name='batch_norm')(input)\n",
    "    x = TimeDistributed(layers.Conv1D(8, kernel_size=(4), activation='tanh'), name='td_conv_1d_tanh')(x)\n",
    "    x = layers.MaxPooling2D(pool_size=(2,2), name='max_pool_2d_1')(x)\n",
    "    x = TimeDistributed(layers.Conv1D(16, kernel_size=(4), activation='relu'), name='td_conv_1d_relu_1')(x)\n",
    "    x = layers.MaxPooling2D(pool_size=(2,2), name='max_pool_2d_2')(x)\n",
    "    x = TimeDistributed(layers.Conv1D(32, kernel_size=(4), activation='relu'), name='td_conv_1d_relu_2')(x)\n",
    "    x = layers.MaxPooling2D(pool_size=(2,2), name='max_pool_2d_3')(x)\n",
    "    x = TimeDistributed(layers.Conv1D(64, kernel_size=(4), activation='relu'), name='td_conv_1d_relu_3')(x)\n",
    "    x = layers.MaxPooling2D(pool_size=(2,2), name='max_pool_2d_4')(x)\n",
    "    x = TimeDistributed(layers.Conv1D(128, kernel_size=(4), activation='relu'), name='td_conv_1d_relu_4')(x)\n",
    "    x = layers.GlobalMaxPooling2D(name='global_max_pooling_2d')(x)\n",
    "    x = layers.Dropout(rate=0.1, name='dropout')(x)\n",
    "    x = layers.Dense(64, activation='relu', activity_regularizer=l2(0.001), name='dense')(x)\n",
    "    o = layers.Dense(N_CLASSES, activation='softmax', name='softmax')(x)\n",
    "    model = Model(inputs=input, outputs=o, name='1d_convolution')\n",
    "    model.compile(optimizer='adam',\n",
    "                  loss='categorical_crossentropy',\n",
    "                  metrics=['accuracy'])\n",
    "    return model\n",
    "\n",
    "def Conv2D_ultramic(N_CLASSES=2, dim=(36,234)):\n",
    "    input = tf.keras.Input(shape=(*dim,1))\n",
    "    x = LayerNormalization(axis=2, name='batch_norm')(input)\n",
    "    x = layers.Conv2D(8, kernel_size=(7,7), activation='tanh', padding='same', name='conv2d_tanh')(x)\n",
    "    x = layers.MaxPooling2D(pool_size=(2,2), padding='same', name='max_pool_2d_1')(x)\n",
    "    x = layers.Conv2D(16, kernel_size=(5,5), activation='relu', padding='same', name='conv2d_relu_1')(x)\n",
    "    x = layers.MaxPooling2D(pool_size=(2,2), padding='same', name='max_pool_2d_2')(x)\n",
    "    x = layers.Conv2D(16, kernel_size=(3,3), activation='relu', padding='same', name='conv2d_relu_2')(x)\n",
    "    x = layers.MaxPooling2D(pool_size=(2,2), padding='same', name='max_pool_2d_3')(x)\n",
    "    x = layers.Conv2D(32, kernel_size=(3,3), activation='relu', padding='same', name='conv2d_relu_3')(x)\n",
    "    x = layers.MaxPooling2D(pool_size=(2,2), padding='same', name='max_pool_2d_4')(x)\n",
    "    x = layers.Conv2D(32, kernel_size=(3,3), activation='relu', padding='same', name='conv2d_relu_4')(x)\n",
    "    x = layers.Flatten(name='flatten')(x)\n",
    "    x = layers.Dropout(rate=0.2, name='dropout')(x)\n",
    "    x = layers.Dense(64, activation='relu', activity_regularizer=l2(0.001), name='dense')(x)\n",
    "    o = layers.Dense(N_CLASSES, activation='softmax', name='softmax')(x)\n",
    "    model = Model(inputs=input, outputs=o, name='2d_convolution')\n",
    "    model.compile(optimizer='adam',\n",
    "                  loss='categorical_crossentropy',\n",
    "                  metrics=['accuracy'])\n",
    "    return model\n",
    "\n",
    "def LSTM_ultramic(N_CLASSES=2, dim=(36,234)):\n",
    "    input = tf.keras.Input(shape=(*dim,1))\n",
    "    x = LayerNormalization(axis=2, name='batch_norm')(input)\n",
    "    x = TimeDistributed(layers.Reshape((-1,)), name='reshape')(x)\n",
    "    s = TimeDistributed(layers.Dense(64, activation='tanh'),\n",
    "                        name='td_dense_tanh')(x)\n",
    "    x = layers.Bidirectional(layers.LSTM(32, return_sequences=True),\n",
    "                             name='bidirectional_lstm')(s)\n",
    "    x = layers.concatenate([s, x], axis=2, name='skip_connection')\n",
    "    x = layers.Dense(64, activation='relu', name='dense_1_relu')(x)\n",
    "    x = layers.MaxPooling1D(name='max_pool_1d')(x)\n",
    "    x = layers.Dense(32, activation='relu', name='dense_2_relu')(x)\n",
    "    x = layers.Flatten(name='flatten')(x)\n",
    "    x = layers.Dropout(rate=0.2, name='dropout')(x)\n",
    "    x = layers.Dense(32, activation='relu',\n",
    "                         activity_regularizer=l2(0.001),\n",
    "                         name='dense_3_relu')(x)\n",
    "    o = layers.Dense(N_CLASSES, activation='softmax', name='softmax')(x)\n",
    "    model = Model(inputs=input, outputs=o, name='long_short_term_memory')\n",
    "    model.compile(optimizer='adam',\n",
    "                  loss='categorical_crossentropy',\n",
    "                  metrics=['accuracy'])\n",
    "\n",
    "    return model"
   ]
  },
  {
   "cell_type": "code",
   "execution_count": 48,
   "metadata": {},
   "outputs": [],
   "source": [
    "model = LSTM_ultramic()\n",
    "csv_path = os.path.join('logs', '{}_test.csv'.format(\"lstm\"))"
   ]
  },
  {
   "cell_type": "code",
   "execution_count": 49,
   "metadata": {},
   "outputs": [
    {
     "name": "stdout",
     "output_type": "stream",
     "text": [
      "Epoch 1/30\n",
      "55/60 [==========================>...] - ETA: 0s - loss: 0.3069 - accuracy: 0.8750\n",
      "Epoch 00001: val_loss improved from inf to 0.06707, saving model to models\\lstm_ultarmic.h5\n",
      "60/60 [==============================] - 1s 13ms/step - loss: 0.2954 - accuracy: 0.8792 - val_loss: 0.0671 - val_accuracy: 0.9917\n",
      "Epoch 2/30\n",
      "55/60 [==========================>...] - ETA: 0s - loss: 0.1364 - accuracy: 0.9455\n",
      "Epoch 00002: val_loss improved from 0.06707 to 0.05354, saving model to models\\lstm_ultarmic.h5\n",
      "60/60 [==============================] - 0s 7ms/step - loss: 0.1288 - accuracy: 0.9500 - val_loss: 0.0535 - val_accuracy: 1.0000\n",
      "Epoch 3/30\n",
      "55/60 [==========================>...] - ETA: 0s - loss: 0.0547 - accuracy: 0.9864\n",
      "Epoch 00003: val_loss did not improve from 0.05354\n",
      "60/60 [==============================] - 0s 6ms/step - loss: 0.0548 - accuracy: 0.9854 - val_loss: 0.0666 - val_accuracy: 0.9833\n",
      "Epoch 4/30\n",
      "54/60 [==========================>...] - ETA: 0s - loss: 0.0490 - accuracy: 0.9884\n",
      "Epoch 00004: val_loss improved from 0.05354 to 0.02604, saving model to models\\lstm_ultarmic.h5\n",
      "60/60 [==============================] - 0s 7ms/step - loss: 0.0469 - accuracy: 0.9896 - val_loss: 0.0260 - val_accuracy: 1.0000\n",
      "Epoch 5/30\n",
      "55/60 [==========================>...] - ETA: 0s - loss: 0.0266 - accuracy: 1.0000\n",
      "Epoch 00005: val_loss improved from 0.02604 to 0.02413, saving model to models\\lstm_ultarmic.h5\n",
      "60/60 [==============================] - 0s 7ms/step - loss: 0.0264 - accuracy: 1.0000 - val_loss: 0.0241 - val_accuracy: 1.0000\n",
      "Epoch 6/30\n",
      "55/60 [==========================>...] - ETA: 0s - loss: 0.0236 - accuracy: 1.0000\n",
      "Epoch 00006: val_loss improved from 0.02413 to 0.02132, saving model to models\\lstm_ultarmic.h5\n",
      "60/60 [==============================] - 0s 7ms/step - loss: 0.0235 - accuracy: 1.0000 - val_loss: 0.0213 - val_accuracy: 1.0000\n",
      "Epoch 7/30\n",
      "53/60 [=========================>....] - ETA: 0s - loss: 0.0215 - accuracy: 1.0000\n",
      "Epoch 00007: val_loss improved from 0.02132 to 0.01948, saving model to models\\lstm_ultarmic.h5\n",
      "60/60 [==============================] - 0s 7ms/step - loss: 0.0215 - accuracy: 1.0000 - val_loss: 0.0195 - val_accuracy: 1.0000\n",
      "Epoch 8/30\n",
      "55/60 [==========================>...] - ETA: 0s - loss: 0.0197 - accuracy: 1.0000\n",
      "Epoch 00008: val_loss improved from 0.01948 to 0.01772, saving model to models\\lstm_ultarmic.h5\n",
      "60/60 [==============================] - 0s 7ms/step - loss: 0.0196 - accuracy: 1.0000 - val_loss: 0.0177 - val_accuracy: 1.0000\n",
      "Epoch 9/30\n",
      "54/60 [==========================>...] - ETA: 0s - loss: 0.0179 - accuracy: 1.0000\n",
      "Epoch 00009: val_loss improved from 0.01772 to 0.01643, saving model to models\\lstm_ultarmic.h5\n",
      "60/60 [==============================] - 0s 7ms/step - loss: 0.0179 - accuracy: 1.0000 - val_loss: 0.0164 - val_accuracy: 1.0000\n",
      "Epoch 10/30\n",
      "54/60 [==========================>...] - ETA: 0s - loss: 0.0163 - accuracy: 1.0000\n",
      "Epoch 00010: val_loss improved from 0.01643 to 0.01514, saving model to models\\lstm_ultarmic.h5\n",
      "60/60 [==============================] - 0s 7ms/step - loss: 0.0163 - accuracy: 1.0000 - val_loss: 0.0151 - val_accuracy: 1.0000\n",
      "Epoch 11/30\n",
      "53/60 [=========================>....] - ETA: 0s - loss: 0.0150 - accuracy: 1.0000\n",
      "Epoch 00011: val_loss improved from 0.01514 to 0.01390, saving model to models\\lstm_ultarmic.h5\n",
      "60/60 [==============================] - 0s 7ms/step - loss: 0.0149 - accuracy: 1.0000 - val_loss: 0.0139 - val_accuracy: 1.0000\n",
      "Epoch 12/30\n",
      "60/60 [==============================] - ETA: 0s - loss: 0.0139 - accuracy: 1.0000\n",
      "Epoch 00012: val_loss improved from 0.01390 to 0.01325, saving model to models\\lstm_ultarmic.h5\n",
      "60/60 [==============================] - 0s 7ms/step - loss: 0.0139 - accuracy: 1.0000 - val_loss: 0.0132 - val_accuracy: 1.0000\n",
      "Epoch 13/30\n",
      "60/60 [==============================] - ETA: 0s - loss: 0.0128 - accuracy: 1.0000\n",
      "Epoch 00013: val_loss improved from 0.01325 to 0.01209, saving model to models\\lstm_ultarmic.h5\n",
      "60/60 [==============================] - 0s 7ms/step - loss: 0.0128 - accuracy: 1.0000 - val_loss: 0.0121 - val_accuracy: 1.0000\n",
      "Epoch 14/30\n",
      "53/60 [=========================>....] - ETA: 0s - loss: 0.0120 - accuracy: 1.0000\n",
      "Epoch 00014: val_loss improved from 0.01209 to 0.01149, saving model to models\\lstm_ultarmic.h5\n",
      "60/60 [==============================] - 0s 7ms/step - loss: 0.0120 - accuracy: 1.0000 - val_loss: 0.0115 - val_accuracy: 1.0000\n",
      "Epoch 15/30\n",
      "58/60 [============================>.] - ETA: 0s - loss: 0.0112 - accuracy: 1.0000\n",
      "Epoch 00015: val_loss improved from 0.01149 to 0.01061, saving model to models\\lstm_ultarmic.h5\n",
      "60/60 [==============================] - 0s 7ms/step - loss: 0.0112 - accuracy: 1.0000 - val_loss: 0.0106 - val_accuracy: 1.0000\n",
      "Epoch 16/30\n",
      "52/60 [=========================>....] - ETA: 0s - loss: 0.0106 - accuracy: 1.0000\n",
      "Epoch 00016: val_loss improved from 0.01061 to 0.01005, saving model to models\\lstm_ultarmic.h5\n",
      "60/60 [==============================] - 0s 7ms/step - loss: 0.0106 - accuracy: 1.0000 - val_loss: 0.0101 - val_accuracy: 1.0000\n",
      "Epoch 17/30\n",
      "55/60 [==========================>...] - ETA: 0s - loss: 0.0100 - accuracy: 1.0000\n",
      "Epoch 00017: val_loss improved from 0.01005 to 0.00954, saving model to models\\lstm_ultarmic.h5\n",
      "60/60 [==============================] - 0s 7ms/step - loss: 0.0100 - accuracy: 1.0000 - val_loss: 0.0095 - val_accuracy: 1.0000\n",
      "Epoch 18/30\n",
      "52/60 [=========================>....] - ETA: 0s - loss: 0.0095 - accuracy: 1.0000\n",
      "Epoch 00018: val_loss improved from 0.00954 to 0.00911, saving model to models\\lstm_ultarmic.h5\n",
      "60/60 [==============================] - 0s 7ms/step - loss: 0.0095 - accuracy: 1.0000 - val_loss: 0.0091 - val_accuracy: 1.0000\n",
      "Epoch 19/30\n",
      "53/60 [=========================>....] - ETA: 0s - loss: 0.0092 - accuracy: 1.0000\n",
      "Epoch 00019: val_loss improved from 0.00911 to 0.00876, saving model to models\\lstm_ultarmic.h5\n",
      "60/60 [==============================] - 0s 7ms/step - loss: 0.0091 - accuracy: 1.0000 - val_loss: 0.0088 - val_accuracy: 1.0000\n",
      "Epoch 20/30\n",
      "58/60 [============================>.] - ETA: 0s - loss: 0.0086 - accuracy: 1.0000\n",
      "Epoch 00020: val_loss improved from 0.00876 to 0.00830, saving model to models\\lstm_ultarmic.h5\n",
      "60/60 [==============================] - 0s 7ms/step - loss: 0.0086 - accuracy: 1.0000 - val_loss: 0.0083 - val_accuracy: 1.0000\n",
      "Epoch 21/30\n",
      "56/60 [===========================>..] - ETA: 0s - loss: 0.0083 - accuracy: 1.0000\n",
      "Epoch 00021: val_loss improved from 0.00830 to 0.00807, saving model to models\\lstm_ultarmic.h5\n",
      "60/60 [==============================] - 0s 7ms/step - loss: 0.0083 - accuracy: 1.0000 - val_loss: 0.0081 - val_accuracy: 1.0000\n",
      "Epoch 22/30\n",
      "59/60 [============================>.] - ETA: 0s - loss: 0.0079 - accuracy: 1.0000\n",
      "Epoch 00022: val_loss improved from 0.00807 to 0.00775, saving model to models\\lstm_ultarmic.h5\n",
      "60/60 [==============================] - 0s 7ms/step - loss: 0.0079 - accuracy: 1.0000 - val_loss: 0.0078 - val_accuracy: 1.0000\n",
      "Epoch 23/30\n",
      "52/60 [=========================>....] - ETA: 0s - loss: 0.0076 - accuracy: 1.0000\n",
      "Epoch 00023: val_loss improved from 0.00775 to 0.00748, saving model to models\\lstm_ultarmic.h5\n",
      "60/60 [==============================] - 0s 7ms/step - loss: 0.0076 - accuracy: 1.0000 - val_loss: 0.0075 - val_accuracy: 1.0000\n",
      "Epoch 24/30\n",
      "52/60 [=========================>....] - ETA: 0s - loss: 0.0074 - accuracy: 1.0000\n",
      "Epoch 00024: val_loss improved from 0.00748 to 0.00715, saving model to models\\lstm_ultarmic.h5\n",
      "60/60 [==============================] - 0s 7ms/step - loss: 0.0073 - accuracy: 1.0000 - val_loss: 0.0071 - val_accuracy: 1.0000\n",
      "Epoch 25/30\n",
      "59/60 [============================>.] - ETA: 0s - loss: 0.0070 - accuracy: 1.0000\n",
      "Epoch 00025: val_loss improved from 0.00715 to 0.00688, saving model to models\\lstm_ultarmic.h5\n",
      "60/60 [==============================] - 0s 7ms/step - loss: 0.0070 - accuracy: 1.0000 - val_loss: 0.0069 - val_accuracy: 1.0000\n",
      "Epoch 26/30\n",
      "59/60 [============================>.] - ETA: 0s - loss: 0.0068 - accuracy: 1.0000\n",
      "Epoch 00026: val_loss improved from 0.00688 to 0.00675, saving model to models\\lstm_ultarmic.h5\n",
      "60/60 [==============================] - 0s 7ms/step - loss: 0.0068 - accuracy: 1.0000 - val_loss: 0.0068 - val_accuracy: 1.0000\n",
      "Epoch 27/30\n",
      "60/60 [==============================] - ETA: 0s - loss: 0.0065 - accuracy: 1.0000\n",
      "Epoch 00027: val_loss improved from 0.00675 to 0.00647, saving model to models\\lstm_ultarmic.h5\n",
      "60/60 [==============================] - 0s 7ms/step - loss: 0.0065 - accuracy: 1.0000 - val_loss: 0.0065 - val_accuracy: 1.0000\n",
      "Epoch 28/30\n",
      "54/60 [==========================>...] - ETA: 0s - loss: 0.0064 - accuracy: 1.0000\n",
      "Epoch 00028: val_loss improved from 0.00647 to 0.00620, saving model to models\\lstm_ultarmic.h5\n",
      "60/60 [==============================] - 0s 7ms/step - loss: 0.0064 - accuracy: 1.0000 - val_loss: 0.0062 - val_accuracy: 1.0000\n",
      "Epoch 29/30\n",
      "54/60 [==========================>...] - ETA: 0s - loss: 0.0062 - accuracy: 1.0000\n",
      "Epoch 00029: val_loss improved from 0.00620 to 0.00605, saving model to models\\lstm_ultarmic.h5\n",
      "60/60 [==============================] - 0s 7ms/step - loss: 0.0061 - accuracy: 1.0000 - val_loss: 0.0060 - val_accuracy: 1.0000\n",
      "Epoch 30/30\n",
      "54/60 [==========================>...] - ETA: 0s - loss: 0.0060 - accuracy: 1.0000\n",
      "Epoch 00030: val_loss improved from 0.00605 to 0.00597, saving model to models\\lstm_ultarmic.h5\n",
      "60/60 [==============================] - 0s 7ms/step - loss: 0.0060 - accuracy: 1.0000 - val_loss: 0.0060 - val_accuracy: 1.0000\n"
     ]
    },
    {
     "data": {
      "text/plain": [
       "<tensorflow.python.keras.callbacks.History at 0x2c8883a05c8>"
      ]
     },
     "execution_count": 49,
     "metadata": {},
     "output_type": "execute_result"
    }
   ],
   "source": [
    "cp = ModelCheckpoint('models/{}.h5'.format(\"lstm_ultarmic\"), monitor='val_loss',\n",
    "                         save_best_only=True, save_weights_only=False,\n",
    "                         mode='auto', save_freq='epoch', verbose=1)\n",
    "csv_logger = CSVLogger(csv_path, append=False)\n",
    "model.fit(tg, validation_data=vg,\n",
    "              epochs=30, verbose=1,\n",
    "              callbacks=[csv_logger, cp])"
   ]
  },
  {
   "cell_type": "code",
   "execution_count": null,
   "metadata": {},
   "outputs": [],
   "source": []
  }
 ],
 "metadata": {
  "kernelspec": {
   "display_name": "Python 3.7.12 ('audio')",
   "language": "python",
   "name": "python3"
  },
  "language_info": {
   "codemirror_mode": {
    "name": "ipython",
    "version": 3
   },
   "file_extension": ".py",
   "mimetype": "text/x-python",
   "name": "python",
   "nbconvert_exporter": "python",
   "pygments_lexer": "ipython3",
   "version": "3.7.12"
  },
  "orig_nbformat": 4,
  "vscode": {
   "interpreter": {
    "hash": "fbc5f3dade03a6727cecaa7eacdf4c72954182e634778ac1645f6072e52dd5df"
   }
  }
 },
 "nbformat": 4,
 "nbformat_minor": 2
}
