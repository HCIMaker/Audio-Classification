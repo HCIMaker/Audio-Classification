{
 "cells": [
  {
   "cell_type": "code",
   "execution_count": 1,
   "metadata": {},
   "outputs": [],
   "source": [
    "from tensorflow.keras.models import load_model\n",
    "from clean import downsample_mono, envelope\n",
    "from kapre.time_frequency import STFT, Magnitude, ApplyFilterbank, MagnitudeToDecibel\n",
    "from sklearn.preprocessing import LabelEncoder\n",
    "import numpy as np\n",
    "from glob import glob\n",
    "import argparse\n",
    "import os\n",
    "import pandas as pd\n",
    "from tqdm import tqdm"
   ]
  },
  {
   "cell_type": "code",
   "execution_count": 2,
   "metadata": {},
   "outputs": [],
   "source": [
    "from sklearn.metrics import f1_score"
   ]
  },
  {
   "cell_type": "code",
   "execution_count": 3,
   "metadata": {},
   "outputs": [],
   "source": [
    "from sklearn.metrics import roc_auc_score, roc_curve, auc, confusion_matrix, plot_confusion_matrix\n",
    "import matplotlib.pyplot as plt\n",
    "import seaborn as sns"
   ]
  },
  {
   "cell_type": "code",
   "execution_count": 10,
   "metadata": {},
   "outputs": [
    {
     "name": "stdout",
     "output_type": "stream",
     "text": [
      "['npy_augmented_real/Real_L_Test.npy', 'npy_augmented_real/Real_R_Test.npy']\n",
      "(100, 8, 1921, 1)\n",
      "(100,)\n"
     ]
    }
   ],
   "source": [
    "model = load_model(\"models/lstm_tmp.h5\")\n",
    "test_paths = glob('{}/**'.format(\"npy_augmented_real\"), recursive=True)\n",
    "test_paths = sorted([x.replace(os.sep, '/') for x in test_paths if 'Test' in x])\n",
    "print(test_paths)\n",
    "test_L = np.abs(np.load(test_paths[0]))\n",
    "label_L = np.stack([\"L\" for i in range(test_L.shape[0])])\n",
    "test_R = np.abs(np.load(test_paths[1]))\n",
    "label_R = np.stack([\"R\" for i in range(test_R.shape[0])])\n",
    "test_data = np.concatenate((test_L,test_R),axis=0)\n",
    "test_data = test_data.reshape((*test_data.shape,1))\n",
    "print(test_data.shape)\n",
    "test_label = np.concatenate((label_L,label_R))\n",
    "print(test_label.shape)\n",
    "for i in range(test_data.shape[0]):\n",
    "    test_data[i] /= test_data[i].max()"
   ]
  },
  {
   "cell_type": "code",
   "execution_count": 13,
   "metadata": {},
   "outputs": [
    {
     "name": "stdout",
     "output_type": "stream",
     "text": [
      "[0 0 0 0 0 0 0 0 0 0 0 0 0 0 0 0 0 0 0 0 0 0 0 0 0 0 0 0 0 0 0 0 0 0 0 0 0\n",
      " 0 0 0 0 0 0 0 0 0 0 0 0 0 1 1 1 1 1 1 1 1 1 1 1 1 1 1 1 1 1 1 1 1 1 1 1 1\n",
      " 1 1 1 1 1 1 1 1 1 1 1 1 1 1 1 1 1 1 1 1 1 1 1 1 1 1]\n",
      "50\n"
     ]
    }
   ],
   "source": [
    "y_pred = model.predict(test_data)\n",
    "y_pred_le = np.argmax(y_pred,axis=1)\n",
    "print(y_pred_le)\n",
    "print(np.sum(y_pred_le))"
   ]
  },
  {
   "cell_type": "code",
   "execution_count": 3,
   "metadata": {},
   "outputs": [
    {
     "name": "stdout",
     "output_type": "stream",
     "text": [
      "['npy_overlapping/Separated_Clarinet_C.npy']\n",
      "complex64\n",
      "(18, 48, 1921)\n",
      "Number of Testing instance for each object: 18\n",
      "Dimension of each instance: (48, 1921)\n",
      "(18, 48, 1921, 1)\n"
     ]
    }
   ],
   "source": [
    "model = load_model(\"models/lstm_ultarmic.h5\")\n",
    "test_paths = glob('{}/**'.format(\"npy_overlapping\"), recursive=True)\n",
    "test_paths = sorted([x.replace(os.sep, '/') for x in test_paths if 'Clarinet' in x])\n",
    "print(test_paths)\n",
    "test_data = np.load(test_paths[0])\n",
    "print(test_data.dtype)\n",
    "print(test_data.shape)\n",
    "num_instance = test_data.shape[0]\n",
    "dim_instance = test_data.shape[1:]\n",
    "print(\"Number of Testing instance for each object:\",num_instance)\n",
    "print(\"Dimension of each instance:\",dim_instance)\n",
    "test_data = test_data.reshape((*test_data.shape,1))\n",
    "print(test_data.shape)"
   ]
  },
  {
   "cell_type": "code",
   "execution_count": 4,
   "metadata": {},
   "outputs": [
    {
     "name": "stdout",
     "output_type": "stream",
     "text": [
      "['npy_files/Test.npy', 'npy_files/Test_label.npy']\n",
      "float32\n",
      "(216, 48, 1921)\n",
      "Number of Testing instance for each object: 216\n",
      "Dimension of each instance: (48, 1921)\n",
      "(216, 48, 1921, 1)\n"
     ]
    }
   ],
   "source": [
    "model = load_model(\"models/lstm_ultarmic.h5\")\n",
    "test_paths = glob('{}/**'.format(\"npy_files\"), recursive=True)\n",
    "test_paths = sorted([x.replace(os.sep, '/') for x in test_paths if 'Test' in x])\n",
    "print(test_paths)\n",
    "test_data = np.load(test_paths[0])\n",
    "print(test_data.dtype)\n",
    "print(test_data.shape)\n",
    "num_instance = test_data.shape[0]\n",
    "dim_instance = test_data.shape[1:]\n",
    "print(\"Number of Testing instance for each object:\",num_instance)\n",
    "print(\"Dimension of each instance:\",dim_instance)\n",
    "test_data = test_data.reshape((*test_data.shape,1))\n",
    "print(test_data.shape)"
   ]
  },
  {
   "cell_type": "code",
   "execution_count": 5,
   "metadata": {},
   "outputs": [
    {
     "name": "stdout",
     "output_type": "stream",
     "text": [
      "Classes are: ['Acoustic_guitar', 'Bass_drum', 'Cello', 'Clarinet', 'Double_bass', 'Flute', 'Hi_hat', 'None', 'Saxophone', 'Snare_drum', 'Violin_or_fiddle']\n"
     ]
    }
   ],
   "source": [
    "src_root = \"wavfiles_ultramic\"\n",
    "wav_paths = glob('{}/**'.format(src_root), recursive=True)\n",
    "wav_paths = [x for x in wav_paths if \"Test.wav\" in x]\n",
    "cls = sorted([os.path.split(x)[-1].split('_T')[0] for x in wav_paths])\n",
    "print(\"Classes are:\",cls)"
   ]
  },
  {
   "cell_type": "code",
   "execution_count": 6,
   "metadata": {},
   "outputs": [
    {
     "name": "stdout",
     "output_type": "stream",
     "text": [
      "[ 0  0  0  0  0  0  0  0  0  0  0  0  0  0  0  0  0  1  1  1  1  1  1  1\n",
      "  2  2  2  2  2  2  2  2  2  2  2  2  2  2  2  2  2  2  3  3  3  3  3  3\n",
      "  3  3  3  3  3  3  3  3  3  3  3  3  3  3  3  3  3  3  3  3  3  3  3  4\n",
      "  4  4  4  4  4  4  4  4  4  5  5  5  5  5  5  5  5  5  5  5  5  5  5  5\n",
      "  5  5  5  5  5  5  5  5  5  5  5  5  5  5  5  5  5  6  6  6  6  6  6  6\n",
      "  7  7  7  7  7  7  7  7  7  7  7  7  7  7  7  7  7  7  7  7  7  7  7  7\n",
      "  7  8  8  8  8  8  8  8  8  8  8  8  8  8  8  8  8  8  8  8  8  8  8  8\n",
      "  8  8  8  8  8  8  8  8  8  8  8  8  8  9  9  9  9  9  9  9  9  9  9  9\n",
      "  9  9  9 10 10 10 10 10 10 10 10 10 10 10 10 10 10 10 10 10 10 10 10 10]\n"
     ]
    }
   ],
   "source": [
    "labels = np.load(test_paths[1])\n",
    "le = LabelEncoder()\n",
    "le.fit(cls)\n",
    "y_true = le.fit_transform(labels)\n",
    "print(y_true)"
   ]
  },
  {
   "cell_type": "code",
   "execution_count": 7,
   "metadata": {},
   "outputs": [],
   "source": [
    "y_pred = model.predict(test_data)"
   ]
  },
  {
   "cell_type": "code",
   "execution_count": 8,
   "metadata": {},
   "outputs": [
    {
     "name": "stdout",
     "output_type": "stream",
     "text": [
      "[ 0  0  0  0  0  0  0  0  0  0  0  0  0  4  0  0  0  1  1  1  4  1  4  1\n",
      "  2  2  2  2  2  2  2  2  2  2  2  2  2  2  2  2  2  2  3  3  3  3  3  3\n",
      "  3  3  3  3  3  3  3  3  3  3  3  3  3  3  3  3  3  3  3  3  3  3  3  4\n",
      "  2  4  4  4  4  4  4  4  1  5  5  5  5  5  5  5  5  5  5  5  5  5  5  5\n",
      "  5  5  5  5  5  5  5  5  5  5  5  5  5  5  5  5  5  6  6  6  6  6  6  6\n",
      "  7  7  7  7  7  7  7  7  7  7  7  7  7  7  7  7  7  7  7  7  7  7  7  7\n",
      "  7  8  8  8  8  8  8  8  8  8  8  8  8  8  8  8  8  8  8  8  8  8  8  8\n",
      "  8  8  8  8  8  8  8  8  8  8  8  8  8  9  9  9  9  9  9  9  9  9  9  9\n",
      "  9  9  9 10 10 10 10  9 10 10 10 10 10 10  8 10 10 10 10 10 10 10 10 10]\n"
     ]
    }
   ],
   "source": [
    "y_pred_le = np.argmax(y_pred,axis=1)\n",
    "print(y_pred_le)"
   ]
  },
  {
   "cell_type": "code",
   "execution_count": 9,
   "metadata": {},
   "outputs": [],
   "source": [
    "y_pred_labels = [cls[x] for x in y_pred_le]\n",
    "y_true_labels = [cls[x] for x in y_true]"
   ]
  },
  {
   "cell_type": "code",
   "execution_count": 10,
   "metadata": {},
   "outputs": [
    {
     "data": {
      "image/png": "[encoded data removed]",
      "text/plain": [
       "<Figure size 720x576 with 2 Axes>"
      ]
     },
     "metadata": {
      "needs_background": "light"
     },
     "output_type": "display_data"
    }
   ],
   "source": [
    "conf_mat = confusion_matrix(y_true_labels, y_pred_labels, labels=cls,normalize='true')\n",
    "df_cm = pd.DataFrame(conf_mat, index = cls,\n",
    "                     columns = cls)\n",
    "plt.figure(figsize = (10,8),tight_layout=True)\n",
    "plt.title('Non-overlapping source;Confusion Matrix;LSTM',fontsize=20)\n",
    "hm = sns.heatmap(df_cm, annot=True, cmap='viridis')\n",
    "fig = hm.get_figure()    \n",
    "#fig.savefig(\"nonlap_cm_lstm.jpg\",dpi=100)\n",
    "plt.show()"
   ]
  },
  {
   "cell_type": "code",
   "execution_count": 14,
   "metadata": {},
   "outputs": [
    {
     "data": {
      "text/plain": [
       "0.9674820171129808"
      ]
     },
     "execution_count": 14,
     "metadata": {},
     "output_type": "execute_result"
    }
   ],
   "source": [
    "f1_score(y_true_labels, y_pred_labels, average='weighted')"
   ]
  },
  {
   "cell_type": "code",
   "execution_count": 65,
   "metadata": {},
   "outputs": [
    {
     "name": "stdout",
     "output_type": "stream",
     "text": [
      "(2, 100, 36, 234)\n",
      "Number of Testing Object: 2\n",
      "Number of Testing instance for each object: 100\n",
      "Dimension of each instance: (36, 234)\n",
      "(2, 100, 36, 234, 1)\n"
     ]
    }
   ],
   "source": [
    "model = load_model(\"models/lstm_ultarmic.h5\")\n",
    "npy_paths = glob('{}/**'.format(\"npy_files_predict\"), recursive=True)\n",
    "npy_paths = sorted([x.replace(os.sep, '/') for x in npy_paths if 'DASICA.npy' in x])\n",
    "test_data = []\n",
    "for path in npy_paths:\n",
    "    test_data.append(np.load(path))\n",
    "test_data = np.stack(test_data)\n",
    "print(test_data.shape)\n",
    "num_object = test_data.shape[0]\n",
    "num_instance = test_data.shape[1]\n",
    "dim_instance = test_data.shape[2:]\n",
    "print(\"Number of Testing Object:\",num_object)\n",
    "print(\"Number of Testing instance for each object:\",num_instance)\n",
    "print(\"Dimension of each instance:\",dim_instance)\n",
    "test_data = test_data.reshape((*test_data.shape,1))\n",
    "print(test_data.shape)"
   ]
  },
  {
   "cell_type": "code",
   "execution_count": 66,
   "metadata": {},
   "outputs": [
    {
     "name": "stdout",
     "output_type": "stream",
     "text": [
      "['Drill', 'Drill_Test1.npy', 'Shaver']\n",
      "[0 0 0 0 0 0 0 0 0 0 0 0 0 0 0 0 0 0 0 0 0 0 0 0 0 0 0 0 0 0 0 0 0 0 0 0 0\n",
      " 0 0 0 0 0 0 0 0 0 0 0 0 0 0 0 0 0 0 0 0 0 0 0 0 0 0 0 0 0 0 0 0 0 0 0 0 0\n",
      " 0 0 0 0 0 0 0 0 0 0 0 0 0 0 0 0 0 0 0 0 0 0 0 0 0 0 1 1 1 1 1 1 1 1 1 1 1\n",
      " 1 1 1 1 1 1 1 1 1 1 1 1 1 1 1 1 1 1 1 1 1 1 1 1 1 1 1 1 1 1 1 1 1 1 1 1 1\n",
      " 1 1 1 1 1 1 1 1 1 1 1 1 1 1 1 1 1 1 1 1 1 1 1 1 1 1 1 1 1 1 1 1 1 1 1 1 1\n",
      " 1 1 1 1 1 1 1 1 1 1 1 1 1 1 1]\n"
     ]
    }
   ],
   "source": [
    "classes = sorted(os.listdir(\"npy_files_predict\"))\n",
    "le = LabelEncoder()\n",
    "le.fit(classes)\n",
    "print(classes)\n",
    "labels = []\n",
    "for i in range(num_object):\n",
    "    for j in range(num_instance):\n",
    "        labels.append(classes[i])\n",
    "y_true = le.fit_transform(labels)\n",
    "print(y_true)"
   ]
  },
  {
   "cell_type": "code",
   "execution_count": 71,
   "metadata": {},
   "outputs": [],
   "source": [
    "y_pred = model.predict(test_data[1,:,:,:,:])"
   ]
  },
  {
   "cell_type": "code",
   "execution_count": 72,
   "metadata": {},
   "outputs": [
    {
     "name": "stdout",
     "output_type": "stream",
     "text": [
      "[0.99421227 0.00578771]\n"
     ]
    }
   ],
   "source": [
    "y_mean = np.mean(y_pred, axis=0)\n",
    "print(y_mean)"
   ]
  },
  {
   "cell_type": "code",
   "execution_count": 69,
   "metadata": {},
   "outputs": [
    {
     "name": "stdout",
     "output_type": "stream",
     "text": [
      "(2, 300, 36, 234, 1)\n"
     ]
    }
   ],
   "source": [
    "train_data = np.load(\"stft_object_clipping.npy\")\n",
    "train_data = train_data.reshape((*train_data.shape,1))\n",
    "print(train_data.shape)"
   ]
  },
  {
   "cell_type": "code",
   "execution_count": 70,
   "metadata": {},
   "outputs": [
    {
     "name": "stdout",
     "output_type": "stream",
     "text": [
      "[0.00108265 0.9989175 ]\n"
     ]
    }
   ],
   "source": [
    "y_pred = model.predict(train_data[1,:,:,:,:])\n",
    "y_mean = np.mean(y_pred, axis=0)\n",
    "print(y_mean)"
   ]
  },
  {
   "cell_type": "code",
   "execution_count": null,
   "metadata": {},
   "outputs": [],
   "source": []
  }
 ],
 "metadata": {
  "kernelspec": {
   "display_name": "Python 3.7.12 ('audio')",
   "language": "python",
   "name": "python3"
  },
  "language_info": {
   "codemirror_mode": {
    "name": "ipython",
    "version": 3
   },
   "file_extension": ".py",
   "mimetype": "text/x-python",
   "name": "python",
   "nbconvert_exporter": "python",
   "pygments_lexer": "ipython3",
   "version": "3.7.12"
  },
  "orig_nbformat": 4,
  "vscode": {
   "interpreter": {
    "hash": "fbc5f3dade03a6727cecaa7eacdf4c72954182e634778ac1645f6072e52dd5df"
   }
  }
 },
 "nbformat": 4,
 "nbformat_minor": 2
}
