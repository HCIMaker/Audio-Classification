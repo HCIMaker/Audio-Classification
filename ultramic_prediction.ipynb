{
 "cells": [
  {
   "cell_type": "code",
   "execution_count": 1,
   "metadata": {},
   "outputs": [],
   "source": [
    "from tensorflow.keras.models import load_model\n",
    "from clean import downsample_mono, envelope\n",
    "from kapre.time_frequency import STFT, Magnitude, ApplyFilterbank, MagnitudeToDecibel\n",
    "from sklearn.preprocessing import LabelEncoder\n",
    "import numpy as np\n",
    "from glob import glob\n",
    "import argparse\n",
    "import os\n",
    "import pandas as pd\n",
    "from tqdm import tqdm"
   ]
  },
  {
   "cell_type": "code",
   "execution_count": 2,
   "metadata": {},
   "outputs": [
    {
     "name": "stdout",
     "output_type": "stream",
     "text": [
      "(2, 100, 36, 234)\n",
      "Number of Testing Object: 2\n",
      "Number of Testing instance for each object: 100\n",
      "Dimension of each instance: (36, 234)\n",
      "(2, 100, 36, 234, 1)\n"
     ]
    }
   ],
   "source": [
    "model = load_model(\"models/lstm_ultarmic.h5\")\n",
    "npy_paths = glob('{}/**'.format(\"npy_files_predict\"), recursive=True)\n",
    "npy_paths = sorted([x.replace(os.sep, '/') for x in npy_paths if '.npy' in x])\n",
    "test_data = []\n",
    "for path in npy_paths:\n",
    "    test_data.append(np.load(path))\n",
    "test_data = np.stack(test_data)\n",
    "print(test_data.shape)\n",
    "num_object = test_data.shape[0]\n",
    "num_instance = test_data.shape[1]\n",
    "dim_instance = test_data.shape[2:]\n",
    "print(\"Number of Testing Object:\",num_object)\n",
    "print(\"Number of Testing instance for each object:\",num_instance)\n",
    "print(\"Dimension of each instance:\",dim_instance)\n",
    "test_data = test_data.reshape((*test_data.shape,1))\n",
    "print(test_data.shape)"
   ]
  },
  {
   "cell_type": "code",
   "execution_count": 3,
   "metadata": {},
   "outputs": [
    {
     "name": "stdout",
     "output_type": "stream",
     "text": [
      "['Drill', 'Shaver']\n",
      "[0 0 0 0 0 0 0 0 0 0 0 0 0 0 0 0 0 0 0 0 0 0 0 0 0 0 0 0 0 0 0 0 0 0 0 0 0\n",
      " 0 0 0 0 0 0 0 0 0 0 0 0 0 0 0 0 0 0 0 0 0 0 0 0 0 0 0 0 0 0 0 0 0 0 0 0 0\n",
      " 0 0 0 0 0 0 0 0 0 0 0 0 0 0 0 0 0 0 0 0 0 0 0 0 0 0 1 1 1 1 1 1 1 1 1 1 1\n",
      " 1 1 1 1 1 1 1 1 1 1 1 1 1 1 1 1 1 1 1 1 1 1 1 1 1 1 1 1 1 1 1 1 1 1 1 1 1\n",
      " 1 1 1 1 1 1 1 1 1 1 1 1 1 1 1 1 1 1 1 1 1 1 1 1 1 1 1 1 1 1 1 1 1 1 1 1 1\n",
      " 1 1 1 1 1 1 1 1 1 1 1 1 1 1 1]\n"
     ]
    }
   ],
   "source": [
    "classes = sorted(os.listdir(\"npy_files_predict\"))\n",
    "le = LabelEncoder()\n",
    "le.fit(classes)\n",
    "print(classes)\n",
    "labels = []\n",
    "for i in range(num_object):\n",
    "    for j in range(num_instance):\n",
    "        labels.append(classes[i])\n",
    "y_true = le.fit_transform(labels)\n",
    "print(y_true)"
   ]
  },
  {
   "cell_type": "code",
   "execution_count": 24,
   "metadata": {},
   "outputs": [],
   "source": [
    "y_pred = model.predict(test_data[0,:,:,:,:])"
   ]
  },
  {
   "cell_type": "code",
   "execution_count": 25,
   "metadata": {},
   "outputs": [
    {
     "name": "stdout",
     "output_type": "stream",
     "text": [
      "[0.06509362 0.9349062 ]\n"
     ]
    }
   ],
   "source": [
    "y_mean = np.mean(y_pred, axis=0)\n",
    "print(y_mean)"
   ]
  },
  {
   "cell_type": "code",
   "execution_count": 8,
   "metadata": {},
   "outputs": [
    {
     "name": "stdout",
     "output_type": "stream",
     "text": [
      "(2, 300, 36, 234, 1)\n"
     ]
    }
   ],
   "source": [
    "train_data = np.abs(np.load(\"stft_object_clipping.npy\"))\n",
    "train_data = train_data.reshape((*train_data.shape,1))\n",
    "print(train_data.shape)"
   ]
  },
  {
   "cell_type": "code",
   "execution_count": 19,
   "metadata": {},
   "outputs": [
    {
     "name": "stdout",
     "output_type": "stream",
     "text": [
      "[0.9981427  0.00185764]\n"
     ]
    }
   ],
   "source": [
    "y_pred = model.predict(train_data[0,:,:,:,:])\n",
    "y_mean = np.mean(y_pred, axis=0)\n",
    "print(y_mean)"
   ]
  },
  {
   "cell_type": "code",
   "execution_count": null,
   "metadata": {},
   "outputs": [],
   "source": []
  }
 ],
 "metadata": {
  "kernelspec": {
   "display_name": "Python 3.7.12 ('audio')",
   "language": "python",
   "name": "python3"
  },
  "language_info": {
   "codemirror_mode": {
    "name": "ipython",
    "version": 3
   },
   "file_extension": ".py",
   "mimetype": "text/x-python",
   "name": "python",
   "nbconvert_exporter": "python",
   "pygments_lexer": "ipython3",
   "version": "3.7.12"
  },
  "orig_nbformat": 4,
  "vscode": {
   "interpreter": {
    "hash": "fea9d4a4ac5a2c0f15480518025a9f7f055069e9c76c81218581ccb18b5d7614"
   }
  }
 },
 "nbformat": 4,
 "nbformat_minor": 2
}
