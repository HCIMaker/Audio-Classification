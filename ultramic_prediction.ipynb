{
 "cells": [
  {
   "cell_type": "code",
   "execution_count": 1,
   "metadata": {},
   "outputs": [],
   "source": [
    "from tensorflow.keras.models import load_model\n",
    "from clean import downsample_mono, envelope\n",
    "from kapre.time_frequency import STFT, Magnitude, ApplyFilterbank, MagnitudeToDecibel\n",
    "from sklearn.preprocessing import LabelEncoder\n",
    "import numpy as np\n",
    "from glob import glob\n",
    "import argparse\n",
    "import os\n",
    "import pandas as pd\n",
    "from tqdm import tqdm\n",
    "from sklearn.metrics import f1_score"
   ]
  },
  {
   "cell_type": "code",
   "execution_count": 2,
   "metadata": {},
   "outputs": [],
   "source": [
    "from sklearn.metrics import roc_auc_score, roc_curve, auc, confusion_matrix, plot_confusion_matrix\n",
    "import matplotlib.pyplot as plt\n",
    "import seaborn as sns"
   ]
  },
  {
   "cell_type": "markdown",
   "metadata": {},
   "source": [
    "## Predict Real-world data based on clean-data trained model"
   ]
  },
  {
   "cell_type": "code",
   "execution_count": 4,
   "metadata": {},
   "outputs": [
    {
     "name": "stdout",
     "output_type": "stream",
     "text": [
      "['npy_augmented_real/hairdryer_washbasin_8k_40k/Real_hairdryer_Test.npy', 'npy_augmented_real/hairdryer_washbasin_8k_40k/Real_washbasin_Test.npy', 'npy_augmented_real/hood_faucet_8k_40k/Real_faucet_Test.npy', 'npy_augmented_real/hood_faucet_8k_40k/Real_hood_Test.npy']\n",
      "(320, 23, 641, 1)\n"
     ]
    }
   ],
   "source": [
    "model = load_model(\"npy_augmented_real/lstm_overlapping_4_8k_40k.h5\")\n",
    "test_paths1 = glob('{}/**'.format(\"npy_augmented_real/hairdryer_washbasin_8k_40k/\"), recursive=True)\n",
    "test_paths2 = glob('{}/**'.format(\"npy_augmented_real/hood_faucet_8k_40k/\"), recursive=True)\n",
    "test_paths = test_paths1 + test_paths2\n",
    "test_paths = [x.replace(os.sep, '/') for x in test_paths if 'Test' in x]\n",
    "print(test_paths)\n",
    "test_data = []\n",
    "y_true_labels = []\n",
    "for i in test_paths:\n",
    "    #print(np.load(i).shape)\n",
    "    test_data.append(np.abs(np.load(i)))\n",
    "    cur_cls = os.path.split(i)[-1].split('_')[1]\n",
    "    cur_label = [cur_cls for i in range(np.load(i).shape[0])]\n",
    "    y_true_labels += cur_label\n",
    "test_data = np.stack(test_data)\n",
    "y_true_labels = np.stack(y_true_labels)\n",
    "test_data = test_data.reshape(test_data.shape[0]*test_data.shape[1],test_data.shape[2],test_data.shape[3],1)\n",
    "print(test_data.shape)\n",
    "for i in range(test_data.shape[0]):\n",
    "    test_data[i] /= test_data[i].max()"
   ]
  },
  {
   "cell_type": "code",
   "execution_count": 6,
   "metadata": {},
   "outputs": [],
   "source": [
    "cls = sorted(set(y_true_labels))\n",
    "y_pred = model.predict(test_data)\n",
    "y_pred_le = np.argmax(y_pred,axis=1)\n",
    "y_pred_labels = [cls[i] for i in y_pred_le]"
   ]
  },
  {
   "cell_type": "code",
   "execution_count": 9,
   "metadata": {},
   "outputs": [
    {
     "data": {
      "image/png": "[encoded data removed]",
      "text/plain": [
       "<Figure size 720x576 with 2 Axes>"
      ]
     },
     "metadata": {
      "needs_background": "light"
     },
     "output_type": "display_data"
    }
   ],
   "source": [
    "conf_mat = confusion_matrix(y_true_labels, y_pred_labels, labels=cls,normalize='true')\n",
    "df_cm = pd.DataFrame(conf_mat, index = cls,\n",
    "                     columns = cls)\n",
    "plt.figure(figsize = (10,8),tight_layout=True)\n",
    "plt.title('Overlapping Train',fontsize=20)\n",
    "plt.xticks(fontsize=20)\n",
    "plt.yticks(fontsize=20)\n",
    "hm = sns.heatmap(df_cm, annot=True, cmap='viridis',annot_kws={\"size\": 20})\n",
    "fig = hm.get_figure()\n",
    "fig.savefig(\"Confusion_Only_Overlapping.jpg\",dpi=100)\n",
    "plt.show()"
   ]
  },
  {
   "cell_type": "markdown",
   "metadata": {},
   "source": [
    "## Predict Real-world data based on augmented-data trained model"
   ]
  },
  {
   "cell_type": "code",
   "execution_count": 3,
   "metadata": {},
   "outputs": [
    {
     "name": "stdout",
     "output_type": "stream",
     "text": [
      "['npy_augmented_real/hood_faucet/Real_faucet_Test.npy', 'npy_augmented_real/hood_faucet/Real_hood_Test.npy']\n",
      "(160, 23, 381, 1)\n",
      "(160,)\n"
     ]
    }
   ],
   "source": [
    "model = load_model(\"npy_augmented_real/hood_faucet/lstm_overlapping.h5\")\n",
    "test_paths = glob('{}/**'.format(\"npy_augmented_real/hood_faucet/\"), recursive=True)\n",
    "test_paths = sorted([x.replace(os.sep, '/') for x in test_paths if 'Test' in x])\n",
    "print(test_paths)\n",
    "test_L = np.abs(np.load(test_paths[0]))\n",
    "label_L = np.stack([\"faucet\" for i in range(test_L.shape[0])])\n",
    "test_R = np.abs(np.load(test_paths[1]))\n",
    "label_R = np.stack([\"hood\" for i in range(test_R.shape[0])])\n",
    "test_data = np.concatenate((test_L,test_R),axis=0)\n",
    "test_data = test_data.reshape((*test_data.shape,1))\n",
    "print(test_data.shape)\n",
    "y_true_labels = np.concatenate((label_L,label_R))\n",
    "print(y_true_labels.shape)\n",
    "for i in range(test_data.shape[0]):\n",
    "    test_data[i] /= test_data[i].max()"
   ]
  },
  {
   "cell_type": "code",
   "execution_count": 4,
   "metadata": {},
   "outputs": [
    {
     "name": "stdout",
     "output_type": "stream",
     "text": [
      "['faucet', 'hood']\n"
     ]
    }
   ],
   "source": [
    "cls = sorted(set(y_true_labels))\n",
    "y_pred = model.predict(test_data)\n",
    "y_pred_le = np.argmax(y_pred,axis=1)\n",
    "y_pred_labels = [cls[i] for i in y_pred_le]\n",
    "print(cls)"
   ]
  },
  {
   "cell_type": "code",
   "execution_count": 5,
   "metadata": {},
   "outputs": [
    {
     "name": "stdout",
     "output_type": "stream",
     "text": [
      "['faucet', 'faucet', 'faucet', 'faucet', 'faucet', 'faucet', 'faucet', 'faucet', 'faucet', 'faucet', 'faucet', 'faucet', 'faucet', 'faucet', 'faucet', 'faucet', 'faucet', 'faucet', 'faucet', 'faucet', 'faucet', 'faucet', 'faucet', 'faucet', 'faucet', 'faucet', 'faucet', 'faucet', 'faucet', 'faucet', 'faucet', 'faucet', 'faucet', 'faucet', 'faucet', 'faucet', 'faucet', 'faucet', 'faucet', 'faucet', 'faucet', 'faucet', 'faucet', 'faucet', 'faucet', 'faucet', 'faucet', 'faucet', 'faucet', 'faucet', 'faucet', 'faucet', 'faucet', 'faucet', 'faucet', 'faucet', 'faucet', 'faucet', 'faucet', 'faucet', 'faucet', 'faucet', 'faucet', 'faucet', 'faucet', 'faucet', 'faucet', 'faucet', 'faucet', 'faucet', 'faucet', 'faucet', 'faucet', 'faucet', 'faucet', 'faucet', 'faucet', 'faucet', 'faucet', 'faucet', 'hood', 'hood', 'hood', 'hood', 'hood', 'hood', 'hood', 'hood', 'hood', 'hood', 'hood', 'hood', 'hood', 'hood', 'hood', 'hood', 'hood', 'hood', 'hood', 'hood', 'hood', 'hood', 'hood', 'hood', 'hood', 'hood', 'hood', 'hood', 'hood', 'hood', 'hood', 'hood', 'hood', 'hood', 'hood', 'hood', 'hood', 'hood', 'hood', 'hood', 'hood', 'hood', 'hood', 'hood', 'hood', 'hood', 'hood', 'hood', 'hood', 'hood', 'hood', 'hood', 'hood', 'hood', 'hood', 'hood', 'hood', 'hood', 'hood', 'hood', 'hood', 'hood', 'hood', 'hood', 'hood', 'hood', 'hood', 'hood', 'hood', 'hood', 'hood', 'hood', 'hood', 'hood', 'hood', 'hood', 'hood', 'hood', 'hood', 'hood']\n"
     ]
    }
   ],
   "source": [
    "print(y_pred_labels)"
   ]
  },
  {
   "cell_type": "code",
   "execution_count": 6,
   "metadata": {},
   "outputs": [
    {
     "name": "stdout",
     "output_type": "stream",
     "text": [
      "['faucet' 'faucet' 'faucet' 'faucet' 'faucet' 'faucet' 'faucet' 'faucet'\n",
      " 'faucet' 'faucet' 'faucet' 'faucet' 'faucet' 'faucet' 'faucet' 'faucet'\n",
      " 'faucet' 'faucet' 'faucet' 'faucet' 'faucet' 'faucet' 'faucet' 'faucet'\n",
      " 'faucet' 'faucet' 'faucet' 'faucet' 'faucet' 'faucet' 'faucet' 'faucet'\n",
      " 'faucet' 'faucet' 'faucet' 'faucet' 'faucet' 'faucet' 'faucet' 'faucet'\n",
      " 'faucet' 'faucet' 'faucet' 'faucet' 'faucet' 'faucet' 'faucet' 'faucet'\n",
      " 'faucet' 'faucet' 'faucet' 'faucet' 'faucet' 'faucet' 'faucet' 'faucet'\n",
      " 'faucet' 'faucet' 'faucet' 'faucet' 'faucet' 'faucet' 'faucet' 'faucet'\n",
      " 'faucet' 'faucet' 'faucet' 'faucet' 'faucet' 'faucet' 'faucet' 'faucet'\n",
      " 'faucet' 'faucet' 'faucet' 'faucet' 'faucet' 'faucet' 'faucet' 'faucet'\n",
      " 'hood' 'hood' 'hood' 'hood' 'hood' 'hood' 'hood' 'hood' 'hood' 'hood'\n",
      " 'hood' 'hood' 'hood' 'hood' 'hood' 'hood' 'hood' 'hood' 'hood' 'hood'\n",
      " 'hood' 'hood' 'hood' 'hood' 'hood' 'hood' 'hood' 'hood' 'hood' 'hood'\n",
      " 'hood' 'hood' 'hood' 'hood' 'hood' 'hood' 'hood' 'hood' 'hood' 'hood'\n",
      " 'hood' 'hood' 'hood' 'hood' 'hood' 'hood' 'hood' 'hood' 'hood' 'hood'\n",
      " 'hood' 'hood' 'hood' 'hood' 'hood' 'hood' 'hood' 'hood' 'hood' 'hood'\n",
      " 'hood' 'hood' 'hood' 'hood' 'hood' 'hood' 'hood' 'hood' 'hood' 'hood'\n",
      " 'hood' 'hood' 'hood' 'hood' 'hood' 'hood' 'hood' 'hood' 'hood' 'hood']\n"
     ]
    }
   ],
   "source": [
    "print(y_true_labels)"
   ]
  },
  {
   "cell_type": "code",
   "execution_count": 7,
   "metadata": {},
   "outputs": [
    {
     "data": {
      "image/png": "[encoded data removed]",
      "text/plain": [
       "<Figure size 720x576 with 2 Axes>"
      ]
     },
     "metadata": {
      "needs_background": "light"
     },
     "output_type": "display_data"
    }
   ],
   "source": [
    "conf_mat = confusion_matrix(y_true_labels, y_pred_labels, labels=cls,normalize='true')\n",
    "df_cm = pd.DataFrame(conf_mat, index = cls,\n",
    "                     columns = cls)\n",
    "plt.figure(figsize = (10,8),tight_layout=True)\n",
    "plt.title('Augmented Train;Overlapping facuet hood',fontsize=20)\n",
    "plt.xticks(fontsize=20)\n",
    "plt.yticks(fontsize=20)\n",
    "hm = sns.heatmap(df_cm, annot=True, cmap='viridis',annot_kws={\"size\": 20})\n",
    "fig = hm.get_figure()\n",
    "fig.savefig(\"Confusion_Only_Overlapping.jpg\",dpi=100)\n",
    "plt.show()"
   ]
  },
  {
   "cell_type": "markdown",
   "metadata": {},
   "source": [
    "## Only for random test"
   ]
  },
  {
   "cell_type": "code",
   "execution_count": 6,
   "metadata": {},
   "outputs": [],
   "source": [
    "model = load_model(\"models/conv2d_ultarmic_4.h5\")\n",
    "src_paths = \"npy_overlapping/rough_ica.npy\"\n",
    "src = np.load(src_paths)\n",
    "src = src.reshape(*src.shape,1)\n",
    "src1 = src[:,0,1:-1,:,:]\n",
    "src2 = src[:,1,1:-1,:,:]\n",
    "re1 = model.predict(src1)\n",
    "re_pred_idx = np.argmax(re1,axis=1)"
   ]
  },
  {
   "cell_type": "code",
   "execution_count": 7,
   "metadata": {},
   "outputs": [
    {
     "name": "stdout",
     "output_type": "stream",
     "text": [
      "[2 0 0 2 0 2 2 2 2 0 2 0 2 0 0 1 1 1]\n"
     ]
    }
   ],
   "source": [
    "re_pred_labels = [cls[i] for i in re_pred_idx]\n",
    "print(re_pred_idx)"
   ]
  },
  {
   "cell_type": "code",
   "execution_count": 8,
   "metadata": {},
   "outputs": [
    {
     "name": "stdout",
     "output_type": "stream",
     "text": [
      "[0 2 2 0 2 2 2 2 2 0 0 2 0 2 2 1 2 1]\n"
     ]
    }
   ],
   "source": [
    "re2 = model.predict(src2)\n",
    "re_pred_idx = np.argmax(re2,axis=1)\n",
    "re_pred_labels = [cls[i] for i in re_pred_idx]\n",
    "print(re_pred_idx)"
   ]
  },
  {
   "cell_type": "code",
   "execution_count": 9,
   "metadata": {},
   "outputs": [
    {
     "data": {
      "text/plain": [
       "['Cello', 'Clarinet', 'Flute', 'None']"
      ]
     },
     "execution_count": 9,
     "metadata": {},
     "output_type": "execute_result"
    }
   ],
   "source": [
    "cls"
   ]
  },
  {
   "cell_type": "markdown",
   "metadata": {},
   "source": [
    "## Check GSC performance"
   ]
  },
  {
   "cell_type": "code",
   "execution_count": 5,
   "metadata": {},
   "outputs": [
    {
     "name": "stdout",
     "output_type": "stream",
     "text": [
      "(130, 48, 1921)\n",
      "(130, 48, 1921, 1)\n"
     ]
    }
   ],
   "source": [
    "model = load_model(\"models/conv2d_ultarmic_4.h5\")\n",
    "src_paths = glob('{}/**'.format(\"npy_overlapping\"), recursive=True)\n",
    "test_paths = sorted([x.replace(os.sep, '/') for x in src_paths if ('GSC' in x) and ('label' not in x)])\n",
    "label_paths = sorted([x.replace(os.sep, '/') for x in src_paths if ('GSC_label' in x)])\n",
    "test_data = np.load(test_paths[0])\n",
    "test_data = test_data[:,2:-1,:]\n",
    "y_true_labels = np.load(label_paths[0])\n",
    "print(test_data.shape)\n",
    "cls = sorted(set(y_true_labels))\n",
    "cls.append('None')\n",
    "le = LabelEncoder()\n",
    "le.fit(cls)\n",
    "test_data = test_data.reshape(*test_data.shape,1)\n",
    "print(test_data.shape)\n",
    "y_pred = model.predict(test_data)\n",
    "y_pred_idx = np.argmax(y_pred,axis=1)\n",
    "y_pred_labels = [cls[i] for i in y_pred_idx]"
   ]
  },
  {
   "cell_type": "code",
   "execution_count": 15,
   "metadata": {},
   "outputs": [
    {
     "data": {
      "image/png": "[encoded data removed]",
      "text/plain": [
       "<Figure size 720x576 with 2 Axes>"
      ]
     },
     "metadata": {
      "needs_background": "light"
     },
     "output_type": "display_data"
    }
   ],
   "source": [
    "conf_mat = confusion_matrix(y_true_labels, y_pred_labels, labels=cls,normalize='true')\n",
    "df_cm = pd.DataFrame(conf_mat, index = cls,\n",
    "                     columns = cls)\n",
    "plt.figure(figsize = (10,8),tight_layout=True)\n",
    "plt.title('Separated source;Confusion Matrix;GSC&CONV2D',fontsize=20)\n",
    "hm = sns.heatmap(df_cm, annot=True, cmap='viridis',annot_kws={\"size\": 20})\n",
    "plt.xticks(fontsize=20)\n",
    "plt.yticks(fontsize=20)\n",
    "fig = hm.get_figure()\n",
    "#fig.savefig(\"Separated_cm_conv2d_4_GSC.jpg\",dpi=100)\n",
    "plt.show()"
   ]
  },
  {
   "cell_type": "markdown",
   "metadata": {},
   "source": [
    "## Only read data but no label npy"
   ]
  },
  {
   "cell_type": "code",
   "execution_count": 4,
   "metadata": {},
   "outputs": [
    {
     "name": "stdout",
     "output_type": "stream",
     "text": [
      "['npy_files/Test_with_4.npy', 'npy_files/Test_with_4_label.npy']\n",
      "(18, 48, 1921, 1)\n",
      "cur_label: Cello   [0] Mixed with: Clarinet   [1]\n",
      "[2 0 0 2 2 2 2 2 2 0 0 2 0 2 2 2 2 2]\n",
      "(18, 48, 1921, 1)\n",
      "cur_label: Cello   [0] Mixed with: Flute   [2]\n",
      "[2 2 0 2 2 2 0 0 0 0 2 0 0 0 0 2 0 0]\n",
      "(18, 48, 1921, 1)\n",
      "cur_label: Clarinet   [1] Mixed with: Cello   [0]\n",
      "[2 2 2 2 2 1 1 1 1 2 2 2 2 2 1 1 1 0]\n",
      "(29, 48, 1921, 1)\n",
      "cur_label: Clarinet   [1] Mixed with: Flute   [2]\n",
      "[2 2 2 2 0 2 1 1 1 1 2 1 1 1 2 1 2 1 1 1 2 2 2 2 2 2 1 1 2]\n",
      "(18, 48, 1921, 1)\n",
      "cur_label: Flute   [2] Mixed with: Cello   [0]\n",
      "[2 2 2 2 2 2 2 2 2 2 2 2 2 2 2 2 2 0]\n",
      "(29, 48, 1921, 1)\n",
      "cur_label: Flute   [2] Mixed with: Clarinet   [1]\n",
      "[2 2 2 2 2 2 2 2 2 2 2 2 2 2 2 2 2 2 2 2 2 2 2 2 2 2 2 2 2]\n"
     ]
    }
   ],
   "source": [
    "model = load_model(\"models/conv2d_ultarmic_4.h5\")\n",
    "test_paths = glob('{}/**'.format(\"npy_overlapping\"), recursive=True)\n",
    "test_paths = sorted([x.replace(os.sep, '/') for x in test_paths if '.npy' in x])\n",
    "\n",
    "wav_paths = glob('{}/**'.format(\"npy_files\"), recursive=True)\n",
    "wav_paths = sorted([x.replace(os.sep, '/') for x in wav_paths if ('Test_with' in x)])\n",
    "print(wav_paths)\n",
    "labels = np.load(wav_paths[1])\n",
    "cls = sorted(set(labels))\n",
    "\n",
    "le = LabelEncoder()\n",
    "le.fit(cls)\n",
    "\n",
    "y_pred_labels = []\n",
    "y_true_labels = []\n",
    "for path in test_paths:\n",
    "    test_data = np.load(path)\n",
    "    assert(test_data.dtype == np.complex64)\n",
    "    num_instance = test_data.shape[0]\n",
    "    dim_instance = test_data.shape[1:]\n",
    "    #print(\"Number of Testing instance for each object:\",num_instance)\n",
    "    #print(\"Dimension of each instance:\",dim_instance)\n",
    "    test_data = test_data.reshape((*test_data.shape,1))\n",
    "    test_data = test_data[:,1:-1,:,:]\n",
    "    print(test_data.shape)\n",
    "    assert(test_data.shape[1]==48 and test_data.shape[2]==1921)\n",
    "    cur_label = os.path.split(path)[-1].split(\"_\")[1]\n",
    "    mix_with = os.path.split(path)[-1].split(\"_\")[2].split(\".\")[0]\n",
    "    print(\"cur_label:\",cur_label,\" \",str(le.transform([cur_label])),\"Mixed with:\",mix_with,\" \",str(le.transform([mix_with])))\n",
    "    y_pred = model.predict(test_data)\n",
    "    y_pred_le = np.argmax(y_pred,axis=1)\n",
    "    print(y_pred_le)\n",
    "    for i in range(len(y_pred_le)):\n",
    "        y_pred_labels.append(cls[y_pred_le[i]])\n",
    "        y_true_labels.append(cur_label)"
   ]
  },
  {
   "cell_type": "code",
   "execution_count": 6,
   "metadata": {},
   "outputs": [
    {
     "data": {
      "image/png": "[encoded data removed]",
      "text/plain": [
       "<Figure size 720x576 with 2 Axes>"
      ]
     },
     "metadata": {
      "needs_background": "light"
     },
     "output_type": "display_data"
    }
   ],
   "source": [
    "conf_mat = confusion_matrix(y_true_labels, y_pred_labels, labels=cls,normalize='true')\n",
    "df_cm = pd.DataFrame(conf_mat, index = cls,\n",
    "                     columns = cls)\n",
    "plt.figure(figsize = (10,8),tight_layout=True)\n",
    "plt.title('Separated source;Confusion Matrix;CONV2D',fontsize=20)\n",
    "hm = sns.heatmap(df_cm, annot=True, cmap='viridis',annot_kws={\"size\": 20})\n",
    "fig = hm.get_figure()    \n",
    "#fig.savefig(\"Separated_cm_conv2d_4.jpg\",dpi=100)\n",
    "plt.show()"
   ]
  },
  {
   "cell_type": "code",
   "execution_count": 10,
   "metadata": {},
   "outputs": [
    {
     "data": {
      "text/plain": [
       "0.6307692307692307"
      ]
     },
     "execution_count": 10,
     "metadata": {},
     "output_type": "execute_result"
    }
   ],
   "source": [
    "f1_score(y_true_labels, y_pred_labels, average='micro')"
   ]
  },
  {
   "cell_type": "code",
   "execution_count": null,
   "metadata": {},
   "outputs": [],
   "source": []
  },
  {
   "cell_type": "code",
   "execution_count": 15,
   "metadata": {},
   "outputs": [
    {
     "name": "stdout",
     "output_type": "stream",
     "text": [
      "['npy_files/Test_with_4.npy', 'npy_files/Test_with_4_label.npy']\n",
      "float32\n",
      "(104, 48, 1921)\n",
      "Number of Testing instance for each object: 104\n",
      "Dimension of each instance: (48, 1921)\n",
      "(104, 48, 1921, 1)\n"
     ]
    }
   ],
   "source": [
    "model = load_model(\"models/conv2d_ultarmic_4.h5\")\n",
    "test_paths = glob('{}/**'.format(\"npy_files\"), recursive=True)\n",
    "test_paths = sorted([x.replace(os.sep, '/') for x in test_paths if ('Test_with' in x)])\n",
    "print(test_paths)\n",
    "test_data = np.abs(np.load(test_paths[0]))\n",
    "assert(test_data.dtype != np.complex64)\n",
    "print(test_data.dtype)\n",
    "print(test_data.shape)\n",
    "num_instance = test_data.shape[0]\n",
    "dim_instance = test_data.shape[1:]\n",
    "print(\"Number of Testing instance for each object:\",num_instance)\n",
    "print(\"Dimension of each instance:\",dim_instance)\n",
    "test_data = test_data.reshape((*test_data.shape,1))\n",
    "print(test_data.shape)"
   ]
  },
  {
   "cell_type": "code",
   "execution_count": 16,
   "metadata": {},
   "outputs": [
    {
     "name": "stdout",
     "output_type": "stream",
     "text": [
      "[0 0 0 0 0 0 0 0 0 0 0 0 0 0 0 0 0 0 1 1 1 1 1 1 1 1 1 1 1 1 1 1 1 1 1 1 1\n",
      " 1 1 1 1 1 1 1 1 1 1 2 2 2 2 2 2 2 2 2 2 2 2 2 2 2 2 2 2 2 2 2 2 2 2 2 2 2\n",
      " 2 2 2 2 2 3 3 3 3 3 3 3 3 3 3 3 3 3 3 3 3 3 3 3 3 3 3 3 3 3]\n"
     ]
    }
   ],
   "source": [
    "labels = np.load(test_paths[1])\n",
    "le = LabelEncoder()\n",
    "y_true = le.fit_transform(labels)\n",
    "print(y_true)\n",
    "y_pred = model.predict(test_data)\n",
    "y_pred_le = np.argmax(y_pred,axis=1)\n",
    "cls = sorted(set(labels))"
   ]
  },
  {
   "cell_type": "code",
   "execution_count": 17,
   "metadata": {},
   "outputs": [
    {
     "data": {
      "text/plain": [
       "array([[1.0776753e-03, 1.0360398e-03, 1.9069141e-03, 9.9597931e-01],\n",
       "       [8.0212043e-04, 1.0873864e-03, 1.1336420e-03, 9.9697685e-01],\n",
       "       [8.8308821e-04, 1.0029995e-03, 9.8417816e-04, 9.9712974e-01]],\n",
       "      dtype=float32)"
      ]
     },
     "execution_count": 17,
     "metadata": {},
     "output_type": "execute_result"
    }
   ],
   "source": [
    "model.predict(test_data[99:102])"
   ]
  },
  {
   "cell_type": "code",
   "execution_count": 18,
   "metadata": {},
   "outputs": [],
   "source": [
    "y_pred_labels = [cls[x] for x in y_pred_le]\n",
    "y_true_labels = [cls[x] for x in y_true]"
   ]
  },
  {
   "cell_type": "code",
   "execution_count": 19,
   "metadata": {},
   "outputs": [
    {
     "data": {
      "image/png": "[encoded data removed]",
      "text/plain": [
       "<Figure size 720x576 with 2 Axes>"
      ]
     },
     "metadata": {
      "needs_background": "light"
     },
     "output_type": "display_data"
    }
   ],
   "source": [
    "conf_mat = confusion_matrix(y_true_labels, y_pred_labels, labels=cls,normalize='true')\n",
    "df_cm = pd.DataFrame(conf_mat, index = cls,\n",
    "                     columns = cls)\n",
    "plt.figure(figsize = (10,8),tight_layout=True)\n",
    "plt.title('Non-overlapping source;Confusion Matrix;CONV2D',fontsize=20)\n",
    "hm = sns.heatmap(df_cm, annot=True, cmap='viridis',annot_kws={\"size\": 20})\n",
    "fig = hm.get_figure()    \n",
    "fig.savefig(\"nonlap_cm_conv2d_4.jpg\",dpi=100)\n",
    "plt.show()"
   ]
  },
  {
   "cell_type": "code",
   "execution_count": 65,
   "metadata": {},
   "outputs": [
    {
     "name": "stdout",
     "output_type": "stream",
     "text": [
      "(2, 100, 36, 234)\n",
      "Number of Testing Object: 2\n",
      "Number of Testing instance for each object: 100\n",
      "Dimension of each instance: (36, 234)\n",
      "(2, 100, 36, 234, 1)\n"
     ]
    }
   ],
   "source": [
    "model = load_model(\"models/lstm_ultarmic.h5\")\n",
    "npy_paths = glob('{}/**'.format(\"npy_files_predict\"), recursive=True)\n",
    "npy_paths = sorted([x.replace(os.sep, '/') for x in npy_paths if 'DASICA.npy' in x])\n",
    "test_data = []\n",
    "for path in npy_paths:\n",
    "    test_data.append(np.load(path))\n",
    "test_data = np.stack(test_data)\n",
    "print(test_data.shape)\n",
    "num_object = test_data.shape[0]\n",
    "num_instance = test_data.shape[1]\n",
    "dim_instance = test_data.shape[2:]\n",
    "print(\"Number of Testing Object:\",num_object)\n",
    "print(\"Number of Testing instance for each object:\",num_instance)\n",
    "print(\"Dimension of each instance:\",dim_instance)\n",
    "test_data = test_data.reshape((*test_data.shape,1))\n",
    "print(test_data.shape)"
   ]
  },
  {
   "cell_type": "code",
   "execution_count": 66,
   "metadata": {},
   "outputs": [
    {
     "name": "stdout",
     "output_type": "stream",
     "text": [
      "['Drill', 'Drill_Test1.npy', 'Shaver']\n",
      "[0 0 0 0 0 0 0 0 0 0 0 0 0 0 0 0 0 0 0 0 0 0 0 0 0 0 0 0 0 0 0 0 0 0 0 0 0\n",
      " 0 0 0 0 0 0 0 0 0 0 0 0 0 0 0 0 0 0 0 0 0 0 0 0 0 0 0 0 0 0 0 0 0 0 0 0 0\n",
      " 0 0 0 0 0 0 0 0 0 0 0 0 0 0 0 0 0 0 0 0 0 0 0 0 0 0 1 1 1 1 1 1 1 1 1 1 1\n",
      " 1 1 1 1 1 1 1 1 1 1 1 1 1 1 1 1 1 1 1 1 1 1 1 1 1 1 1 1 1 1 1 1 1 1 1 1 1\n",
      " 1 1 1 1 1 1 1 1 1 1 1 1 1 1 1 1 1 1 1 1 1 1 1 1 1 1 1 1 1 1 1 1 1 1 1 1 1\n",
      " 1 1 1 1 1 1 1 1 1 1 1 1 1 1 1]\n"
     ]
    }
   ],
   "source": [
    "classes = sorted(os.listdir(\"npy_files_predict\"))\n",
    "le = LabelEncoder()\n",
    "le.fit(classes)\n",
    "print(classes)\n",
    "labels = []\n",
    "for i in range(num_object):\n",
    "    for j in range(num_instance):\n",
    "        labels.append(classes[i])\n",
    "y_true = le.fit_transform(labels)\n",
    "print(y_true)"
   ]
  },
  {
   "cell_type": "code",
   "execution_count": 71,
   "metadata": {},
   "outputs": [],
   "source": [
    "y_pred = model.predict(test_data[1,:,:,:,:])"
   ]
  },
  {
   "cell_type": "code",
   "execution_count": 72,
   "metadata": {},
   "outputs": [
    {
     "name": "stdout",
     "output_type": "stream",
     "text": [
      "[0.99421227 0.00578771]\n"
     ]
    }
   ],
   "source": [
    "y_mean = np.mean(y_pred, axis=0)\n",
    "print(y_mean)"
   ]
  },
  {
   "cell_type": "code",
   "execution_count": 69,
   "metadata": {},
   "outputs": [
    {
     "name": "stdout",
     "output_type": "stream",
     "text": [
      "(2, 300, 36, 234, 1)\n"
     ]
    }
   ],
   "source": [
    "train_data = np.load(\"stft_object_clipping.npy\")\n",
    "train_data = train_data.reshape((*train_data.shape,1))\n",
    "print(train_data.shape)"
   ]
  },
  {
   "cell_type": "code",
   "execution_count": 70,
   "metadata": {},
   "outputs": [
    {
     "name": "stdout",
     "output_type": "stream",
     "text": [
      "[0.00108265 0.9989175 ]\n"
     ]
    }
   ],
   "source": [
    "y_pred = model.predict(train_data[1,:,:,:,:])\n",
    "y_mean = np.mean(y_pred, axis=0)\n",
    "print(y_mean)"
   ]
  },
  {
   "cell_type": "code",
   "execution_count": null,
   "metadata": {},
   "outputs": [],
   "source": []
  }
 ],
 "metadata": {
  "kernelspec": {
   "display_name": "Python 3.7.12 ('audio')",
   "language": "python",
   "name": "python3"
  },
  "language_info": {
   "codemirror_mode": {
    "name": "ipython",
    "version": 3
   },
   "file_extension": ".py",
   "mimetype": "text/x-python",
   "name": "python",
   "nbconvert_exporter": "python",
   "pygments_lexer": "ipython3",
   "version": "3.7.12"
  },
  "orig_nbformat": 4,
  "vscode": {
   "interpreter": {
    "hash": "fbc5f3dade03a6727cecaa7eacdf4c72954182e634778ac1645f6072e52dd5df"
   }
  }
 },
 "nbformat": 4,
 "nbformat_minor": 2
}
