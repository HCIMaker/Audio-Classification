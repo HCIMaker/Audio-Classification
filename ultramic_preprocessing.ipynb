{
 "cells": [
  {
   "cell_type": "code",
   "execution_count": 1,
   "metadata": {},
   "outputs": [],
   "source": [
    "%load_ext autoreload\n",
    "%autoreload 2"
   ]
  },
  {
   "cell_type": "code",
   "execution_count": 2,
   "metadata": {},
   "outputs": [],
   "source": [
    "from clean import *\n",
    "from train import *\n",
    "from models import *\n",
    "import argparse\n",
    "import scipy.io.wavfile as wavf\n",
    "import scipy.signal\n",
    "import scipy.fft\n"
   ]
  },
  {
   "cell_type": "code",
   "execution_count": 3,
   "metadata": {},
   "outputs": [],
   "source": [
    "def normalize_float(mic_data: np.ndarray, gain: float = 1.0):\n",
    "    \"\"\"Normalize microphone's data by removing DC offset and adding gain.\n",
    "\n",
    "    The input data type is np.int16, and the output data type is np.float32.\n",
    "    The input data has shape (mic_num, N), where mic_num is the number of\n",
    "    microphones and N is the number of samples.  Also, the data range will be\n",
    "    normalized from [-32768, 32767] to [-1, 1).\n",
    "    \"\"\"\n",
    "    dtype = mic_data.dtype\n",
    "    mic_data = (mic_data - np.mean(mic_data, axis=1, keepdims=True)) * gain\n",
    "    # Manually clip the data to prevent overflow.\n",
    "    mic_data = np.clip(mic_data, np.iinfo(dtype).min, np.iinfo(dtype).max)\n",
    "    # Normalize data range.\n",
    "    mic_data /= (np.iinfo(dtype).max + 1.0)\n",
    "\n",
    "    return mic_data.astype(np.float32)\n",
    "\n",
    "def batch_windowed_fft(mic_array_data: np.ndarray, fs: int):\n",
    "    \"\"\"Compute the FFT with Hann window of a microphone array's data in batch.\n",
    "\n",
    "    Input:\n",
    "    - mic_data: Mic array data, ndarray of shape (N, L), where N is the number\n",
    "    of microphones and L is the data's sample length. The whole data for each\n",
    "    microphone is treated as one FFT frame, and this is the difference between\n",
    "    this function and batch_stft().\n",
    "    - fs: sampling rate.\n",
    "    - frame_time: time of one FFT frame, unit: s. (i.e. 0.025 denotes 25 ms)\n",
    "\n",
    "    Returns:\n",
    "    - f_FFT: array of sampling frequencies corresponds to each FFT bin.\n",
    "    - fft_data: Result of the STFT. An ndarray of shape (N, L'), where N is the\n",
    "    number of microphones and L' is the FFT length.\n",
    "    \"\"\"\n",
    "    window = scipy.signal.get_window('hann', mic_array_data.shape[1])\n",
    "    # Use orthogonal norm so that the scale of fft_data is roughly independent\n",
    "    # of the length of input.\n",
    "    fft_data = scipy.fft.rfft(mic_array_data * window, norm='ortho')\n",
    "    f_FFT = np.linspace(0, fs / 2, mic_array_data.shape[1] // 2 + 1)\n",
    "    # Somehow rfft()'s return type is float64 and complex128, so we need to\n",
    "    # manually convert it to float32 and complex64.\n",
    "    return f_FFT.astype(np.float32), fft_data.astype(np.complex64)\n",
    "\n",
    "def fft_freq_clipping(f_FFT: np.ndarray, f_low, f_high):\n",
    "    \"\"\"Clip an FFT frequency bin by frequency lower bounds and upper bounds.\"\"\"\n",
    "    f_low_idx, f_high_idx = -1, -1\n",
    "    if f_low <= f_FFT[0]:\n",
    "        f_low_idx = 0\n",
    "    if f_high >= f_FFT[-1]:\n",
    "        f_high_idx = len(f_FFT)\n",
    "    for i in range(len(f_FFT) - 1):\n",
    "        if f_FFT[i] < f_low and f_FFT[i+1] >= f_low:\n",
    "            f_low_idx = i + 1\n",
    "        if f_FFT[i] <= f_high and f_FFT[i+1] > f_high:\n",
    "            f_high_idx = i + 1\n",
    "    if f_low_idx == -1 or f_high_idx == -1:\n",
    "        raise RuntimeError('Incorrect FFT frequency bound')\n",
    "\n",
    "    return f_low_idx, f_high_idx\n"
   ]
  },
  {
   "cell_type": "markdown",
   "metadata": {},
   "source": [
    "## Step1: Format and clean the data"
   ]
  },
  {
   "cell_type": "code",
   "execution_count": 4,
   "metadata": {},
   "outputs": [],
   "source": [
    "# Step1: Format and clean the data. Eliminating the sample with small amplitude\n",
    "# Construct the argument\n",
    "parser = argparse.ArgumentParser(description='Cleaning audio data')\n",
    "parser.add_argument('--src_root', type=str, default='wavfiles',\n",
    "                    help='directory of audio files in total duration')\n",
    "parser.add_argument('--dst_root', type=str, default='clean',\n",
    "                    help='directory to put audio files split by delta_time')\n",
    "parser.add_argument('--delta_time', '-dt', type=float, default=1.0,\n",
    "                    help='time in seconds to sample audio')\n",
    "parser.add_argument('--sr', type=int, default=16000,\n",
    "                    help='rate to downsample audio')\n",
    "parser.add_argument('--plotfile', type=str, default='3a3d0279',\n",
    "                    help='directory of audio files in total duration')\n",
    "parser.add_argument('--threshold', type=str, default=20,\n",
    "                    help='threshold magnitude for np.int16 dtype')\n",
    "args, _ = parser.parse_known_args()\n"
   ]
  },
  {
   "cell_type": "code",
   "execution_count": 5,
   "metadata": {},
   "outputs": [
    {
     "data": {
      "image/png": "[encoded data removed]",
      "text/plain": [
       "<Figure size 432x288 with 1 Axes>"
      ]
     },
     "metadata": {},
     "output_type": "display_data"
    }
   ],
   "source": [
    "test_threshold(args)"
   ]
  },
  {
   "cell_type": "code",
   "execution_count": 113,
   "metadata": {},
   "outputs": [
    {
     "name": "stderr",
     "output_type": "stream",
     "text": [
      "  0%|          | 0/30 [00:00<?, ?it/s]"
     ]
    },
    {
     "name": "stdout",
     "output_type": "stream",
     "text": [
      "clean exists\n",
      "clean\\Acoustic_guitar does not exist\n"
     ]
    },
    {
     "name": "stderr",
     "output_type": "stream",
     "text": [
      "100%|██████████| 30/30 [00:05<00:00,  5.40it/s]\n",
      " 10%|█         | 3/30 [00:00<00:01, 20.85it/s]"
     ]
    },
    {
     "name": "stdout",
     "output_type": "stream",
     "text": [
      "clean\\Bass_drum does not exist\n"
     ]
    },
    {
     "name": "stderr",
     "output_type": "stream",
     "text": [
      "100%|██████████| 30/30 [00:01<00:00, 18.82it/s]\n",
      "  3%|▎         | 1/30 [00:00<00:03,  8.00it/s]"
     ]
    },
    {
     "name": "stdout",
     "output_type": "stream",
     "text": [
      "clean\\Cello does not exist\n"
     ]
    },
    {
     "name": "stderr",
     "output_type": "stream",
     "text": [
      "100%|██████████| 30/30 [00:04<00:00,  7.30it/s]\n",
      "  3%|▎         | 1/30 [00:00<00:03,  7.48it/s]"
     ]
    },
    {
     "name": "stdout",
     "output_type": "stream",
     "text": [
      "clean\\Clarinet does not exist\n"
     ]
    },
    {
     "name": "stderr",
     "output_type": "stream",
     "text": [
      "100%|██████████| 30/30 [00:05<00:00,  5.69it/s]\n",
      "  7%|▋         | 2/30 [00:00<00:02, 13.28it/s]"
     ]
    },
    {
     "name": "stdout",
     "output_type": "stream",
     "text": [
      "clean\\Double_bass does not exist\n"
     ]
    },
    {
     "name": "stderr",
     "output_type": "stream",
     "text": [
      "100%|██████████| 30/30 [00:02<00:00, 11.24it/s]\n",
      "  3%|▎         | 1/30 [00:00<00:05,  5.62it/s]"
     ]
    },
    {
     "name": "stdout",
     "output_type": "stream",
     "text": [
      "clean\\Flute does not exist\n"
     ]
    },
    {
     "name": "stderr",
     "output_type": "stream",
     "text": [
      "100%|██████████| 30/30 [00:06<00:00,  4.68it/s]\n",
      "  3%|▎         | 1/30 [00:00<00:03,  9.17it/s]"
     ]
    },
    {
     "name": "stdout",
     "output_type": "stream",
     "text": [
      "clean\\Hi_hat does not exist\n"
     ]
    },
    {
     "name": "stderr",
     "output_type": "stream",
     "text": [
      "100%|██████████| 30/30 [00:02<00:00, 10.94it/s]\n",
      "  7%|▋         | 2/30 [00:00<00:02, 10.49it/s]"
     ]
    },
    {
     "name": "stdout",
     "output_type": "stream",
     "text": [
      "clean\\Saxophone does not exist\n"
     ]
    },
    {
     "name": "stderr",
     "output_type": "stream",
     "text": [
      "100%|██████████| 30/30 [00:05<00:00,  5.18it/s]\n",
      "  0%|          | 0/30 [00:00<?, ?it/s]"
     ]
    },
    {
     "name": "stdout",
     "output_type": "stream",
     "text": [
      "clean\\Snare_drum does not exist\n"
     ]
    },
    {
     "name": "stderr",
     "output_type": "stream",
     "text": [
      "100%|██████████| 30/30 [00:03<00:00,  9.17it/s]\n",
      "  3%|▎         | 1/30 [00:00<00:04,  6.07it/s]"
     ]
    },
    {
     "name": "stdout",
     "output_type": "stream",
     "text": [
      "clean\\Violin_or_fiddle does not exist\n"
     ]
    },
    {
     "name": "stderr",
     "output_type": "stream",
     "text": [
      "100%|██████████| 30/30 [00:03<00:00,  8.14it/s]\n"
     ]
    }
   ],
   "source": [
    "# Split the long wav file into small segments, which has sample time equal to delta_time set in previous cell\n",
    "split_wavs(args)"
   ]
  },
  {
   "cell_type": "markdown",
   "metadata": {},
   "source": [
    "## Step2 Training the model based on existing data"
   ]
  },
  {
   "cell_type": "code",
   "execution_count": 6,
   "metadata": {},
   "outputs": [],
   "source": [
    "# Prepare the parameter for usage\n",
    "parser = argparse.ArgumentParser(description='Audio Classification Training')\n",
    "parser.add_argument('--model_type', type=str, default='lstm',\n",
    "                        help='model to run. i.e. conv1d, conv2d, lstm')\n",
    "parser.add_argument('--src_root', type=str, default='clean',\n",
    "                        help='directory of audio files in total duration')\n",
    "parser.add_argument('--batch_size', type=int, default=16,\n",
    "                        help='batch size')\n",
    "parser.add_argument('--delta_time', '-dt', type=float, default=1.0,\n",
    "                        help='time in seconds to sample audio')\n",
    "parser.add_argument('--sample_rate', '-sr', type=int, default=16000,\n",
    "                        help='sample rate of clean audio')\n",
    "args, _ = parser.parse_known_args()"
   ]
  },
  {
   "cell_type": "code",
   "execution_count": 7,
   "metadata": {},
   "outputs": [
    {
     "name": "stdout",
     "output_type": "stream",
     "text": [
      "Namespace(batch_size=16, delta_time=1.0, model_type='lstm', sample_rate=16000, src_root='clean')\n"
     ]
    }
   ],
   "source": [
    "print(args)"
   ]
  },
  {
   "cell_type": "code",
   "execution_count": 8,
   "metadata": {},
   "outputs": [],
   "source": [
    "src_root = args.src_root\n",
    "sr = args.sample_rate\n",
    "dt = args.delta_time\n",
    "batch_size = args.batch_size\n",
    "model_type = args.model_type"
   ]
  },
  {
   "cell_type": "code",
   "execution_count": 9,
   "metadata": {},
   "outputs": [
    {
     "name": "stdout",
     "output_type": "stream",
     "text": [
      "{'N_CLASSES': 10, 'SR': 16000, 'DT': 1.0}\n"
     ]
    }
   ],
   "source": [
    "params = {'N_CLASSES':len(os.listdir(args.src_root)),\n",
    "            'SR':sr,\n",
    "            'DT':dt}\n",
    "print(params)"
   ]
  },
  {
   "cell_type": "code",
   "execution_count": 10,
   "metadata": {},
   "outputs": [],
   "source": [
    "models = {'conv1d':Conv1D(**params),\n",
    "            'conv2d':Conv2D(**params),\n",
    "            'lstm':  LSTM(**params)}"
   ]
  },
  {
   "cell_type": "code",
   "execution_count": 11,
   "metadata": {},
   "outputs": [],
   "source": [
    "assert model_type in models.keys(), '{} not an available model'.format(model_type)"
   ]
  },
  {
   "cell_type": "code",
   "execution_count": 12,
   "metadata": {},
   "outputs": [],
   "source": [
    "csv_path = os.path.join('logs', '{}_history.csv'.format(model_type))"
   ]
  },
  {
   "cell_type": "code",
   "execution_count": 13,
   "metadata": {},
   "outputs": [
    {
     "name": "stdout",
     "output_type": "stream",
     "text": [
      "clean\\Acoustic_guitar\\0356dec7_0.wav\n",
      "1290\n"
     ]
    }
   ],
   "source": [
    "wav_paths = glob('{}/**'.format(src_root), recursive=True)\n",
    "print(wav_paths[2])\n",
    "wav_paths = [x.replace(os.sep, '/') for x in wav_paths if '.wav' in x]\n",
    "print(len(wav_paths))"
   ]
  },
  {
   "cell_type": "code",
   "execution_count": 14,
   "metadata": {},
   "outputs": [
    {
     "name": "stdout",
     "output_type": "stream",
     "text": [
      "['Acoustic_guitar', 'Bass_drum', 'Cello', 'Clarinet', 'Double_bass', 'Flute', 'Hi_hat', 'Saxophone', 'Snare_drum', 'Violin_or_fiddle']\n"
     ]
    }
   ],
   "source": [
    "classes = sorted(os.listdir(args.src_root))\n",
    "print(classes)"
   ]
  },
  {
   "cell_type": "code",
   "execution_count": 16,
   "metadata": {},
   "outputs": [
    {
     "name": "stdout",
     "output_type": "stream",
     "text": [
      "[0 0 0 ... 9 9 9]\n"
     ]
    }
   ],
   "source": [
    "le = LabelEncoder()\n",
    "le.fit(classes)\n",
    "labels = [os.path.split(x)[0].split('/')[-1] for x in wav_paths]\n",
    "labels = le.transform(labels)\n",
    "print(labels)"
   ]
  },
  {
   "cell_type": "code",
   "execution_count": 17,
   "metadata": {},
   "outputs": [],
   "source": [
    "# The currrent wav_train and wav_val are the path to the wav file\n",
    "wav_train, wav_val, label_train, label_val = train_test_split(wav_paths,\n",
    "                                                                labels,\n",
    "                                                                test_size=0.1,\n",
    "                                                                random_state=0)"
   ]
  },
  {
   "cell_type": "code",
   "execution_count": 18,
   "metadata": {},
   "outputs": [],
   "source": [
    "assert len(label_train) >= args.batch_size, 'Number of train samples must be >= batch_size'"
   ]
  },
  {
   "cell_type": "code",
   "execution_count": 19,
   "metadata": {},
   "outputs": [
    {
     "name": "stdout",
     "output_type": "stream",
     "text": [
      "True\n",
      "True\n"
     ]
    }
   ],
   "source": [
    "print(len(set(label_train)) == params['N_CLASSES'])\n",
    "print(len(set(label_val)) == params['N_CLASSES'])"
   ]
  },
  {
   "cell_type": "code",
   "execution_count": 157,
   "metadata": {},
   "outputs": [],
   "source": [
    "#    def __init__(self, wav_paths, labels, sr, dt, n_classes,\n",
    "#                 batch_size=32, shuffle=True):\n",
    "tg = DataGenerator(wav_train, label_train, sr, dt,\n",
    "                    params['N_CLASSES'], batch_size=batch_size)"
   ]
  },
  {
   "cell_type": "markdown",
   "metadata": {},
   "source": [
    "## Step3: Training with my own dataset"
   ]
  },
  {
   "cell_type": "code",
   "execution_count": 4,
   "metadata": {},
   "outputs": [],
   "source": [
    "# Step1: Load our wav file(60s), preprocessing to STFT as a 2D feature\n",
    "# Refer to helper.py in ultramic\n",
    "\n",
    "def load_clean_signal(file_list, file_dir):\n",
    "    \"\"\"Load audio files from a single mic.\n",
    "\n",
    "    Input:\n",
    "    - file_list: a list of the audio file's name, length: N. The sampling rate\n",
    "    and length of each audio file should be identical.\n",
    "    - filedir: name of the directory containing the audio files.\n",
    "\n",
    "    Returns:\n",
    "    - mic_array_signal: an ndarray of shape (N, L), where L is the length of the\n",
    "    signal. dtype: float32.\n",
    "    - fs: sampling rate.\n",
    "    \"\"\"\n",
    "    mic_signal_list = []\n",
    "    for file in file_list:\n",
    "        file_path = os.path.join(file_dir, file)\n",
    "        fs, single_mic_signal = wavf.read(file_path)\n",
    "        mic_signal_list.append(single_mic_signal)\n",
    "\n",
    "    single_mic_data = np.stack(mic_signal_list)\n",
    "    return single_mic_data, fs"
   ]
  },
  {
   "cell_type": "code",
   "execution_count": 5,
   "metadata": {},
   "outputs": [],
   "source": [
    "file_dir = \"wavfiles_ultramic/Drill/\"\n",
    "file_list = os.listdir(file_dir)\n",
    "Drill_wav,fs = load_clean_signal(file_list,file_dir)"
   ]
  },
  {
   "cell_type": "code",
   "execution_count": 6,
   "metadata": {},
   "outputs": [],
   "source": [
    "file_dir = \"wavfiles_ultramic/Shaver/\"\n",
    "file_list = os.listdir(file_dir)\n",
    "Shaver_wav,fs = load_clean_signal(file_list,file_dir)"
   ]
  },
  {
   "cell_type": "code",
   "execution_count": 7,
   "metadata": {},
   "outputs": [
    {
     "name": "stdout",
     "output_type": "stream",
     "text": [
      "Shape of Drill wav: (1, 5760000)\n",
      "Shape of Shaver wav: (1, 5760000)\n",
      "Fs: 96000\n"
     ]
    }
   ],
   "source": [
    "print(\"Shape of Drill wav:\",Drill_wav.shape)\n",
    "print(\"Shape of Shaver wav:\",Shaver_wav.shape)\n",
    "print(\"Fs:\",fs)"
   ]
  },
  {
   "cell_type": "code",
   "execution_count": 8,
   "metadata": {},
   "outputs": [],
   "source": [
    "#Finish loading, then add the same normalization and gain as what we did in ultramic preprocessing\n",
    "normalize_gain = (np.iinfo(Drill_wav.dtype).max +\n",
    "                    1.0) / Drill_wav.max()\n",
    "Drill_wav_norm = normalize_float(Drill_wav, normalize_gain)\n",
    "Shaver_wav_norm = normalize_float(Shaver_wav, normalize_gain)"
   ]
  },
  {
   "cell_type": "code",
   "execution_count": 9,
   "metadata": {},
   "outputs": [
    {
     "name": "stdout",
     "output_type": "stream",
     "text": [
      "(2, 300, 19200)\n"
     ]
    }
   ],
   "source": [
    "#Clip each single object file into small segment with time period 0.2s\n",
    "delta_sample = int(0.2 * fs)\n",
    "Drill_wav_norm = Drill_wav_norm.reshape(-1,delta_sample)\n",
    "Shaver_wav_norm = Shaver_wav_norm.reshape(-1,delta_sample)\n",
    "wav_stack = np.stack([Drill_wav_norm,Shaver_wav_norm])\n",
    "print(wav_stack.shape)"
   ]
  },
  {
   "cell_type": "code",
   "execution_count": 10,
   "metadata": {},
   "outputs": [
    {
     "name": "stdout",
     "output_type": "stream",
     "text": [
      "(2, 300, 36, 513)\n"
     ]
    }
   ],
   "source": [
    "#Refer to ultramic code, we manually do stft on each small segment\n",
    "window_len = 1024\n",
    "hop_len = 512\n",
    "sample_start_idx = np.arange(0,delta_sample,hop_len)\n",
    "\n",
    "#Adjust the sample_start_idx into suitable size so that we don't need to pad zero in the end\n",
    "for i in range(len(sample_start_idx)-1,-1,-1):\n",
    "    if(sample_start_idx[i]+window_len<delta_sample):\n",
    "        sample_start_idx = sample_start_idx[0:i+1]\n",
    "        break\n",
    "\n",
    "stft_object = []\n",
    "#Iterate on Object\n",
    "for n in range(wav_stack.shape[0]):\n",
    "    stft_time_segment = []\n",
    "    #Iterate on time segment\n",
    "    for m in range(wav_stack.shape[1]):\n",
    "        window_sample = np.stack([wav_stack[n,m,i:i+window_len] for i in sample_start_idx])\n",
    "        f_FFT,fft_data = batch_windowed_fft(window_sample,fs)\n",
    "        stft_time_segment.append(fft_data)\n",
    "    stft_object.append(stft_time_segment)\n",
    "print(np.stack(stft_object).shape)"
   ]
  },
  {
   "cell_type": "code",
   "execution_count": 12,
   "metadata": {},
   "outputs": [
    {
     "name": "stdout",
     "output_type": "stream",
     "text": [
      "171 427\n",
      "256 278\n"
     ]
    }
   ],
   "source": [
    "f_low = 16000\n",
    "f_high = 40000\n",
    "f_low_del = 24000\n",
    "f_high_del = 26000\n",
    "f_low_idx,f_high_idx = fft_freq_clipping(f_FFT, f_low, f_high)\n",
    "f_low_didx,f_high_didx = fft_freq_clipping(f_FFT, f_low_del, f_high_del)\n",
    "print(f_low_idx,f_high_idx)\n",
    "print(f_low_didx,f_high_didx)"
   ]
  },
  {
   "cell_type": "code",
   "execution_count": 26,
   "metadata": {},
   "outputs": [
    {
     "name": "stdout",
     "output_type": "stream",
     "text": [
      "(2, 300, 36, 234)\n"
     ]
    }
   ],
   "source": [
    "stft_object_clipping_1 = np.stack(stft_object)[:,:,:,f_low_idx:f_low_didx]\n",
    "stft_object_clipping_2 = np.stack(stft_object)[:,:,:,f_high_didx:f_high_idx]\n",
    "stft_object_clipping=np.abs(np.concatenate([stft_object_clipping_1,stft_object_clipping_2],axis=-1))\n",
    "print(stft_object_clipping.shape)\n",
    "stft_object_clipping /= np.max(stft_object_clipping)\n",
    "stft_object_clipping = np.log10(stft_object_clipping)"
   ]
  },
  {
   "cell_type": "code",
   "execution_count": 27,
   "metadata": {},
   "outputs": [],
   "source": [
    "np.save(\"stft_object_clipping.npy\",np.abs(stft_object_clipping))"
   ]
  },
  {
   "cell_type": "code",
   "execution_count": 28,
   "metadata": {},
   "outputs": [],
   "source": [
    "from matplotlib import pyplot as plt"
   ]
  },
  {
   "cell_type": "code",
   "execution_count": 31,
   "metadata": {},
   "outputs": [
    {
     "data": {
      "text/plain": [
       "Text(0, 0.5, 'Frequency(Hz)')"
      ]
     },
     "execution_count": 31,
     "metadata": {},
     "output_type": "execute_result"
    },
    {
     "data": {
      "image/png": "[encoded data removed]",
      "text/plain": [
       "<Figure size 720x576 with 2 Axes>"
      ]
     },
     "metadata": {
      "needs_background": "light"
     },
     "output_type": "display_data"
    }
   ],
   "source": [
    "fig,ax = plt.subplots(figsize=(10,8))\n",
    "img = ax.imshow(stft_object_clipping[1,0,:,:].T,aspect=\"auto\",origin=\"lower\",extent=[0,stft_object_clipping.shape[2],f_low,f_high])\n",
    "fig.colorbar(img,ax=ax)\n",
    "#ax.set_yticks(f_FFT[0:-1:10])\n",
    "ax.set_xlabel(\"TimeFrame\",fontsize=20)\n",
    "ax.set_ylabel(\"Frequency(Hz)\",fontsize=20)"
   ]
  },
  {
   "cell_type": "code",
   "execution_count": null,
   "metadata": {},
   "outputs": [],
   "source": []
  }
 ],
 "metadata": {
  "kernelspec": {
   "display_name": "Python 3.7.12 ('audio')",
   "language": "python",
   "name": "python3"
  },
  "language_info": {
   "codemirror_mode": {
    "name": "ipython",
    "version": 3
   },
   "file_extension": ".py",
   "mimetype": "text/x-python",
   "name": "python",
   "nbconvert_exporter": "python",
   "pygments_lexer": "ipython3",
   "version": "3.7.12"
  },
  "orig_nbformat": 4,
  "vscode": {
   "interpreter": {
    "hash": "fea9d4a4ac5a2c0f15480518025a9f7f055069e9c76c81218581ccb18b5d7614"
   }
  }
 },
 "nbformat": 4,
 "nbformat_minor": 2
}
