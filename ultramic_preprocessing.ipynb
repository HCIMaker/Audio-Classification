{
 "cells": [
  {
   "cell_type": "code",
   "execution_count": 1,
   "metadata": {},
   "outputs": [],
   "source": [
    "%load_ext autoreload\n",
    "%autoreload 2"
   ]
  },
  {
   "cell_type": "code",
   "execution_count": 2,
   "metadata": {},
   "outputs": [],
   "source": [
    "from clean import *\n",
    "from train import *\n",
    "from models import *\n",
    "import argparse\n",
    "import scipy.io.wavfile as wavf\n",
    "import scipy.signal\n",
    "import scipy.fft\n"
   ]
  },
  {
   "cell_type": "code",
   "execution_count": 3,
   "metadata": {},
   "outputs": [],
   "source": [
    "def batch_stft(mic_array_data: np.ndarray, fs: int, frame_time: float):\n",
    "    \"\"\"Compute the STFT of a microphone array's data in batch.\n",
    "\n",
    "    Input:\n",
    "    - mic_data: Mic array data, ndarray of shape (N, L), where N is the number\n",
    "    of microphones and L is the data's sample length.\n",
    "    - fs: sampling rate.\n",
    "    - frame_time: time of one FFT frame, unit: s. (i.e. 0.025 denotes 25 ms)\n",
    "\n",
    "    Returns:\n",
    "    - f_FFT: array of sampling frequencies corresponds to each FFT bin.\n",
    "    - t_seg: array of each segment's time.\n",
    "    - stft_data: Result of the STFT. An ndarray of shape (M, N, L'), where M is\n",
    "    the number of frames, N is the number of microphones, and L' is the FFT\n",
    "    length.\n",
    "    \"\"\"\n",
    "    frame_len = round(fs * frame_time)\n",
    "    f_FFT, t_seg, stft_data = scipy.signal.stft(\n",
    "        mic_array_data, fs, nperseg=frame_len, padded=False)\n",
    "\n",
    "    # The default output of stft_data has shape (N, L', M), and we need to swap\n",
    "    # the axes to get output of desired shape.\n",
    "    stft_data = np.ascontiguousarray(stft_data.transpose((2, 0, 1)))\n",
    "\n",
    "    # The type of f_FFT defaults to float64, so we convert it to float32.\n",
    "    return f_FFT.astype(np.float32), stft_data\n",
    "    \n",
    "def normalize_float(mic_data: np.ndarray, gain: float = 1.0):\n",
    "    \"\"\"Normalize microphone's data by removing DC offset and adding gain.\n",
    "\n",
    "    The input data type is np.int16, and the output data type is np.float32.\n",
    "    The input data has shape (mic_num, N), where mic_num is the number of\n",
    "    microphones and N is the number of samples.  Also, the data range will be\n",
    "    normalized from [-32768, 32767] to [-1, 1).\n",
    "    \"\"\"\n",
    "    dtype = mic_data.dtype\n",
    "    mic_data = (mic_data - np.mean(mic_data, axis=1, keepdims=True)) * gain\n",
    "    # Manually clip the data to prevent overflow.\n",
    "    mic_data = np.clip(mic_data, np.iinfo(dtype).min, np.iinfo(dtype).max)\n",
    "    # Normalize data range.\n",
    "    mic_data /= (np.iinfo(dtype).max + 1.0)\n",
    "\n",
    "    return mic_data.astype(np.float32)\n",
    "\n",
    "def batch_windowed_fft(mic_array_data: np.ndarray, fs: int):\n",
    "    \"\"\"Compute the FFT with Hann window of a microphone array's data in batch.\n",
    "\n",
    "    Input:\n",
    "    - mic_data: Mic array data, ndarray of shape (N, L), where N is the number\n",
    "    of microphones and L is the data's sample length. The whole data for each\n",
    "    microphone is treated as one FFT frame, and this is the difference between\n",
    "    this function and batch_stft().\n",
    "    - fs: sampling rate.\n",
    "    - frame_time: time of one FFT frame, unit: s. (i.e. 0.025 denotes 25 ms)\n",
    "\n",
    "    Returns:\n",
    "    - f_FFT: array of sampling frequencies corresponds to each FFT bin.\n",
    "    - fft_data: Result of the STFT. An ndarray of shape (N, L'), where N is the\n",
    "    number of microphones and L' is the FFT length.\n",
    "    \"\"\"\n",
    "    window = scipy.signal.get_window('hann', mic_array_data.shape[1])\n",
    "    # Use orthogonal norm so that the scale of fft_data is roughly independent\n",
    "    # of the length of input.\n",
    "    fft_data = scipy.fft.rfft(mic_array_data * window, norm='ortho')\n",
    "    f_FFT = np.linspace(0, fs / 2, mic_array_data.shape[1] // 2 + 1)\n",
    "    # Somehow rfft()'s return type is float64 and complex128, so we need to\n",
    "    # manually convert it to float32 and complex64.\n",
    "    return f_FFT.astype(np.float32), fft_data.astype(np.complex64)\n",
    "\n",
    "def fft_freq_clipping(f_FFT: np.ndarray, f_low, f_high):\n",
    "    \"\"\"Clip an FFT frequency bin by frequency lower bounds and upper bounds.\"\"\"\n",
    "    f_low_idx, f_high_idx = -1, -1\n",
    "    if f_low <= f_FFT[0]:\n",
    "        f_low_idx = 0\n",
    "    if f_high >= f_FFT[-1]:\n",
    "        f_high_idx = len(f_FFT)\n",
    "    for i in range(len(f_FFT) - 1):\n",
    "        if f_FFT[i] < f_low and f_FFT[i+1] >= f_low:\n",
    "            f_low_idx = i + 1\n",
    "        if f_FFT[i] <= f_high and f_FFT[i+1] > f_high:\n",
    "            f_high_idx = i + 1\n",
    "    if f_low_idx == -1 or f_high_idx == -1:\n",
    "        raise RuntimeError('Incorrect FFT frequency bound')\n",
    "\n",
    "    return f_low_idx, f_high_idx\n"
   ]
  },
  {
   "cell_type": "markdown",
   "metadata": {},
   "source": [
    "## Step1: Format and clean the data"
   ]
  },
  {
   "cell_type": "code",
   "execution_count": 16,
   "metadata": {},
   "outputs": [],
   "source": [
    "# Step1: Format and clean the data. Eliminating the sample with small amplitude\n",
    "# Construct the argument\n",
    "parser = argparse.ArgumentParser(description='Cleaning audio data')\n",
    "parser.add_argument('--src_root', type=str, default='wavfiles',\n",
    "                    help='directory of audio files in total duration')\n",
    "parser.add_argument('--dst_root', type=str, default='clean',\n",
    "                    help='directory to put audio files split by delta_time')\n",
    "parser.add_argument('--delta_time', '-dt', type=float, default=1.0,\n",
    "                    help='time in seconds to sample audio')\n",
    "parser.add_argument('--sr', type=int, default=44100,\n",
    "                    help='rate to downsample audio')\n",
    "parser.add_argument('--plotfile', type=str, default='8da75280',\n",
    "                    help='directory of audio files in total duration')\n",
    "parser.add_argument('--threshold', type=str, default=1000,\n",
    "                    help='threshold magnitude for np.int16 dtype')\n",
    "args, _ = parser.parse_known_args()\n"
   ]
  },
  {
   "cell_type": "code",
   "execution_count": 17,
   "metadata": {},
   "outputs": [
    {
     "data": {
      "image/png": "[encoded data removed]",
      "text/plain": [
       "<Figure size 432x288 with 1 Axes>"
      ]
     },
     "metadata": {},
     "output_type": "display_data"
    }
   ],
   "source": [
    "test_threshold(args)"
   ]
  },
  {
   "cell_type": "code",
   "execution_count": 18,
   "metadata": {},
   "outputs": [
    {
     "name": "stdout",
     "output_type": "stream",
     "text": [
      "clean exists\n",
      "clean\\Acoustic_guitar does not exist\n"
     ]
    },
    {
     "name": "stderr",
     "output_type": "stream",
     "text": [
      " 37%|███▋      | 11/30 [00:01<00:02,  6.36it/s]"
     ]
    },
    {
     "name": "stdout",
     "output_type": "stream",
     "text": [
      "clean\\Acoustic_guitar\n",
      "clean\\Acoustic_guitar\n"
     ]
    },
    {
     "name": "stderr",
     "output_type": "stream",
     "text": [
      " 63%|██████▎   | 19/30 [00:04<00:03,  2.89it/s]"
     ]
    },
    {
     "name": "stdout",
     "output_type": "stream",
     "text": [
      "clean\\Acoustic_guitar\n"
     ]
    },
    {
     "name": "stderr",
     "output_type": "stream",
     "text": [
      " 90%|█████████ | 27/30 [00:05<00:00,  5.24it/s]"
     ]
    },
    {
     "name": "stdout",
     "output_type": "stream",
     "text": [
      "clean\\Acoustic_guitar\n"
     ]
    },
    {
     "name": "stderr",
     "output_type": "stream",
     "text": [
      "100%|██████████| 30/30 [00:06<00:00,  4.48it/s]\n",
      "  7%|▋         | 2/30 [00:00<00:01, 14.96it/s]"
     ]
    },
    {
     "name": "stdout",
     "output_type": "stream",
     "text": [
      "clean\\Bass_drum does not exist\n",
      "clean\\Bass_drum\n",
      "clean\\Bass_drum\n"
     ]
    },
    {
     "name": "stderr",
     "output_type": "stream",
     "text": [
      " 13%|█▎        | 4/30 [00:00<00:01, 14.93it/s]"
     ]
    },
    {
     "name": "stdout",
     "output_type": "stream",
     "text": [
      "clean\\Bass_drum\n",
      "clean\\Bass_drum\n",
      "clean\\Bass_drum\n"
     ]
    },
    {
     "name": "stderr",
     "output_type": "stream",
     "text": [
      " 27%|██▋       | 8/30 [00:00<00:01, 14.91it/s]"
     ]
    },
    {
     "name": "stdout",
     "output_type": "stream",
     "text": [
      "clean\\Bass_drum\n",
      "clean\\Bass_drum\n"
     ]
    },
    {
     "name": "stderr",
     "output_type": "stream",
     "text": [
      " 33%|███▎      | 10/30 [00:00<00:01, 13.45it/s]"
     ]
    },
    {
     "name": "stdout",
     "output_type": "stream",
     "text": [
      "clean\\Bass_drum\n",
      "clean\\Bass_drum\n"
     ]
    },
    {
     "name": "stderr",
     "output_type": "stream",
     "text": [
      " 47%|████▋     | 14/30 [00:01<00:01, 12.35it/s]"
     ]
    },
    {
     "name": "stdout",
     "output_type": "stream",
     "text": [
      "clean\\Bass_drum\n",
      "clean\\Bass_drum\n"
     ]
    },
    {
     "name": "stderr",
     "output_type": "stream",
     "text": [
      " 53%|█████▎    | 16/30 [00:01<00:01, 13.05it/s]"
     ]
    },
    {
     "name": "stdout",
     "output_type": "stream",
     "text": [
      "clean\\Bass_drum\n",
      "clean\\Bass_drum\n"
     ]
    },
    {
     "name": "stderr",
     "output_type": "stream",
     "text": [
      " 73%|███████▎  | 22/30 [00:01<00:00, 12.51it/s]"
     ]
    },
    {
     "name": "stdout",
     "output_type": "stream",
     "text": [
      "clean\\Bass_drum\n",
      "clean\\Bass_drum\n",
      "clean\\Bass_drum\n",
      "clean\\Bass_drum\n"
     ]
    },
    {
     "name": "stderr",
     "output_type": "stream",
     "text": [
      " 87%|████████▋ | 26/30 [00:01<00:00, 14.59it/s]"
     ]
    },
    {
     "name": "stdout",
     "output_type": "stream",
     "text": [
      "clean\\Bass_drum\n",
      "clean\\Bass_drum\n",
      "clean\\Bass_drum\n",
      "clean\\Bass_drum"
     ]
    },
    {
     "name": "stderr",
     "output_type": "stream",
     "text": [
      " 93%|█████████▎| 28/30 [00:02<00:00, 15.32it/s]"
     ]
    },
    {
     "name": "stdout",
     "output_type": "stream",
     "text": [
      "\n",
      "clean\\Bass_drum\n",
      "clean\\Bass_drum\n"
     ]
    },
    {
     "name": "stderr",
     "output_type": "stream",
     "text": [
      "100%|██████████| 30/30 [00:02<00:00, 13.40it/s]\n",
      "  0%|          | 0/30 [00:00<?, ?it/s]"
     ]
    },
    {
     "name": "stdout",
     "output_type": "stream",
     "text": [
      "clean\\Bass_drum\n",
      "clean\\Cello does not exist\n"
     ]
    },
    {
     "name": "stderr",
     "output_type": "stream",
     "text": [
      " 17%|█▋        | 5/30 [00:01<00:05,  4.95it/s]"
     ]
    },
    {
     "name": "stdout",
     "output_type": "stream",
     "text": [
      "clean\\Cello\n",
      "clean\\Cello\n"
     ]
    },
    {
     "name": "stderr",
     "output_type": "stream",
     "text": [
      "100%|██████████| 30/30 [00:06<00:00,  4.61it/s]\n",
      "  0%|          | 0/30 [00:00<?, ?it/s]"
     ]
    },
    {
     "name": "stdout",
     "output_type": "stream",
     "text": [
      "clean\\Clarinet does not exist\n"
     ]
    },
    {
     "name": "stderr",
     "output_type": "stream",
     "text": [
      "100%|██████████| 30/30 [00:10<00:00,  2.76it/s]\n",
      "  0%|          | 0/30 [00:00<?, ?it/s]"
     ]
    },
    {
     "name": "stdout",
     "output_type": "stream",
     "text": [
      "clean\\Double_bass does not exist\n"
     ]
    },
    {
     "name": "stderr",
     "output_type": "stream",
     "text": [
      " 37%|███▋      | 11/30 [00:01<00:03,  5.22it/s]"
     ]
    },
    {
     "name": "stdout",
     "output_type": "stream",
     "text": [
      "clean\\Double_bass\n"
     ]
    },
    {
     "name": "stderr",
     "output_type": "stream",
     "text": [
      " 50%|█████     | 15/30 [00:02<00:01,  7.76it/s]"
     ]
    },
    {
     "name": "stdout",
     "output_type": "stream",
     "text": [
      "clean\\Double_bass\n",
      "clean\\Double_bass\n",
      "clean\\Double_bass\n"
     ]
    },
    {
     "name": "stderr",
     "output_type": "stream",
     "text": [
      " 70%|███████   | 21/30 [00:02<00:01,  8.78it/s]"
     ]
    },
    {
     "name": "stdout",
     "output_type": "stream",
     "text": [
      "clean\\Double_bass\n"
     ]
    },
    {
     "name": "stderr",
     "output_type": "stream",
     "text": [
      " 90%|█████████ | 27/30 [00:03<00:00,  7.79it/s]"
     ]
    },
    {
     "name": "stdout",
     "output_type": "stream",
     "text": [
      "clean\\Double_bass\n"
     ]
    },
    {
     "name": "stderr",
     "output_type": "stream",
     "text": [
      "100%|██████████| 30/30 [00:03<00:00,  7.83it/s]\n",
      "  0%|          | 0/30 [00:00<?, ?it/s]"
     ]
    },
    {
     "name": "stdout",
     "output_type": "stream",
     "text": [
      "clean\\Flute does not exist\n"
     ]
    },
    {
     "name": "stderr",
     "output_type": "stream",
     "text": [
      " 53%|█████▎    | 16/30 [00:04<00:05,  2.38it/s]"
     ]
    },
    {
     "name": "stdout",
     "output_type": "stream",
     "text": [
      "clean\\Flute\n"
     ]
    },
    {
     "name": "stderr",
     "output_type": "stream",
     "text": [
      "100%|██████████| 30/30 [00:10<00:00,  2.88it/s]\n",
      "  3%|▎         | 1/30 [00:00<00:03,  8.79it/s]"
     ]
    },
    {
     "name": "stdout",
     "output_type": "stream",
     "text": [
      "clean\\Hi_hat does not exist\n"
     ]
    },
    {
     "name": "stderr",
     "output_type": "stream",
     "text": [
      " 13%|█▎        | 4/30 [00:00<00:02,  9.75it/s]"
     ]
    },
    {
     "name": "stdout",
     "output_type": "stream",
     "text": [
      "clean\\Hi_hat\n"
     ]
    },
    {
     "name": "stderr",
     "output_type": "stream",
     "text": [
      " 30%|███       | 9/30 [00:00<00:02, 10.14it/s]"
     ]
    },
    {
     "name": "stdout",
     "output_type": "stream",
     "text": [
      "clean\\Hi_hat\n",
      "clean\\Hi_hat\n",
      "clean\\Hi_hat"
     ]
    },
    {
     "name": "stderr",
     "output_type": "stream",
     "text": [
      " 37%|███▋      | 11/30 [00:01<00:01, 10.35it/s]"
     ]
    },
    {
     "name": "stdout",
     "output_type": "stream",
     "text": [
      "\n",
      "clean\\Hi_hat\n"
     ]
    },
    {
     "name": "stderr",
     "output_type": "stream",
     "text": [
      " 47%|████▋     | 14/30 [00:01<00:01,  9.06it/s]"
     ]
    },
    {
     "name": "stdout",
     "output_type": "stream",
     "text": [
      "clean\\Hi_hat\n",
      "clean\\Hi_hat\n"
     ]
    },
    {
     "name": "stderr",
     "output_type": "stream",
     "text": [
      " 57%|█████▋    | 17/30 [00:01<00:01,  9.46it/s]"
     ]
    },
    {
     "name": "stdout",
     "output_type": "stream",
     "text": [
      "clean\\Hi_hat\n",
      "clean\\Hi_hat\n"
     ]
    },
    {
     "name": "stderr",
     "output_type": "stream",
     "text": [
      " 70%|███████   | 21/30 [00:01<00:00, 11.32it/s]"
     ]
    },
    {
     "name": "stdout",
     "output_type": "stream",
     "text": [
      "clean\\Hi_hat\n",
      "clean\\Hi_hat\n",
      "clean\\Hi_hat\n",
      "clean\\Hi_hat\n"
     ]
    },
    {
     "name": "stderr",
     "output_type": "stream",
     "text": [
      " 83%|████████▎ | 25/30 [00:02<00:00,  9.57it/s]"
     ]
    },
    {
     "name": "stdout",
     "output_type": "stream",
     "text": [
      "clean\\Hi_hat\n"
     ]
    },
    {
     "name": "stderr",
     "output_type": "stream",
     "text": [
      "100%|██████████| 30/30 [00:03<00:00,  9.92it/s]"
     ]
    },
    {
     "name": "stdout",
     "output_type": "stream",
     "text": [
      "clean\\Hi_hat\n"
     ]
    },
    {
     "name": "stderr",
     "output_type": "stream",
     "text": [
      "\n",
      "  0%|          | 0/30 [00:00<?, ?it/s]"
     ]
    },
    {
     "name": "stdout",
     "output_type": "stream",
     "text": [
      "clean\\Saxophone does not exist\n"
     ]
    },
    {
     "name": "stderr",
     "output_type": "stream",
     "text": [
      "100%|██████████| 30/30 [00:12<00:00,  2.43it/s]\n",
      "  0%|          | 0/30 [00:00<?, ?it/s]"
     ]
    },
    {
     "name": "stdout",
     "output_type": "stream",
     "text": [
      "clean\\Snare_drum does not exist\n"
     ]
    },
    {
     "name": "stderr",
     "output_type": "stream",
     "text": [
      "  7%|▋         | 2/30 [00:00<00:13,  2.04it/s]"
     ]
    },
    {
     "name": "stdout",
     "output_type": "stream",
     "text": [
      "clean\\Snare_drum\n"
     ]
    },
    {
     "name": "stderr",
     "output_type": "stream",
     "text": [
      " 30%|███       | 9/30 [00:01<00:04,  5.21it/s]"
     ]
    },
    {
     "name": "stdout",
     "output_type": "stream",
     "text": [
      "clean\\Snare_drum\n",
      "clean\\Snare_drum\n",
      "clean\\Snare_drum\n",
      "clean\\Snare_drum\n"
     ]
    },
    {
     "name": "stderr",
     "output_type": "stream",
     "text": [
      " 37%|███▋      | 11/30 [00:01<00:02,  6.43it/s]"
     ]
    },
    {
     "name": "stdout",
     "output_type": "stream",
     "text": [
      "clean\\Snare_drum\n",
      "clean\\Snare_drum\n",
      "clean\\Snare_drum\n"
     ]
    },
    {
     "name": "stderr",
     "output_type": "stream",
     "text": [
      " 57%|█████▋    | 17/30 [00:02<00:01,  7.19it/s]"
     ]
    },
    {
     "name": "stdout",
     "output_type": "stream",
     "text": [
      "clean\\Snare_drum\n",
      "clean\\Snare_drum\n"
     ]
    },
    {
     "name": "stderr",
     "output_type": "stream",
     "text": [
      " 83%|████████▎ | 25/30 [00:03<00:00,  6.44it/s]"
     ]
    },
    {
     "name": "stdout",
     "output_type": "stream",
     "text": [
      "clean\\Snare_drum\n",
      "clean\\Snare_drum\n",
      "clean\\Snare_drum\n",
      "clean\\Snare_drum\n"
     ]
    },
    {
     "name": "stderr",
     "output_type": "stream",
     "text": [
      " 90%|█████████ | 27/30 [00:04<00:00,  5.45it/s]"
     ]
    },
    {
     "name": "stdout",
     "output_type": "stream",
     "text": [
      "clean\\Snare_drum\n",
      "clean\\Snare_drum\n"
     ]
    },
    {
     "name": "stderr",
     "output_type": "stream",
     "text": [
      "100%|██████████| 30/30 [00:05<00:00,  5.87it/s]\n",
      "  0%|          | 0/30 [00:00<?, ?it/s]"
     ]
    },
    {
     "name": "stdout",
     "output_type": "stream",
     "text": [
      "clean\\Violin_or_fiddle does not exist\n"
     ]
    },
    {
     "name": "stderr",
     "output_type": "stream",
     "text": [
      " 10%|█         | 3/30 [00:00<00:05,  5.23it/s]"
     ]
    },
    {
     "name": "stdout",
     "output_type": "stream",
     "text": [
      "clean\\Violin_or_fiddle\n",
      "clean\\Violin_or_fiddle\n"
     ]
    },
    {
     "name": "stderr",
     "output_type": "stream",
     "text": [
      " 20%|██        | 6/30 [00:01<00:05,  4.49it/s]"
     ]
    },
    {
     "name": "stdout",
     "output_type": "stream",
     "text": [
      "clean\\Violin_or_fiddle\n"
     ]
    },
    {
     "name": "stderr",
     "output_type": "stream",
     "text": [
      " 33%|███▎      | 10/30 [00:02<00:04,  4.51it/s]"
     ]
    },
    {
     "name": "stdout",
     "output_type": "stream",
     "text": [
      "clean\\Violin_or_fiddle\n",
      "clean\\Violin_or_fiddle"
     ]
    },
    {
     "name": "stderr",
     "output_type": "stream",
     "text": [
      " 40%|████      | 12/30 [00:02<00:03,  5.70it/s]"
     ]
    },
    {
     "name": "stdout",
     "output_type": "stream",
     "text": [
      "\n"
     ]
    },
    {
     "name": "stderr",
     "output_type": "stream",
     "text": [
      " 43%|████▎     | 13/30 [00:02<00:04,  3.70it/s]"
     ]
    },
    {
     "name": "stdout",
     "output_type": "stream",
     "text": [
      "clean\\Violin_or_fiddle\n"
     ]
    },
    {
     "name": "stderr",
     "output_type": "stream",
     "text": [
      " 53%|█████▎    | 16/30 [00:03<00:02,  4.77it/s]"
     ]
    },
    {
     "name": "stdout",
     "output_type": "stream",
     "text": [
      "clean\\Violin_or_fiddle\n"
     ]
    },
    {
     "name": "stderr",
     "output_type": "stream",
     "text": [
      " 60%|██████    | 18/30 [00:03<00:02,  5.06it/s]"
     ]
    },
    {
     "name": "stdout",
     "output_type": "stream",
     "text": [
      "clean\\Violin_or_fiddle\n"
     ]
    },
    {
     "name": "stderr",
     "output_type": "stream",
     "text": [
      " 73%|███████▎  | 22/30 [00:04<00:01,  4.91it/s]"
     ]
    },
    {
     "name": "stdout",
     "output_type": "stream",
     "text": [
      "clean\\Violin_or_fiddle\n",
      "clean\\Violin_or_fiddle\n",
      "clean\\Violin_or_fiddle\n"
     ]
    },
    {
     "name": "stderr",
     "output_type": "stream",
     "text": [
      "100%|██████████| 30/30 [00:06<00:00,  4.74it/s]\n"
     ]
    }
   ],
   "source": [
    "split_wavs(args)"
   ]
  },
  {
   "cell_type": "markdown",
   "metadata": {},
   "source": [
    "## Step 1.2 concatenate all the 1s data from the same class in the \"clean\" folder together. "
   ]
  },
  {
   "cell_type": "code",
   "execution_count": 19,
   "metadata": {},
   "outputs": [
    {
     "name": "stdout",
     "output_type": "stream",
     "text": [
      "Acoustic_guitar 68.0\n",
      "Acoustic_guitar 17.0\n",
      "Bass_drum 28.0\n",
      "Bass_drum 7.0\n",
      "Cello 72.0\n",
      "Cello 18.0\n",
      "Clarinet 112.0\n",
      "Clarinet 29.0\n",
      "Double_bass 40.0\n",
      "Double_bass 10.0\n",
      "Flute 124.0\n",
      "Flute 32.0\n",
      "Hi_hat 27.0\n",
      "Hi_hat 7.0\n",
      "Saxophone 141.0\n",
      "Saxophone 36.0\n",
      "Snare_drum 56.0\n",
      "Snare_drum 14.0\n",
      "Violin_or_fiddle 82.0\n",
      "Violin_or_fiddle 21.0\n"
     ]
    }
   ],
   "source": [
    "# Next we will concatenate the data from the same class together, which is easy for the mobile phone to play.\n",
    "src_dir = 'clean'\n",
    "dst_dir = 'clean'\n",
    "# Read all the path from the src_dir\n",
    "cls = os.listdir(src_dir)\n",
    "for i in range(len(cls)):\n",
    "    cls_wav_path = os.path.join(src_dir,cls[i])\n",
    "    wav_paths = glob('{}/**'.format(cls_wav_path), recursive=True)\n",
    "    wav_paths = [x for x in wav_paths if '.wav' in x]\n",
    "    cls_wav = []\n",
    "    for j in range(len(wav_paths)):\n",
    "        _,tmp = wavf.read(wav_paths[j])\n",
    "        cls_wav.append(tmp)\n",
    "    save_wav = np.array(cls_wav).flatten()\n",
    "    train_wav_len = int(0.8*len(save_wav))\n",
    "    train_wav_len = int(train_wav_len-train_wav_len%44100)\n",
    "    print(cls[i],train_wav_len/44100)\n",
    "    print(cls[i],(len(save_wav)-train_wav_len)/44100)\n",
    "    wavf.write(cls_wav_path+\"_train.wav\",44100,save_wav[:train_wav_len])\n",
    "    wavf.write(cls_wav_path+\"_test.wav\",44100,save_wav[train_wav_len:])\n"
   ]
  },
  {
   "cell_type": "markdown",
   "metadata": {},
   "source": [
    "## Step2 Training the model based on existing data"
   ]
  },
  {
   "cell_type": "code",
   "execution_count": 6,
   "metadata": {},
   "outputs": [],
   "source": [
    "# Prepare the parameter for usage\n",
    "parser = argparse.ArgumentParser(description='Audio Classification Training')\n",
    "parser.add_argument('--model_type', type=str, default='lstm',\n",
    "                        help='model to run. i.e. conv1d, conv2d, lstm')\n",
    "parser.add_argument('--src_root', type=str, default='clean',\n",
    "                        help='directory of audio files in total duration')\n",
    "parser.add_argument('--batch_size', type=int, default=16,\n",
    "                        help='batch size')\n",
    "parser.add_argument('--delta_time', '-dt', type=float, default=1.0,\n",
    "                        help='time in seconds to sample audio')\n",
    "parser.add_argument('--sample_rate', '-sr', type=int, default=16000,\n",
    "                        help='sample rate of clean audio')\n",
    "args, _ = parser.parse_known_args()"
   ]
  },
  {
   "cell_type": "code",
   "execution_count": 7,
   "metadata": {},
   "outputs": [
    {
     "name": "stdout",
     "output_type": "stream",
     "text": [
      "Namespace(batch_size=16, delta_time=1.0, model_type='lstm', sample_rate=16000, src_root='clean')\n"
     ]
    }
   ],
   "source": [
    "print(args)"
   ]
  },
  {
   "cell_type": "code",
   "execution_count": 8,
   "metadata": {},
   "outputs": [],
   "source": [
    "src_root = args.src_root\n",
    "sr = args.sample_rate\n",
    "dt = args.delta_time\n",
    "batch_size = args.batch_size\n",
    "model_type = args.model_type"
   ]
  },
  {
   "cell_type": "code",
   "execution_count": 9,
   "metadata": {},
   "outputs": [
    {
     "name": "stdout",
     "output_type": "stream",
     "text": [
      "{'N_CLASSES': 10, 'SR': 16000, 'DT': 1.0}\n"
     ]
    }
   ],
   "source": [
    "params = {'N_CLASSES':len(os.listdir(args.src_root)),\n",
    "            'SR':sr,\n",
    "            'DT':dt}\n",
    "print(params)"
   ]
  },
  {
   "cell_type": "code",
   "execution_count": 10,
   "metadata": {},
   "outputs": [],
   "source": [
    "models = {'conv1d':Conv1D(**params),\n",
    "            'conv2d':Conv2D(**params),\n",
    "            'lstm':  LSTM(**params)}"
   ]
  },
  {
   "cell_type": "code",
   "execution_count": 11,
   "metadata": {},
   "outputs": [],
   "source": [
    "assert model_type in models.keys(), '{} not an available model'.format(model_type)"
   ]
  },
  {
   "cell_type": "code",
   "execution_count": 12,
   "metadata": {},
   "outputs": [],
   "source": [
    "csv_path = os.path.join('logs', '{}_history.csv'.format(model_type))"
   ]
  },
  {
   "cell_type": "code",
   "execution_count": 13,
   "metadata": {},
   "outputs": [
    {
     "name": "stdout",
     "output_type": "stream",
     "text": [
      "clean\\Acoustic_guitar\\0356dec7_0.wav\n",
      "1290\n"
     ]
    }
   ],
   "source": [
    "wav_paths = glob('{}/**'.format(src_root), recursive=True)\n",
    "print(wav_paths[2])\n",
    "wav_paths = [x.replace(os.sep, '/') for x in wav_paths if '.wav' in x]\n",
    "print(len(wav_paths))"
   ]
  },
  {
   "cell_type": "code",
   "execution_count": 14,
   "metadata": {},
   "outputs": [
    {
     "name": "stdout",
     "output_type": "stream",
     "text": [
      "['Acoustic_guitar', 'Bass_drum', 'Cello', 'Clarinet', 'Double_bass', 'Flute', 'Hi_hat', 'Saxophone', 'Snare_drum', 'Violin_or_fiddle']\n"
     ]
    }
   ],
   "source": [
    "classes = sorted(os.listdir(args.src_root))\n",
    "print(classes)"
   ]
  },
  {
   "cell_type": "code",
   "execution_count": 16,
   "metadata": {},
   "outputs": [
    {
     "name": "stdout",
     "output_type": "stream",
     "text": [
      "[0 0 0 ... 9 9 9]\n"
     ]
    }
   ],
   "source": [
    "le = LabelEncoder()\n",
    "le.fit(classes)\n",
    "labels = [os.path.split(x)[0].split('/')[-1] for x in wav_paths]\n",
    "labels = le.transform(labels)\n",
    "print(labels)"
   ]
  },
  {
   "cell_type": "code",
   "execution_count": 17,
   "metadata": {},
   "outputs": [],
   "source": [
    "# The currrent wav_train and wav_val are the path to the wav file\n",
    "wav_train, wav_val, label_train, label_val = train_test_split(wav_paths,\n",
    "                                                                labels,\n",
    "                                                                test_size=0.1,\n",
    "                                                                random_state=0)"
   ]
  },
  {
   "cell_type": "code",
   "execution_count": 18,
   "metadata": {},
   "outputs": [],
   "source": [
    "assert len(label_train) >= args.batch_size, 'Number of train samples must be >= batch_size'"
   ]
  },
  {
   "cell_type": "code",
   "execution_count": 19,
   "metadata": {},
   "outputs": [
    {
     "name": "stdout",
     "output_type": "stream",
     "text": [
      "True\n",
      "True\n"
     ]
    }
   ],
   "source": [
    "print(len(set(label_train)) == params['N_CLASSES'])\n",
    "print(len(set(label_val)) == params['N_CLASSES'])"
   ]
  },
  {
   "cell_type": "code",
   "execution_count": 157,
   "metadata": {},
   "outputs": [],
   "source": [
    "#    def __init__(self, wav_paths, labels, sr, dt, n_classes,\n",
    "#                 batch_size=32, shuffle=True):\n",
    "tg = DataGenerator(wav_train, label_train, sr, dt,\n",
    "                    params['N_CLASSES'], batch_size=batch_size)"
   ]
  },
  {
   "cell_type": "markdown",
   "metadata": {},
   "source": [
    "## Step3: Training with my own dataset"
   ]
  },
  {
   "cell_type": "code",
   "execution_count": 5,
   "metadata": {},
   "outputs": [],
   "source": [
    "# Step1: Load our wav file(60s), preprocessing to STFT as a 2D feature\n",
    "# Refer to helper.py in ultramic\n",
    "\n",
    "def load_clean_signal(file_list, file_dir):\n",
    "    \"\"\"Load audio files from a single mic.\n",
    "\n",
    "    Input:\n",
    "    - file_list: a list of the audio file's name, length: N. The sampling rate\n",
    "    and length of each audio file should be identical.\n",
    "    - filedir: name of the directory containing the audio files.\n",
    "\n",
    "    Returns:\n",
    "    - mic_array_signal: an ndarray of shape (N, L), where L is the length of the\n",
    "    signal. dtype: float32.\n",
    "    - fs: sampling rate.\n",
    "    \"\"\"\n",
    "    mic_signal_list = []\n",
    "    for file in file_list:\n",
    "        file_path = os.path.join(file_dir, file)\n",
    "        fs, single_mic_signal = wavf.read(file_path)\n",
    "        mic_signal_list.append(single_mic_signal)\n",
    "\n",
    "    single_mic_data = np.stack(mic_signal_list)\n",
    "    return single_mic_data, fs"
   ]
  },
  {
   "cell_type": "code",
   "execution_count": 15,
   "metadata": {},
   "outputs": [],
   "source": [
    "file_dir = \"wavfiles_ultramic/Drill/\"\n",
    "file_list = os.listdir(file_dir)\n",
    "Drill_wav,fs = load_clean_signal(file_list,file_dir)"
   ]
  },
  {
   "cell_type": "code",
   "execution_count": 16,
   "metadata": {},
   "outputs": [],
   "source": [
    "file_dir = \"wavfiles_ultramic/Shaver/\"\n",
    "file_list = os.listdir(file_dir)\n",
    "Shaver_wav,fs = load_clean_signal(file_list,file_dir)"
   ]
  },
  {
   "cell_type": "code",
   "execution_count": 17,
   "metadata": {},
   "outputs": [
    {
     "name": "stdout",
     "output_type": "stream",
     "text": [
      "Shape of Drill wav: (1, 5760000)\n",
      "Shape of Shaver wav: (1, 5760000)\n",
      "Fs: 96000\n"
     ]
    }
   ],
   "source": [
    "print(\"Shape of Drill wav:\",Drill_wav.shape)\n",
    "print(\"Shape of Shaver wav:\",Shaver_wav.shape)\n",
    "print(\"Fs:\",fs)"
   ]
  },
  {
   "cell_type": "code",
   "execution_count": 18,
   "metadata": {},
   "outputs": [],
   "source": [
    "#Finish loading, then add the same normalization and gain as what we did in ultramic preprocessing\n",
    "normalize_gain = (np.iinfo(Drill_wav.dtype).max +\n",
    "                    1.0) / Drill_wav.max()\n",
    "Drill_wav_norm = normalize_float(Drill_wav, normalize_gain)\n",
    "Shaver_wav_norm = normalize_float(Shaver_wav, normalize_gain)"
   ]
  },
  {
   "cell_type": "code",
   "execution_count": 19,
   "metadata": {},
   "outputs": [
    {
     "name": "stdout",
     "output_type": "stream",
     "text": [
      "(2, 300, 19200)\n"
     ]
    }
   ],
   "source": [
    "#Clip each single object file into small segment with time period 0.2s\n",
    "delta_sample = int(0.2 * fs)\n",
    "Drill_wav_norm = Drill_wav_norm.reshape(-1,delta_sample)\n",
    "Shaver_wav_norm = Shaver_wav_norm.reshape(-1,delta_sample)\n",
    "wav_stack = np.stack([Drill_wav_norm,Shaver_wav_norm])\n",
    "print(wav_stack.shape)"
   ]
  },
  {
   "cell_type": "code",
   "execution_count": 20,
   "metadata": {},
   "outputs": [
    {
     "name": "stdout",
     "output_type": "stream",
     "text": [
      "(2, 300, 36, 513)\n"
     ]
    }
   ],
   "source": [
    "#Refer to ultramic code, we manually do stft on each small segment\n",
    "window_len = 1024\n",
    "hop_len = 512\n",
    "sample_start_idx = np.arange(0,delta_sample,hop_len)\n",
    "\n",
    "#Adjust the sample_start_idx into suitable size so that we don't need to pad zero in the end\n",
    "for i in range(len(sample_start_idx)-1,-1,-1):\n",
    "    if(sample_start_idx[i]+window_len<delta_sample):\n",
    "        sample_start_idx = sample_start_idx[0:i+1]\n",
    "        break\n",
    "\n",
    "stft_object = []\n",
    "#Iterate on Object\n",
    "for n in range(wav_stack.shape[0]):\n",
    "    stft_time_segment = []\n",
    "    #Iterate on time segment\n",
    "    for m in range(wav_stack.shape[1]):\n",
    "        window_sample = np.stack([wav_stack[n,m,i:i+window_len] for i in sample_start_idx])\n",
    "        f_FFT,fft_data = batch_windowed_fft(window_sample,fs)\n",
    "        stft_time_segment.append(fft_data)\n",
    "    stft_object.append(stft_time_segment)\n",
    "print(np.stack(stft_object).shape)"
   ]
  },
  {
   "cell_type": "code",
   "execution_count": 21,
   "metadata": {},
   "outputs": [
    {
     "name": "stdout",
     "output_type": "stream",
     "text": [
      "171 427\n",
      "256 278\n"
     ]
    }
   ],
   "source": [
    "f_low = 16000\n",
    "f_high = 40000\n",
    "f_low_del = 24000\n",
    "f_high_del = 26000\n",
    "f_low_idx,f_high_idx = fft_freq_clipping(f_FFT, f_low, f_high)\n",
    "f_low_didx,f_high_didx = fft_freq_clipping(f_FFT, f_low_del, f_high_del)\n",
    "print(f_low_idx,f_high_idx)\n",
    "print(f_low_didx,f_high_didx)"
   ]
  },
  {
   "cell_type": "code",
   "execution_count": 22,
   "metadata": {},
   "outputs": [
    {
     "name": "stdout",
     "output_type": "stream",
     "text": [
      "(2, 300, 36, 234)\n"
     ]
    }
   ],
   "source": [
    "stft_object_clipping_1 = np.stack(stft_object)[:,:,:,f_low_idx:f_low_didx]\n",
    "stft_object_clipping_2 = np.stack(stft_object)[:,:,:,f_high_didx:f_high_idx]\n",
    "stft_object_clipping=np.abs(np.concatenate([stft_object_clipping_1,stft_object_clipping_2],axis=-1))\n",
    "print(stft_object_clipping.shape)\n",
    "stft_object_clipping /= np.max(stft_object_clipping)\n",
    "#stft_object_clipping = np.log10(stft_object_clipping)"
   ]
  },
  {
   "cell_type": "code",
   "execution_count": 13,
   "metadata": {},
   "outputs": [],
   "source": [
    "np.save(\"stft_object_clipping.npy\",stft_object_clipping)"
   ]
  },
  {
   "cell_type": "markdown",
   "metadata": {},
   "source": [
    "## Shuffling the data so that it can achieve better performance during classification"
   ]
  },
  {
   "cell_type": "code",
   "execution_count": 5,
   "metadata": {},
   "outputs": [],
   "source": [
    "from sklearn.utils import shuffle\n",
    "src_root = \"wavfiles_tmp\"\n",
    "dst_root = \"wavfiles_ultramic\"\n",
    "wav_paths = glob('{}/**'.format(src_root), recursive=True)\n",
    "wav_paths = sorted([x for x in wav_paths if \".wav\" in x])\n",
    "for i in range(len(wav_paths)//2):\n",
    "    fs,test_tmp = wavf.read(wav_paths[2*i])\n",
    "    fs,train_tmp = wavf.read(wav_paths[2*i+1])\n",
    "    train_tmp = train_tmp.reshape(-1,96000)\n",
    "    test_tmp = test_tmp.reshape(-1,96000)\n",
    "    training_len = train_tmp.shape[0]\n",
    "    tmp = np.vstack([train_tmp,test_tmp])\n",
    "    tmp = shuffle(tmp)\n",
    "    print(wav_paths[2*i])\n",
    "    wavf.write(wav_paths[2*i+1].replace(src_root,dst_root),fs,tmp[:training_len,:].flatten())\n",
    "    wavf.write(wav_paths[2*i].replace(src_root,dst_root),fs,tmp[training_len:,:].flatten())"
   ]
  },
  {
   "cell_type": "markdown",
   "metadata": {},
   "source": [
    "## Step3.1: Training with the existing dataset,but use mobile phone to play"
   ]
  },
  {
   "cell_type": "code",
   "execution_count": 4,
   "metadata": {},
   "outputs": [
    {
     "name": "stdout",
     "output_type": "stream",
     "text": [
      "Wav source file paths: ['wavfiles_ultramic\\\\Acoustic_guitar_Train.wav', 'wavfiles_ultramic\\\\Bass_drum_Train.wav', 'wavfiles_ultramic\\\\Cello_Train.wav', 'wavfiles_ultramic\\\\Clarinet_Train.wav', 'wavfiles_ultramic\\\\Double_bass_Train.wav', 'wavfiles_ultramic\\\\Flute_Train.wav', 'wavfiles_ultramic\\\\Hi_hat_Train.wav', 'wavfiles_ultramic\\\\None_Train.wav', 'wavfiles_ultramic\\\\Saxophone_Train.wav', 'wavfiles_ultramic\\\\Snare_drum_Train.wav', 'wavfiles_ultramic\\\\Violin_or_fiddle_Train.wav']\n",
      "Labels are: ['Acoustic_guitar', 'Bass_drum', 'Cello', 'Clarinet', 'Double_bass', 'Flute', 'Hi_hat', 'None', 'Saxophone', 'Snare_drum', 'Violin_or_fiddle']\n"
     ]
    }
   ],
   "source": [
    "\"\"\"\n",
    "In a single for loop, we will implement the follwing job:\n",
    "1. Read the assmebled wav into the program\n",
    "2. Get the length(s/sample) of this wav file\n",
    "3. Manully apply the STFT to a single frame(1s)\n",
    "4. Manully add the label into the list corresponding to each second\n",
    "\"\"\"\n",
    "# Step1: Read the wav file in and label in\n",
    "src_root = \"wavfiles_ultramic\"\n",
    "wav_paths = glob('{}/**'.format(src_root), recursive=True)\n",
    "wav_paths = [x for x in wav_paths if \"Train.wav\" in x]\n",
    "labels = [os.path.split(x)[-1].split('_T')[0] for x in wav_paths]\n",
    "print(\"Wav source file paths:\",wav_paths)\n",
    "print(\"Labels are:\",labels)\n"
   ]
  },
  {
   "cell_type": "code",
   "execution_count": 8,
   "metadata": {},
   "outputs": [
    {
     "name": "stdout",
     "output_type": "stream",
     "text": [
      "Current Object is: Acoustic_guitar\n",
      "Number of training instance of current object: 6528000\n",
      "(68, 96000)\n",
      "Current Object is: Bass_drum\n",
      "Number of training instance of current object: 2688000\n",
      "(28, 96000)\n",
      "Current Object is: Cello\n",
      "Number of training instance of current object: 6912000\n",
      "(72, 96000)\n",
      "Current Object is: Clarinet\n",
      "Number of training instance of current object: 10752000\n",
      "(112, 96000)\n",
      "Current Object is: Double_bass\n",
      "Number of training instance of current object: 3840000\n",
      "(40, 96000)\n",
      "Current Object is: Flute\n",
      "Number of training instance of current object: 11904000\n",
      "(124, 96000)\n",
      "Current Object is: Hi_hat\n",
      "Number of training instance of current object: 2592000\n",
      "(27, 96000)\n",
      "Current Object is: None\n",
      "Number of training instance of current object: 9600000\n",
      "(100, 96000)\n",
      "Current Object is: Saxophone\n",
      "Number of training instance of current object: 13536000\n",
      "(141, 96000)\n",
      "Current Object is: Snare_drum\n",
      "Number of training instance of current object: 5376000\n",
      "(56, 96000)\n",
      "Current Object is: Violin_or_fiddle\n",
      "Number of training instance of current object: 7872000\n",
      "(82, 96000)\n",
      "(850, 48, 1921)\n",
      "850\n"
     ]
    }
   ],
   "source": [
    "# This training data is for all eleven classes, and use manual fft to do the stft\n",
    "train_data = []\n",
    "train_label = []\n",
    "fs = 96000\n",
    "window_len = int(0.04*fs)\n",
    "hop_len = window_len//2\n",
    "delta_sample = int(1*fs)\n",
    "sample_start_idx = np.arange(0,delta_sample,hop_len)\n",
    "#Adjust the sample_start_idx into suitable size so that we don't need to pad zero in the end\n",
    "for i in range(len(sample_start_idx)-1,-1,-1):\n",
    "    if(sample_start_idx[i]+window_len<delta_sample):\n",
    "        sample_start_idx = sample_start_idx[0:i+1]\n",
    "        break\n",
    "\n",
    "for i in range(len(wav_paths)):\n",
    "    cur_path = wav_paths[i]\n",
    "    cur_label = labels[i]\n",
    "    fs,cur_wav = wavf.read(cur_path)\n",
    "    print(\"Current Object is:\",cur_label)\n",
    "    print(\"Number of training instance of current object:\",len(cur_wav))\n",
    "    cur_wav = cur_wav.reshape(-1,delta_sample)\n",
    "    normalize_gain = (np.iinfo(cur_wav.dtype).max +\n",
    "                    1.0) / cur_wav.max()\n",
    "    cur_wav_norm = normalize_float(cur_wav, normalize_gain)\n",
    "    print(cur_wav_norm.shape)\n",
    "    for j in range(cur_wav_norm.shape[0]):\n",
    "        window_sample = np.stack([cur_wav_norm[j,k:k+window_len] for k in sample_start_idx])\n",
    "        f_FFT,fft_data = batch_windowed_fft(window_sample,fs)\n",
    "        #train_data.append(np.abs(fft_data))\n",
    "        train_data.append(fft_data)\n",
    "        train_label.append(labels[i])\n",
    "train_data = np.stack(train_data)\n",
    "print(train_data.shape)\n",
    "print(len(train_label))    "
   ]
  },
  {
   "cell_type": "code",
   "execution_count": 22,
   "metadata": {},
   "outputs": [],
   "source": [
    "np.save(\"npy_files/Train.npy\",train_data)\n",
    "np.save(\"npy_files/Test_label.npy\",train_label)"
   ]
  },
  {
   "cell_type": "code",
   "execution_count": 9,
   "metadata": {},
   "outputs": [
    {
     "name": "stdout",
     "output_type": "stream",
     "text": [
      "Wav source file paths: ['wavfiles_ultramic\\\\Cello_Train.wav', 'wavfiles_ultramic\\\\Clarinet_Train.wav', 'wavfiles_ultramic\\\\Flute_Train.wav', 'wavfiles_ultramic\\\\None_Train.wav']\n",
      "Labels are: ['Cello', 'Clarinet', 'Flute', 'None']\n"
     ]
    }
   ],
   "source": [
    "\"\"\"\n",
    "In a single for loop, we will implement the follwing job:\n",
    "1. Read the assmebled wav into the program\n",
    "2. Get the length(s/sample) of this wav file\n",
    "3. Manully apply the STFT to a single frame(1s)\n",
    "4. Manully add the label into the list corresponding to each second\n",
    "\"\"\"\n",
    "#This training data is for four classes,Cello,Clarinet,Flute,None and use signal.stft so the ML model size is ...50,1921\n",
    "# Step1: Read the wav file in and label in\n",
    "src_root = \"wavfiles_ultramic\"\n",
    "wav_paths = glob('{}/**'.format(src_root), recursive=True)\n",
    "wav_paths = [x for x in wav_paths if \"Train.wav\" in x]\n",
    "wav_paths = [x for x in wav_paths if (\"Cello\" in x or \"Clarinet\" in x or \"Flute\" in x or \"None\" in x)]\n",
    "labels = [os.path.split(x)[-1].split('_T')[0] for x in wav_paths]\n",
    "print(\"Wav source file paths:\",wav_paths)\n",
    "print(\"Labels are:\",labels)\n"
   ]
  },
  {
   "cell_type": "code",
   "execution_count": 10,
   "metadata": {},
   "outputs": [
    {
     "name": "stdout",
     "output_type": "stream",
     "text": [
      "Current Object is: Cello\n",
      "Number of training instance of current object: 6912000\n",
      "(72, 96000)\n",
      "Current Object is: Clarinet\n",
      "Number of training instance of current object: 10752000\n",
      "(112, 96000)\n",
      "Current Object is: Flute\n",
      "Number of training instance of current object: 11904000\n",
      "(124, 96000)\n",
      "Current Object is: None\n",
      "Number of training instance of current object: 9600000\n",
      "(100, 96000)\n",
      "(408, 48, 1921)\n",
      "408\n"
     ]
    }
   ],
   "source": [
    "train_data = []\n",
    "train_label = []\n",
    "fs = 96000\n",
    "window_len = int(0.04*fs)\n",
    "hop_len = window_len//2\n",
    "delta_sample = int(1*fs)\n",
    "sample_start_idx = np.arange(0,delta_sample,hop_len)\n",
    "#Adjust the sample_start_idx into suitable size so that we don't need to pad zero in the end\n",
    "for i in range(len(sample_start_idx)-1,-1,-1):\n",
    "    if(sample_start_idx[i]+window_len<delta_sample):\n",
    "        sample_start_idx = sample_start_idx[0:i+1]\n",
    "        break\n",
    "\n",
    "for i in range(len(wav_paths)):\n",
    "    cur_path = wav_paths[i]\n",
    "    cur_label = labels[i]\n",
    "    fs,cur_wav = wavf.read(cur_path)\n",
    "    print(\"Current Object is:\",cur_label)\n",
    "    print(\"Number of training instance of current object:\",len(cur_wav))\n",
    "    cur_wav = cur_wav.reshape(-1,delta_sample)\n",
    "    normalize_gain = (np.iinfo(cur_wav.dtype).max +\n",
    "                    1.0) / cur_wav.max()\n",
    "    cur_wav_norm = normalize_float(cur_wav, normalize_gain)\n",
    "    print(cur_wav_norm.shape)\n",
    "    for j in range(cur_wav_norm.shape[0]):\n",
    "        window_sample = np.stack([cur_wav_norm[j,k:k+window_len] for k in sample_start_idx])\n",
    "        f_FFT,fft_data = batch_windowed_fft(window_sample,fs)\n",
    "        #train_data.append(np.abs(fft_data))\n",
    "        train_data.append(fft_data)\n",
    "        train_label.append(labels[i])\n",
    "train_data = np.stack(train_data)\n",
    "print(train_data.shape)\n",
    "print(len(train_label))    "
   ]
  },
  {
   "cell_type": "code",
   "execution_count": 11,
   "metadata": {},
   "outputs": [
    {
     "name": "stdout",
     "output_type": "stream",
     "text": [
      "['Cello', 'Cello', 'Cello', 'Cello', 'Cello', 'Cello', 'Cello', 'Cello', 'Cello', 'Cello', 'Cello', 'Cello', 'Cello', 'Cello', 'Cello', 'Cello', 'Cello', 'Cello', 'Cello', 'Cello', 'Cello', 'Cello', 'Cello', 'Cello', 'Cello', 'Cello', 'Cello', 'Cello', 'Cello', 'Cello', 'Cello', 'Cello', 'Cello', 'Cello', 'Cello', 'Cello', 'Cello', 'Cello', 'Cello', 'Cello', 'Cello', 'Cello', 'Cello', 'Cello', 'Cello', 'Cello', 'Cello', 'Cello', 'Cello', 'Cello', 'Cello', 'Cello', 'Cello', 'Cello', 'Cello', 'Cello', 'Cello', 'Cello', 'Cello', 'Cello', 'Cello', 'Cello', 'Cello', 'Cello', 'Cello', 'Cello', 'Cello', 'Cello', 'Cello', 'Cello', 'Cello', 'Cello', 'Clarinet', 'Clarinet', 'Clarinet', 'Clarinet', 'Clarinet', 'Clarinet', 'Clarinet', 'Clarinet', 'Clarinet', 'Clarinet', 'Clarinet', 'Clarinet', 'Clarinet', 'Clarinet', 'Clarinet', 'Clarinet', 'Clarinet', 'Clarinet', 'Clarinet', 'Clarinet', 'Clarinet', 'Clarinet', 'Clarinet', 'Clarinet', 'Clarinet', 'Clarinet', 'Clarinet', 'Clarinet', 'Clarinet', 'Clarinet', 'Clarinet', 'Clarinet', 'Clarinet', 'Clarinet', 'Clarinet', 'Clarinet', 'Clarinet', 'Clarinet', 'Clarinet', 'Clarinet', 'Clarinet', 'Clarinet', 'Clarinet', 'Clarinet', 'Clarinet', 'Clarinet', 'Clarinet', 'Clarinet', 'Clarinet', 'Clarinet', 'Clarinet', 'Clarinet', 'Clarinet', 'Clarinet', 'Clarinet', 'Clarinet', 'Clarinet', 'Clarinet', 'Clarinet', 'Clarinet', 'Clarinet', 'Clarinet', 'Clarinet', 'Clarinet', 'Clarinet', 'Clarinet', 'Clarinet', 'Clarinet', 'Clarinet', 'Clarinet', 'Clarinet', 'Clarinet', 'Clarinet', 'Clarinet', 'Clarinet', 'Clarinet', 'Clarinet', 'Clarinet', 'Clarinet', 'Clarinet', 'Clarinet', 'Clarinet', 'Clarinet', 'Clarinet', 'Clarinet', 'Clarinet', 'Clarinet', 'Clarinet', 'Clarinet', 'Clarinet', 'Clarinet', 'Clarinet', 'Clarinet', 'Clarinet', 'Clarinet', 'Clarinet', 'Clarinet', 'Clarinet', 'Clarinet', 'Clarinet', 'Clarinet', 'Clarinet', 'Clarinet', 'Clarinet', 'Clarinet', 'Clarinet', 'Clarinet', 'Clarinet', 'Clarinet', 'Clarinet', 'Clarinet', 'Clarinet', 'Flute', 'Flute', 'Flute', 'Flute', 'Flute', 'Flute', 'Flute', 'Flute', 'Flute', 'Flute', 'Flute', 'Flute', 'Flute', 'Flute', 'Flute', 'Flute', 'Flute', 'Flute', 'Flute', 'Flute', 'Flute', 'Flute', 'Flute', 'Flute', 'Flute', 'Flute', 'Flute', 'Flute', 'Flute', 'Flute', 'Flute', 'Flute', 'Flute', 'Flute', 'Flute', 'Flute', 'Flute', 'Flute', 'Flute', 'Flute', 'Flute', 'Flute', 'Flute', 'Flute', 'Flute', 'Flute', 'Flute', 'Flute', 'Flute', 'Flute', 'Flute', 'Flute', 'Flute', 'Flute', 'Flute', 'Flute', 'Flute', 'Flute', 'Flute', 'Flute', 'Flute', 'Flute', 'Flute', 'Flute', 'Flute', 'Flute', 'Flute', 'Flute', 'Flute', 'Flute', 'Flute', 'Flute', 'Flute', 'Flute', 'Flute', 'Flute', 'Flute', 'Flute', 'Flute', 'Flute', 'Flute', 'Flute', 'Flute', 'Flute', 'Flute', 'Flute', 'Flute', 'Flute', 'Flute', 'Flute', 'Flute', 'Flute', 'Flute', 'Flute', 'Flute', 'Flute', 'Flute', 'Flute', 'Flute', 'Flute', 'Flute', 'Flute', 'Flute', 'Flute', 'Flute', 'Flute', 'Flute', 'Flute', 'Flute', 'Flute', 'Flute', 'Flute', 'Flute', 'Flute', 'Flute', 'Flute', 'Flute', 'Flute', 'Flute', 'Flute', 'Flute', 'Flute', 'Flute', 'Flute', 'None', 'None', 'None', 'None', 'None', 'None', 'None', 'None', 'None', 'None', 'None', 'None', 'None', 'None', 'None', 'None', 'None', 'None', 'None', 'None', 'None', 'None', 'None', 'None', 'None', 'None', 'None', 'None', 'None', 'None', 'None', 'None', 'None', 'None', 'None', 'None', 'None', 'None', 'None', 'None', 'None', 'None', 'None', 'None', 'None', 'None', 'None', 'None', 'None', 'None', 'None', 'None', 'None', 'None', 'None', 'None', 'None', 'None', 'None', 'None', 'None', 'None', 'None', 'None', 'None', 'None', 'None', 'None', 'None', 'None', 'None', 'None', 'None', 'None', 'None', 'None', 'None', 'None', 'None', 'None', 'None', 'None', 'None', 'None', 'None', 'None', 'None', 'None', 'None', 'None', 'None', 'None', 'None', 'None', 'None', 'None', 'None', 'None', 'None', 'None']\n"
     ]
    }
   ],
   "source": [
    "print(train_label)"
   ]
  },
  {
   "cell_type": "code",
   "execution_count": 12,
   "metadata": {},
   "outputs": [],
   "source": [
    "np.save(\"npy_files/Train_with_4.npy\",train_data)\n",
    "np.save(\"npy_files/Train_with_4_label.npy\",train_label)"
   ]
  },
  {
   "cell_type": "code",
   "execution_count": null,
   "metadata": {},
   "outputs": [],
   "source": []
  }
 ],
 "metadata": {
  "kernelspec": {
   "display_name": "Python 3.7.12 ('audio')",
   "language": "python",
   "name": "python3"
  },
  "language_info": {
   "codemirror_mode": {
    "name": "ipython",
    "version": 3
   },
   "file_extension": ".py",
   "mimetype": "text/x-python",
   "name": "python",
   "nbconvert_exporter": "python",
   "pygments_lexer": "ipython3",
   "version": "3.7.12"
  },
  "orig_nbformat": 4,
  "vscode": {
   "interpreter": {
    "hash": "fbc5f3dade03a6727cecaa7eacdf4c72954182e634778ac1645f6072e52dd5df"
   }
  }
 },
 "nbformat": 4,
 "nbformat_minor": 2
}
